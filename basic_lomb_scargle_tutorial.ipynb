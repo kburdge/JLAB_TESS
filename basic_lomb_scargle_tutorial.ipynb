{
 "cells": [
  {
   "cell_type": "code",
   "execution_count": 24,
   "id": "0ff008cc",
   "metadata": {},
   "outputs": [],
   "source": [
    "# This notebook introduces the basics of using the Lomb-Scargle period finding algorithm.\n",
    "\n",
    "# Lomb-Scargle is an analog of the fourier transform, adapted to the non-equispaced sampling characteristic of astronomical time series\n",
    "\n",
    "# Because the algorithm is an analog of a fourier transform, it is well suited to identifying periodic behavior with a strong sinusoidal component.\n",
    "\n",
    "# Other algorithms, such as box least squares, are better adapted for other types of waveforms, but are often much more computationally expensive.\n",
    "\n",
    "# First, we import the numerical python module (numpy)--further documentation can be found at https://numpy.org/\n",
    "\n",
    "import numpy as np\n",
    "\n",
    "# Now, we import the implemtnation of the algorithm included with astronomical python (astropy).\n",
    "# While it is not the fastest implementation, one advantage of using the astropy version of the algorithm, is that it includes excellent documentation: https://docs.astropy.org/en/stable/timeseries/lombscargle.html\n",
    "\n",
    "from astropy.timeseries import LombScargle"
   ]
  },
  {
   "cell_type": "code",
   "execution_count": 25,
   "id": "dfb64992",
   "metadata": {},
   "outputs": [
    {
     "name": "stdout",
     "output_type": "stream",
     "text": [
      "[50.41298303 18.30168805 96.98029811 89.15316021 69.67121823 30.20081328\n",
      " 11.68986302  8.20562315 91.68679753 99.16508803 15.56610226 46.45400882\n",
      " 73.41895533 63.00483507  3.29056886 50.70518818 80.61018119 43.23231088\n",
      " 95.28044185 42.51301961 33.75050967 15.40810858 31.48670564 34.35351325\n",
      " 99.84699568 17.75107973 88.57285178  4.74998732 40.34915409 90.62841972\n",
      "  4.30662719 57.87310363 65.41763491 56.34888467  0.8224664  51.17837574\n",
      "  0.75192339 37.86910467 88.94192788 86.35551412 15.56290256 72.19933051\n",
      " 70.28380302 73.3765438  54.85446775 52.26882891 44.64736254 26.50941858\n",
      " 18.16764181 42.31540952 74.23464888 68.53704633 14.01241757 37.14695952\n",
      " 86.37267545 17.91296841 45.23523376 53.25217357 38.46015371 80.1398411\n",
      " 97.68662582 32.86402895 98.27806567 27.73967843 89.77513563 25.71512143\n",
      " 47.04634209 20.40147307 15.95653634  4.50424106 55.83417698 85.75372525\n",
      " 55.04341537 59.79208057 49.06244487 15.64311334 76.94146342 44.11530595\n",
      " 95.48071839 45.64652085 14.07838775 55.60613918  6.2599872  15.50500453\n",
      " 57.41260753 13.33447269 68.74450429 22.85522084 14.84492864 19.43045861\n",
      " 29.64067349 46.47773227 98.68031348 92.48303614 83.73936899 89.8385767\n",
      " 87.79003449 13.42666578 37.20510744 34.63168656 97.79779484 84.56741062\n",
      " 83.41634642 56.85696994 80.85619767 76.58944304 59.04024355 44.70312027\n",
      " 57.96331086 39.62375922 16.08220292 96.50493497 99.46878457  4.61071022\n",
      " 53.40007064  8.44145846 57.85999333 83.22652038 20.64833739 21.67875264\n",
      " 60.83599952 88.16382722 76.15396584 82.3661445  90.30441362 51.36644481\n",
      " 75.67007407 97.90523007 23.74095593  9.10596926 89.24134945 31.49938639\n",
      " 21.53961191 35.78403361 61.25093902 63.06239805  1.30529894 15.69167972\n",
      " 28.85382404 70.37702904 78.76057431 81.10186483 56.87238832 29.47582056\n",
      " 45.69511354 38.51535221 42.49601271 25.51029425 46.44932322 76.80418862\n",
      " 94.15507143 51.55934433  3.69704533 23.32435207 46.01883682 54.09571677\n",
      " 93.81850731 26.19196842 76.39669255 87.44056386 38.08682797 91.50766008\n",
      " 26.93170893 83.78007103 61.05236776 96.92156436 84.88537689 63.46802174\n",
      " 11.14731574 80.31153983 92.98624343 16.57452606 63.14756425 93.20792218\n",
      " 53.33335956 87.66147371 79.8159413  14.84489361 57.12632502 57.99285004\n",
      " 21.08344423 48.57780716 45.41563235 48.7775268  59.03523953 16.46472235\n",
      " 79.28303565  9.11180483  1.68897113 91.95475674 55.65210339 30.74048037\n",
      "  1.21000952 30.42661619 87.29335217 49.80089805 68.86536325 63.26997156\n",
      " 21.0330264  36.39895013]\n"
     ]
    }
   ],
   "source": [
    "# Before unleashing the algorithm on real data, let us generate a synthetic signal to verify that the algorithm behaves as expected.\n",
    "\n",
    "# First, we use numpy's random functionality (https://numpy.org/doc/stable/reference/random/generated/numpy.random.uniform.html) to draw 200 samples from a uniform distribution spanning 100 days to simulate a random time series\n",
    "\n",
    "t = np.random.uniform(0, 100, 200)\n",
    "\n",
    "# And as a sanity check, we print the values.\n",
    "\n",
    "print(t)"
   ]
  },
  {
   "cell_type": "code",
   "execution_count": 26,
   "id": "b01fa47c",
   "metadata": {},
   "outputs": [
    {
     "name": "stdout",
     "output_type": "stream",
     "text": [
      "[ 0.04613108  0.8125312   0.98615862  0.5006569   0.51499712  0.07225804\n",
      "  0.00801602 -0.93912882  0.08062771  0.94032761 -0.49267902 -0.99998462\n",
      "  0.15533525 -0.9722165  -0.07429474  0.96406903  0.02519513 -0.13684\n",
      "  0.99916275 -0.41592654 -0.52187151  0.99269407  0.96590234  0.38821935\n",
      " -0.03259849 -0.63727549 -0.95216431 -0.02854891 -0.91253763  0.7753376\n",
      " -0.91525459 -0.77180029 -0.68412831  0.67752232  0.69709901  0.80984252\n",
      "  0.52287884  0.00449441  0.97738172 -0.56557822 -0.56275812  0.20514886\n",
      " -0.59547504  0.94904551  0.99952727 -0.71976912  0.8690171  -0.79478578\n",
      " -0.59047966 -0.99907698 -0.89213594  0.4318421  -0.23784716 -0.21194597\n",
      " -0.86437207 -0.33745457 -0.99973138 -0.86302436 -0.44687475  0.44098491\n",
      "  0.7019055  -0.3251743  -0.3234543  -0.55936519 -0.76011505 -0.54757319\n",
      "  0.91305025 -0.98943314 -0.13294243  0.02856284  0.99359835  0.70528065\n",
      "  0.13136874 -0.12585682  0.2381885   0.99509757 -0.37157818  0.8001706\n",
      "  0.40215019  0.39627873 -0.93182129  0.87128857 -0.96021017 -0.86746938\n",
      " -0.99999332 -0.99961392  0.98133035 -0.81338119 -0.26869704 -0.97460015\n",
      " -0.97080412 -0.81526128  0.95878012 -0.99911582 -0.7971207  -0.59824528\n",
      "  0.08694197  0.74169472 -0.98979324  0.96150916 -0.48351041  0.99978403\n",
      " -0.16742448  0.20068091  0.08917052  0.03812068  0.40940806 -0.37588243\n",
      "  0.06738918 -0.95905965  0.23183999  0.99085707  0.35765175 -0.41071021\n",
      "  0.98956179 -0.85289242 -0.51706543 -0.99985642 -0.97333055  0.11262037\n",
      " -0.93730505  0.1317168  -0.96161765  0.97508886 -0.92799323 -0.46804781\n",
      " -0.9808346   0.1345104   0.08882168  0.63153979  0.33531009  0.83146549\n",
      "  0.32915392 -0.38267387 -0.06588488 -0.31640305  0.77107873  0.40486729\n",
      "  0.12245578 -0.09832593  0.54060565  0.14386682 -0.19449685  0.21521609\n",
      " -0.7487946   0.81968685  0.00981996 -0.9999736  -0.99335534  0.70387231\n",
      " -0.69571473 -0.97532207  0.90727701 -0.98751741 -0.22447881  0.72681188\n",
      "  0.99819882 -0.31061771 -0.95570698  0.31581034  0.6212784  -0.99995109\n",
      " -0.52417553  0.12726358 -0.9411233  -0.11089205 -0.36198649 -0.65822825\n",
      " -0.98916366 -0.98487074 -0.89670074  0.36127801  0.95397476 -0.99446218\n",
      " -0.00575089 -0.25935495 -0.99894195 -0.26956729 -0.44768897  0.73763252\n",
      " -0.44550816  0.17694725  0.08115706  0.96573503  0.52346273 -0.62744836\n",
      " -0.33545144  0.50810102 -0.39538673 -0.52226346 -0.12771461  0.99003064\n",
      " -0.19614785 -0.37565366  0.32894773  0.0378008  -0.98556284 -0.94888387\n",
      "  0.74400798  0.23350141]\n",
      "[0. 0. 0. 0. 0. 0. 0. 0. 0. 0. 0. 0. 0. 0. 0. 0. 0. 0. 0. 0. 0. 0. 0. 0.\n",
      " 0. 0. 0. 0. 0. 0. 0. 0. 0. 0. 0. 0. 0. 0. 0. 0. 0. 0. 0. 0. 0. 0. 0. 0.\n",
      " 0. 0. 0. 0. 0. 0. 0. 0. 0. 0. 0. 0. 0. 0. 0. 0. 0. 0. 0. 0. 0. 0. 0. 0.\n",
      " 0. 0. 0. 0. 0. 0. 0. 0. 0. 0. 0. 0. 0. 0. 0. 0. 0. 0. 0. 0. 0. 0. 0. 0.\n",
      " 0. 0. 0. 0. 0. 0. 0. 0. 0. 0. 0. 0. 0. 0. 0. 0. 0. 0. 0. 0. 0. 0. 0. 0.\n",
      " 0. 0. 0. 0. 0. 0. 0. 0. 0. 0. 0. 0. 0. 0. 0. 0. 0. 0. 0. 0. 0. 0. 0. 0.\n",
      " 0. 0. 0. 0. 0. 0. 0. 0. 0. 0. 0. 0. 0. 0. 0. 0. 0. 0. 0. 0. 0. 0. 0. 0.\n",
      " 0. 0. 0. 0. 0. 0. 0. 0. 0. 0. 0. 0. 0. 0. 0. 0. 0. 0. 0. 0. 0. 0. 0. 0.\n",
      " 0. 0. 0. 0. 0. 0. 0. 0.]\n"
     ]
    }
   ],
   "source": [
    "# Now that we have our random timestamps, we need to simulate the flux values at these timestamps.\n",
    "\n",
    "# To test the algorithm, let us work with two sets of flux values, one corresponding to a sinusoidal waveform, and the other to no signal\n",
    "\n",
    "\n",
    "# For the sinusoid of period p, we have flux values:\n",
    "p = 0.24353234\n",
    "amplitude = 1\n",
    "flux = amplitude * np.sin(2 * np.pi / p * t)\n",
    "\n",
    "# And for the constant signal\n",
    "\n",
    "flux_const = np.zeros(len(t))\n",
    "\n",
    "# As always, let us print the arrays to check thing are behaving as expected\n",
    "\n",
    "print(flux)\n",
    "print(flux_const)"
   ]
  },
  {
   "cell_type": "code",
   "execution_count": 27,
   "id": "a0e0e05f",
   "metadata": {},
   "outputs": [],
   "source": [
    "# Ok, now in order to make things a bit more realistic, we must add scatter to the data. We can again use numpy's random funcationality for this.\n",
    "\n",
    "# We will add gaussian scatter corresponding to a standard deviation of 0.2.\n",
    "\n",
    "flux = flux + np.random.normal(0, 0.2, len(flux))\n",
    "\n",
    "flux_const = flux_const + np.random.normal(0, 0.2, len(flux))\n",
    "\n",
    "# The algorithm weights each measurement according to its measurement uncertainty. Since we just generated scatter with a uniform uncertainty, our array of weights will be constant.\n",
    "\n",
    "# Here the 0.2 represents the sigma we used to generate the noise\n",
    "\n",
    "uncertainty = 0.2\n",
    "\n",
    "# Since all uncertainties are the same, we can pass a scalar to the algorithm, but we could also pass an array of uncertainties if these were not uniform (which is typically the real case)"
   ]
  },
  {
   "cell_type": "code",
   "execution_count": 33,
   "id": "40597f01",
   "metadata": {},
   "outputs": [
    {
     "name": "stdout",
     "output_type": "stream",
     "text": [
      "0.24353667311474597\n"
     ]
    },
    {
     "data": {
      "image/png": "[encoded data removed]",
      "text/plain": [
       "<Figure size 432x288 with 1 Axes>"
      ]
     },
     "metadata": {
      "needs_background": "light"
     },
     "output_type": "display_data"
    }
   ],
   "source": [
    "# Now, let's try and run the algorithm!\n",
    "\n",
    "# First, let's try it on our real signal with a period of 1.\n",
    "\n",
    "frequency, power = LombScargle(t, flux, uncertainty).autopower()\n",
    "\n",
    "import matplotlib.pyplot as plt\n",
    "\n",
    "# Now, let's plot the power spectrum\n",
    "\n",
    "plt.plot(frequency, power)\n",
    "\n",
    "# We see a strong peak, but it doesn't correspond to the period we selected. This is because the x axis is in units of frequency\n",
    "\n",
    "# Let's find the value of the peak:\n",
    "\n",
    "best_freq = frequency[np.argmax(power)]\n",
    "\n",
    "best_period = 1 / best_freq\n",
    "\n",
    "print(best_period)\n",
    "\n",
    "# Nice, it matches!"
   ]
  },
  {
   "cell_type": "code",
   "execution_count": 38,
   "id": "91d1386c",
   "metadata": {},
   "outputs": [
    {
     "data": {
      "text/plain": [
       "[<matplotlib.lines.Line2D at 0x7f03294d7b50>]"
      ]
     },
     "execution_count": 38,
     "metadata": {},
     "output_type": "execute_result"
    },
    {
     "data": {
      "image/png": "[encoded data removed]",
      "text/plain": [
       "<Figure size 432x288 with 1 Axes>"
      ]
     },
     "metadata": {
      "needs_background": "light"
     },
     "output_type": "display_data"
    }
   ],
   "source": [
    "# As a sanity check, let's try the same on our constant signal\n",
    "\n",
    "frequency, power = LombScargle(t, flux_const, uncertainty).autopower()\n",
    "\n",
    "plt.plot(frequency, power)\n",
    "\n",
    "# We see that there is no significant peak in this data.\n",
    "\n",
    "# Before moving onto the next module working with real data, it is instructive to play with the amplitude of the signal, the sampling candence, etc, to see how it impacts the power spectrum returned by the algorithm."
   ]
  },
  {
   "cell_type": "code",
   "execution_count": null,
   "id": "79217c7f",
   "metadata": {},
   "outputs": [],
   "source": []
  }
 ],
 "metadata": {
  "kernelspec": {
   "display_name": "Python 3 (ipykernel)",
   "language": "python",
   "name": "python3"
  },
  "language_info": {
   "codemirror_mode": {
    "name": "ipython",
    "version": 3
   },
   "file_extension": ".py",
   "mimetype": "text/x-python",
   "name": "python",
   "nbconvert_exporter": "python",
   "pygments_lexer": "ipython3",
   "version": "3.9.5"
  }
 },
 "nbformat": 4,
 "nbformat_minor": 5
}
