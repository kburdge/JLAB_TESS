{
 "cells": [
  {
   "cell_type": "markdown",
   "id": "609f8a32-084d-4454-a6ce-28dbe81b381c",
   "metadata": {},
   "source": [
    "## Running the Lomb-Scargle algorithm on an entire TESS dataset"
   ]
  },
  {
   "cell_type": "code",
   "execution_count": 2,
   "id": "76ebdbdd",
   "metadata": {},
   "outputs": [],
   "source": [
    "# We recycle the function defined in the previous module for loading lightcurves:\n",
    "from astropy.io import fits\n",
    "from astropy.timeseries import LombScargle, BoxLeastSquares\n",
    "import astropy.units as u\n",
    "import matplotlib.pyplot as plt\n",
    "import numpy as np\n",
    "\n",
    "\n",
    "def load_LC(filename):\n",
    "    hdul = fits.open(filename)\n",
    "    t = hdul[1].data[\"TIME\"]\n",
    "    y = hdul[1].data[\"PDCSAP_FLUX\"]\n",
    "    dy = hdul[1].data[\"PDCSAP_FLUX_ERR\"]\n",
    "\n",
    "    TICID = hdul[1].header[\"TICID\"]\n",
    "    RA = hdul[1].header[\"RA_OBJ\"]\n",
    "    Dec = hdul[1].header[\"DEC_OBJ\"]\n",
    "    idx = y > 0\n",
    "    t = t[idx]\n",
    "    y = y[idx]\n",
    "    dy = dy[idx]\n",
    "\n",
    "    return t, y, dy, RA, Dec, TICID\n",
    "\n",
    "\n",
    "def binning(phases, y, dy, N=100):\n",
    "    binned_LC = []\n",
    "    mean_phases = np.linspace(0, 1 - 1 / N, N)\n",
    "    lightcurve = np.array((phases, y, dy)).T\n",
    "    lightcurve = lightcurve[np.argsort(lightcurve[:, 0])]\n",
    "    for i in mean_phases:\n",
    "        lightcurve_bin = lightcurve[lightcurve[:, 0] > i]\n",
    "        lightcurve_bin = lightcurve_bin[lightcurve_bin[:, 0] < i + 1 / N]\n",
    "        weights = 1 / (lightcurve_bin[:, 2] ** 2)\n",
    "        weighted_mean_flux = np.sum(lightcurve_bin[:, 1] * weights) / np.sum(weights)\n",
    "        weighted_mean_flux_error = np.sqrt(1 / np.sum(weights))\n",
    "        binned_LC.append((i + 0.5 / N, weighted_mean_flux, weighted_mean_flux_error))\n",
    "    binned_LC = np.array(binned_LC)\n",
    "\n",
    "    return binned_LC"
   ]
  },
  {
   "cell_type": "code",
   "execution_count": 2,
   "id": "b9637945",
   "metadata": {},
   "outputs": [
    {
     "name": "stderr",
     "output_type": "stream",
     "text": [
      "100%|█████████████████████████████████████████| 984/984 [00:14<00:00, 66.32it/s]"
     ]
    },
    {
     "name": "stdout",
     "output_type": "stream",
     "text": [
      "14.85924628599605\n"
     ]
    },
    {
     "name": "stderr",
     "output_type": "stream",
     "text": [
      "\n"
     ]
    }
   ],
   "source": [
    "# You are now ready to unleash this algorithm on the full TESS dataset. \n",
    "# As a test, let us check how long it actually takes the execute.\n",
    "\n",
    "import time\n",
    "import pathlib\n",
    "from tqdm import tqdm\n",
    "from multiprocessing.pool import ThreadPool\n",
    "\n",
    "\n",
    "def process_file(f):\n",
    "    '''\n",
    "    Load data from the fits file and return the period-finding results from running Lomb-Scargle .\n",
    "    '''\n",
    "    t, y, dy, RA, Dec, TICID = load_LC(f)\n",
    "    frequency, power = LombScargle(t, y, dy).autopower(maximum_frequency=360)\n",
    "    best_period = 1 / frequency[np.argmax(power)]\n",
    "    best_power = np.max(power)\n",
    "    return TICID, RA, Dec, best_period, best_power\n",
    "\n",
    "\n",
    "p = [str(pp) for pp in pathlib.Path(\"data/2min/\").glob(\"*\")]\n",
    "\n",
    "t1 = time.perf_counter()\n",
    "with ThreadPool(processes=16) as pool:\n",
    "    r_LS = list(tqdm(pool.imap(process_file, p), total=len(p)))\n",
    "    np.savetxt(\"LS.result\", r_LS)\n",
    "t2 = time.perf_counter()\n",
    "print(\"Seconds to run: \", t2 - t1)"
   ]
  },
  {
   "cell_type": "code",
   "execution_count": 3,
   "id": "d04001b9",
   "metadata": {},
   "outputs": [
    {
     "name": "stderr",
     "output_type": "stream",
     "text": [
      "100%|█████████████████████████████████████████| 984/984 [00:11<00:00, 82.14it/s]"
     ]
    },
    {
     "name": "stdout",
     "output_type": "stream",
     "text": [
      "11.999276863993146\n"
     ]
    },
    {
     "name": "stderr",
     "output_type": "stream",
     "text": [
      "\n"
     ]
    }
   ],
   "source": [
    "# Here is a slower algorithm designed to detect eclipses. \n",
    "# We'll probably want to use GPU based implementations of this one.\n",
    "from astropy.timeseries import BoxLeastSquares\n",
    "\n",
    "def process_file(f):\n",
    "\n",
    "    t, y, dy, RA, Dec, TICID = load_LC(f)\n",
    "    model = BoxLeastSquares(t * u.day, y, dy)\n",
    "    periodogram = model.autopower(0.5)\n",
    "    period_BLS = periodogram.period\n",
    "    power_BLS = periodogram.power\n",
    "    best_period = period_BLS[np.argmax(power_BLS)]\n",
    "    best_power = np.max(power_BLS)\n",
    "    return TICID, RA, Dec, best_period.value, best_power\n",
    "\n",
    "\n",
    "p = [str(pp) for pp in pathlib.Path(\"data/2min/\").glob(\"*\")]\n",
    "\n",
    "t1 = time.perf_counter()\n",
    "with ThreadPool(processes=16) as pool:\n",
    "    r_BLS = list(tqdm(pool.imap(process_file, p), total=len(p)))\n",
    "    np.savetxt(\"BLS.result\", r_BLS)\n",
    "t2 = time.perf_counter()\n",
    "print(t2 - t1)"
   ]
  },
  {
   "cell_type": "code",
   "execution_count": 5,
   "id": "6a60d06b",
   "metadata": {},
   "outputs": [
    {
     "name": "stdout",
     "output_type": "stream",
     "text": [
      "2min/tess2021232031932-s0042-0000002052405591-0213-s_lc.fits\n",
      "2min/tess2021232031932-s0042-0000000471014616-0213-s_lc.fits\n",
      "2min/tess2021258175143-s0043-0000000620330854-0214-s_lc.fits\n",
      "2min/tess2021258175143-s0043-0000000062178399-0214-s_lc.fits\n",
      "2min/tess2021204101404-s0041-0000000471015226-0212-s_lc.fits\n",
      "2min/tess2021175071901-s0040-0000001551010781-0211-s_lc.fits\n"
     ]
    },
    {
     "name": "stderr",
     "output_type": "stream",
     "text": [
      "/tmp/ipykernel_42508/1380486706.py:34: RuntimeWarning: invalid value encountered in double_scalars\n",
      "  weighted_mean_flux=np.sum(lightcurve_bin[:,1]*weights)/np.sum(weights)\n",
      "/tmp/ipykernel_42508/1380486706.py:35: RuntimeWarning: divide by zero encountered in double_scalars\n",
      "  weighted_mean_flux_error=np.sqrt(1/np.sum(weights))\n"
     ]
    },
    {
     "name": "stdout",
     "output_type": "stream",
     "text": [
      "2min/tess2021258175143-s0043-0000000640198164-0214-s_lc.fits\n",
      "2min/tess2021175071901-s0040-0000001686956634-0211-s_lc.fits\n",
      "2min/tess2021175071901-s0040-0000000743729769-0211-s_lc.fits\n",
      "2min/tess2021232031932-s0042-0000000610916920-0213-s_lc.fits\n",
      "2min/tess2021204101404-s0041-0000000950817374-0212-s_lc.fits\n",
      "2min/tess2021175071901-s0040-0000001867758053-0211-s_lc.fits\n",
      "2min/tess2021232031932-s0042-0000000471015156-0213-s_lc.fits\n"
     ]
    },
    {
     "name": "stderr",
     "output_type": "stream",
     "text": [
      "/tmp/ipykernel_42508/1380486706.py:34: RuntimeWarning: invalid value encountered in double_scalars\n",
      "  weighted_mean_flux=np.sum(lightcurve_bin[:,1]*weights)/np.sum(weights)\n",
      "/tmp/ipykernel_42508/1380486706.py:35: RuntimeWarning: divide by zero encountered in double_scalars\n",
      "  weighted_mean_flux_error=np.sqrt(1/np.sum(weights))\n",
      "/tmp/ipykernel_42508/1380486706.py:34: RuntimeWarning: invalid value encountered in double_scalars\n",
      "  weighted_mean_flux=np.sum(lightcurve_bin[:,1]*weights)/np.sum(weights)\n",
      "/tmp/ipykernel_42508/1380486706.py:35: RuntimeWarning: divide by zero encountered in double_scalars\n",
      "  weighted_mean_flux_error=np.sqrt(1/np.sum(weights))\n"
     ]
    },
    {
     "name": "stdout",
     "output_type": "stream",
     "text": [
      "2min/tess2021204101404-s0041-0000001968530114-0212-s_lc.fits\n",
      "2min/tess2021204101404-s0041-0000001102671080-0212-s_lc.fits\n",
      "2min/tess2021232031932-s0042-0000000114058447-0213-s_lc.fits\n",
      "2min/tess2021232031932-s0042-0000000471013908-0213-s_lc.fits\n",
      "2min/tess2021204101404-s0041-0000000900691235-0212-s_lc.fits\n",
      "2min/tess2021258175143-s0043-0000000630366283-0214-s_lc.fits\n",
      "2min/tess2021175071901-s0040-0000000802816681-0211-s_lc.fits\n",
      "2min/tess2021232031932-s0042-0000000402891559-0213-s_lc.fits\n",
      "2min/tess2021232031932-s0042-0000002028884626-0213-s_lc.fits\n",
      "2min/tess2021204101404-s0041-0000000027688847-0212-s_lc.fits\n",
      "2min/tess2021232031932-s0042-0000000620065517-0213-s_lc.fits\n",
      "2min/tess2021175071901-s0040-0000000158965515-0211-s_lc.fits\n",
      "2min/tess2021175071901-s0040-0000001684596565-0211-s_lc.fits\n",
      "2min/tess2021232031932-s0042-0000000640226759-0213-s_lc.fits\n",
      "2min/tess2021204101404-s0041-0000000158013652-0212-s_lc.fits\n",
      "2min/tess2021258175143-s0043-0000000438060759-0214-s_lc.fits\n",
      "2min/tess2021232031932-s0042-0000000422790055-0213-s_lc.fits\n",
      "2min/tess2021258175143-s0043-0000000247830057-0214-s_lc.fits\n",
      "2min/tess2021204101404-s0041-0000001102501819-0212-s_lc.fits\n",
      "2min/tess2021175071901-s0040-0000001201291562-0211-s_lc.fits\n",
      "2min/tess2021204101404-s0041-0000000841396049-0212-s_lc.fits\n",
      "2min/tess2021175071901-s0040-0000001867623786-0211-s_lc.fits\n",
      "2min/tess2021232031932-s0042-0000000630439812-0213-s_lc.fits\n",
      "2min/tess2021232031932-s0042-0000000610797380-0213-s_lc.fits\n"
     ]
    },
    {
     "name": "stderr",
     "output_type": "stream",
     "text": [
      "/tmp/ipykernel_42508/1380486706.py:34: RuntimeWarning: invalid value encountered in double_scalars\n",
      "  weighted_mean_flux=np.sum(lightcurve_bin[:,1]*weights)/np.sum(weights)\n",
      "/tmp/ipykernel_42508/1380486706.py:35: RuntimeWarning: divide by zero encountered in double_scalars\n",
      "  weighted_mean_flux_error=np.sqrt(1/np.sum(weights))\n"
     ]
    },
    {
     "name": "stdout",
     "output_type": "stream",
     "text": [
      "2min/tess2021175071901-s0040-0000001882339735-0211-s_lc.fits\n",
      "2min/tess2021232031932-s0042-0000002052410121-0213-s_lc.fits\n",
      "2min/tess2021204101404-s0041-0000000219465698-0212-s_lc.fits\n",
      "2min/tess2021232031932-s0042-0000000610920089-0213-s_lc.fits\n",
      "2min/tess2021175071901-s0040-0000001271245348-0211-s_lc.fits\n",
      "2min/tess2021175071901-s0040-0000001717651980-0211-s_lc.fits\n",
      "2min/tess2021175071901-s0040-0000001685055196-0211-s_lc.fits\n"
     ]
    },
    {
     "name": "stderr",
     "output_type": "stream",
     "text": [
      "/tmp/ipykernel_42508/1380486706.py:34: RuntimeWarning: invalid value encountered in double_scalars\n",
      "  weighted_mean_flux=np.sum(lightcurve_bin[:,1]*weights)/np.sum(weights)\n",
      "/tmp/ipykernel_42508/1380486706.py:35: RuntimeWarning: divide by zero encountered in double_scalars\n",
      "  weighted_mean_flux_error=np.sqrt(1/np.sum(weights))\n",
      "/tmp/ipykernel_42508/1380486706.py:34: RuntimeWarning: invalid value encountered in double_scalars\n",
      "  weighted_mean_flux=np.sum(lightcurve_bin[:,1]*weights)/np.sum(weights)\n",
      "/tmp/ipykernel_42508/1380486706.py:35: RuntimeWarning: divide by zero encountered in double_scalars\n",
      "  weighted_mean_flux_error=np.sqrt(1/np.sum(weights))\n"
     ]
    },
    {
     "name": "stdout",
     "output_type": "stream",
     "text": [
      "2min/tess2021232031932-s0042-0000000257914663-0213-s_lc.fits\n",
      "2min/tess2021175071901-s0040-0000001804495016-0211-s_lc.fits\n",
      "2min/tess2021175071901-s0040-0000001716693230-0211-s_lc.fits\n"
     ]
    },
    {
     "name": "stderr",
     "output_type": "stream",
     "text": [
      "/tmp/ipykernel_42508/1380486706.py:34: RuntimeWarning: invalid value encountered in double_scalars\n",
      "  weighted_mean_flux=np.sum(lightcurve_bin[:,1]*weights)/np.sum(weights)\n",
      "/tmp/ipykernel_42508/1380486706.py:35: RuntimeWarning: divide by zero encountered in double_scalars\n",
      "  weighted_mean_flux_error=np.sqrt(1/np.sum(weights))\n",
      "/tmp/ipykernel_42508/1380486706.py:34: RuntimeWarning: invalid value encountered in double_scalars\n",
      "  weighted_mean_flux=np.sum(lightcurve_bin[:,1]*weights)/np.sum(weights)\n",
      "/tmp/ipykernel_42508/1380486706.py:35: RuntimeWarning: divide by zero encountered in double_scalars\n",
      "  weighted_mean_flux_error=np.sqrt(1/np.sum(weights))\n"
     ]
    },
    {
     "name": "stdout",
     "output_type": "stream",
     "text": [
      "2min/tess2021204101404-s0041-0000001102699891-0212-s_lc.fits\n",
      "2min/tess2021175071901-s0040-0000000743506350-0211-s_lc.fits\n",
      "2min/tess2021175071901-s0040-0000000841218453-0211-s_lc.fits\n"
     ]
    },
    {
     "name": "stderr",
     "output_type": "stream",
     "text": [
      "/tmp/ipykernel_42508/1380486706.py:34: RuntimeWarning: invalid value encountered in double_scalars\n",
      "  weighted_mean_flux=np.sum(lightcurve_bin[:,1]*weights)/np.sum(weights)\n",
      "/tmp/ipykernel_42508/1380486706.py:35: RuntimeWarning: divide by zero encountered in double_scalars\n",
      "  weighted_mean_flux_error=np.sqrt(1/np.sum(weights))\n"
     ]
    },
    {
     "name": "stdout",
     "output_type": "stream",
     "text": [
      "2min/tess2021232031932-s0042-0000000365424515-0213-s_lc.fits\n",
      "2min/tess2021175071901-s0040-0000001001531452-0211-s_lc.fits\n",
      "2min/tess2021204101404-s0041-0000001964493032-0212-s_lc.fits\n"
     ]
    },
    {
     "name": "stderr",
     "output_type": "stream",
     "text": [
      "/tmp/ipykernel_42508/1380486706.py:34: RuntimeWarning: invalid value encountered in double_scalars\n",
      "  weighted_mean_flux=np.sum(lightcurve_bin[:,1]*weights)/np.sum(weights)\n",
      "/tmp/ipykernel_42508/1380486706.py:35: RuntimeWarning: divide by zero encountered in double_scalars\n",
      "  weighted_mean_flux_error=np.sqrt(1/np.sum(weights))\n",
      "/tmp/ipykernel_42508/1380486706.py:34: RuntimeWarning: invalid value encountered in double_scalars\n",
      "  weighted_mean_flux=np.sum(lightcurve_bin[:,1]*weights)/np.sum(weights)\n",
      "/tmp/ipykernel_42508/1380486706.py:35: RuntimeWarning: divide by zero encountered in double_scalars\n",
      "  weighted_mean_flux_error=np.sqrt(1/np.sum(weights))\n"
     ]
    },
    {
     "name": "stdout",
     "output_type": "stream",
     "text": [
      "2min/tess2021232031932-s0042-0000000620508416-0213-s_lc.fits\n",
      "2min/tess2021175071901-s0040-0000001717422686-0211-s_lc.fits\n"
     ]
    },
    {
     "name": "stderr",
     "output_type": "stream",
     "text": [
      "/tmp/ipykernel_42508/1380486706.py:34: RuntimeWarning: invalid value encountered in double_scalars\n",
      "  weighted_mean_flux=np.sum(lightcurve_bin[:,1]*weights)/np.sum(weights)\n",
      "/tmp/ipykernel_42508/1380486706.py:35: RuntimeWarning: divide by zero encountered in double_scalars\n",
      "  weighted_mean_flux_error=np.sqrt(1/np.sum(weights))\n",
      "/tmp/ipykernel_42508/1380486706.py:34: RuntimeWarning: invalid value encountered in double_scalars\n",
      "  weighted_mean_flux=np.sum(lightcurve_bin[:,1]*weights)/np.sum(weights)\n",
      "/tmp/ipykernel_42508/1380486706.py:35: RuntimeWarning: divide by zero encountered in double_scalars\n",
      "  weighted_mean_flux_error=np.sqrt(1/np.sum(weights))\n"
     ]
    },
    {
     "name": "stdout",
     "output_type": "stream",
     "text": [
      "2min/tess2021258175143-s0043-0000000610737918-0214-s_lc.fits\n",
      "2min/tess2021204101404-s0041-0000000950630749-0212-s_lc.fits\n",
      "2min/tess2021232031932-s0042-0000002052369451-0213-s_lc.fits\n",
      "2min/tess2021175071901-s0040-0000000042550954-0211-s_lc.fits\n",
      "2min/tess2021175071901-s0040-0000001507548590-0211-s_lc.fits\n",
      "2min/tess2021175071901-s0040-0000000219465698-0211-s_lc.fits\n",
      "2min/tess2021232031932-s0042-0000002052952077-0213-s_lc.fits\n",
      "2min/tess2021232031932-s0042-0000002052533092-0213-s_lc.fits\n",
      "2min/tess2021175071901-s0040-0000000137607346-0211-s_lc.fits\n",
      "2min/tess2021175071901-s0040-0000001687699796-0211-s_lc.fits\n",
      "2min/tess2021204101404-s0041-0000000199002765-0212-s_lc.fits\n",
      "2min/tess2021232031932-s0042-0000002024394548-0213-s_lc.fits\n",
      "2min/tess2021204101404-s0041-0000000357686299-0212-s_lc.fits\n",
      "2min/tess2021175071901-s0040-0000001681682662-0211-s_lc.fits\n"
     ]
    },
    {
     "name": "stderr",
     "output_type": "stream",
     "text": [
      "/tmp/ipykernel_42508/1380486706.py:34: RuntimeWarning: invalid value encountered in double_scalars\n",
      "  weighted_mean_flux=np.sum(lightcurve_bin[:,1]*weights)/np.sum(weights)\n",
      "/tmp/ipykernel_42508/1380486706.py:35: RuntimeWarning: divide by zero encountered in double_scalars\n",
      "  weighted_mean_flux_error=np.sqrt(1/np.sum(weights))\n",
      "/tmp/ipykernel_42508/1380486706.py:34: RuntimeWarning: invalid value encountered in double_scalars\n",
      "  weighted_mean_flux=np.sum(lightcurve_bin[:,1]*weights)/np.sum(weights)\n",
      "/tmp/ipykernel_42508/1380486706.py:35: RuntimeWarning: divide by zero encountered in double_scalars\n",
      "  weighted_mean_flux_error=np.sqrt(1/np.sum(weights))\n"
     ]
    },
    {
     "name": "stdout",
     "output_type": "stream",
     "text": [
      "2min/tess2021258175143-s0043-0000000052584399-0214-s_lc.fits\n",
      "2min/tess2021258175143-s0043-0000000620067407-0214-s_lc.fits\n",
      "2min/tess2021175071901-s0040-0000001851638470-0211-s_lc.fits\n",
      "2min/tess2021175071901-s0040-0000001001539888-0211-s_lc.fits\n",
      "2min/tess2021232031932-s0042-0000000471014358-0213-s_lc.fits\n"
     ]
    },
    {
     "name": "stderr",
     "output_type": "stream",
     "text": [
      "/tmp/ipykernel_42508/1380486706.py:34: RuntimeWarning: invalid value encountered in double_scalars\n",
      "  weighted_mean_flux=np.sum(lightcurve_bin[:,1]*weights)/np.sum(weights)\n",
      "/tmp/ipykernel_42508/1380486706.py:35: RuntimeWarning: divide by zero encountered in double_scalars\n",
      "  weighted_mean_flux_error=np.sqrt(1/np.sum(weights))\n"
     ]
    },
    {
     "name": "stdout",
     "output_type": "stream",
     "text": [
      "2min/tess2021175071901-s0040-0000001551446685-0211-s_lc.fits\n",
      "2min/tess2021175071901-s0040-0000001550239627-0211-s_lc.fits\n",
      "2min/tess2021175071901-s0040-0000001981700168-0211-s_lc.fits\n",
      "2min/tess2021175071901-s0040-0000001102630962-0211-s_lc.fits\n",
      "2min/tess2021175071901-s0040-0000001981724474-0211-s_lc.fits\n"
     ]
    },
    {
     "name": "stderr",
     "output_type": "stream",
     "text": [
      "/tmp/ipykernel_42508/1380486706.py:34: RuntimeWarning: invalid value encountered in double_scalars\n",
      "  weighted_mean_flux=np.sum(lightcurve_bin[:,1]*weights)/np.sum(weights)\n",
      "/tmp/ipykernel_42508/1380486706.py:35: RuntimeWarning: divide by zero encountered in double_scalars\n",
      "  weighted_mean_flux_error=np.sqrt(1/np.sum(weights))\n",
      "/tmp/ipykernel_42508/1380486706.py:34: RuntimeWarning: invalid value encountered in double_scalars\n",
      "  weighted_mean_flux=np.sum(lightcurve_bin[:,1]*weights)/np.sum(weights)\n",
      "/tmp/ipykernel_42508/1380486706.py:35: RuntimeWarning: divide by zero encountered in double_scalars\n",
      "  weighted_mean_flux_error=np.sqrt(1/np.sum(weights))\n"
     ]
    },
    {
     "name": "stdout",
     "output_type": "stream",
     "text": [
      "2min/tess2021175071901-s0040-0000000743645824-0211-s_lc.fits\n",
      "2min/tess2021232031932-s0042-0000000630368009-0213-s_lc.fits\n",
      "2min/tess2021175071901-s0040-0000000841258872-0211-s_lc.fits\n",
      "2min/tess2021258175143-s0043-0000000471015456-0214-s_lc.fits\n",
      "2min/tess2021204101404-s0041-0000001102373262-0212-s_lc.fits\n"
     ]
    },
    {
     "name": "stderr",
     "output_type": "stream",
     "text": [
      "/tmp/ipykernel_42508/1380486706.py:34: RuntimeWarning: invalid value encountered in double_scalars\n",
      "  weighted_mean_flux=np.sum(lightcurve_bin[:,1]*weights)/np.sum(weights)\n",
      "/tmp/ipykernel_42508/1380486706.py:35: RuntimeWarning: divide by zero encountered in double_scalars\n",
      "  weighted_mean_flux_error=np.sqrt(1/np.sum(weights))\n",
      "/tmp/ipykernel_42508/1380486706.py:34: RuntimeWarning: invalid value encountered in double_scalars\n",
      "  weighted_mean_flux=np.sum(lightcurve_bin[:,1]*weights)/np.sum(weights)\n",
      "/tmp/ipykernel_42508/1380486706.py:35: RuntimeWarning: divide by zero encountered in double_scalars\n",
      "  weighted_mean_flux_error=np.sqrt(1/np.sum(weights))\n"
     ]
    },
    {
     "name": "stdout",
     "output_type": "stream",
     "text": [
      "2min/tess2021175071901-s0040-0000001687144003-0211-s_lc.fits\n",
      "2min/tess2021175071901-s0040-0000001884531096-0211-s_lc.fits\n",
      "2min/tess2021232031932-s0042-0000000640819790-0213-s_lc.fits\n",
      "2min/tess2021204101404-s0041-0000001881042585-0212-s_lc.fits\n",
      "2min/tess2021175071901-s0040-0000001102699891-0211-s_lc.fits\n",
      "2min/tess2021258175143-s0043-0000000620288084-0214-s_lc.fits\n",
      "2min/tess2021204101404-s0041-0000001962859341-0212-s_lc.fits\n",
      "2min/tess2021258175143-s0043-0000000620246090-0214-s_lc.fits\n",
      "2min/tess2021175071901-s0040-0000001805168863-0211-s_lc.fits\n",
      "2min/tess2021258175143-s0043-0000000500511396-0214-s_lc.fits\n",
      "2min/tess2021204101404-s0041-0000000229742116-0212-s_lc.fits\n"
     ]
    },
    {
     "name": "stderr",
     "output_type": "stream",
     "text": [
      "/tmp/ipykernel_42508/1380486706.py:34: RuntimeWarning: invalid value encountered in double_scalars\n",
      "  weighted_mean_flux=np.sum(lightcurve_bin[:,1]*weights)/np.sum(weights)\n",
      "/tmp/ipykernel_42508/1380486706.py:35: RuntimeWarning: divide by zero encountered in double_scalars\n",
      "  weighted_mean_flux_error=np.sqrt(1/np.sum(weights))\n"
     ]
    },
    {
     "name": "stdout",
     "output_type": "stream",
     "text": [
      "2min/tess2021258175143-s0043-0000000611358291-0214-s_lc.fits\n",
      "2min/tess2021204101404-s0041-0000000471015196-0212-s_lc.fits\n",
      "2min/tess2021232031932-s0042-0000000640653628-0213-s_lc.fits\n",
      "2min/tess2021258175143-s0043-0000000366600548-0214-s_lc.fits\n",
      "2min/tess2021175071901-s0040-0000000233528682-0211-s_lc.fits\n",
      "2min/tess2021258175143-s0043-0000000630543887-0214-s_lc.fits\n",
      "2min/tess2021175071901-s0040-0000001683751329-0211-s_lc.fits\n",
      "2min/tess2021232031932-s0042-0000000611305959-0213-s_lc.fits\n",
      "2min/tess2021204101404-s0041-0000001943284979-0212-s_lc.fits\n",
      "2min/tess2021204101404-s0041-0000000950715961-0212-s_lc.fits\n",
      "2min/tess2021204101404-s0041-0000000950624860-0212-s_lc.fits\n",
      "2min/tess2021204101404-s0041-0000001944053379-0212-s_lc.fits\n",
      "2min/tess2021258175143-s0043-0000000630494896-0214-s_lc.fits\n",
      "2min/tess2021258175143-s0043-0000000014109643-0214-s_lc.fits\n",
      "2min/tess2021232031932-s0042-0000000610868676-0213-s_lc.fits\n",
      "2min/tess2021258175143-s0043-0000000257883269-0214-s_lc.fits\n",
      "2min/tess2021204101404-s0041-0000001551010781-0212-s_lc.fits\n",
      "2min/tess2021232031932-s0042-0000000620326256-0213-s_lc.fits\n",
      "2min/tess2021175071901-s0040-0000001715801474-0211-s_lc.fits\n"
     ]
    },
    {
     "name": "stderr",
     "output_type": "stream",
     "text": [
      "/tmp/ipykernel_42508/1380486706.py:34: RuntimeWarning: invalid value encountered in double_scalars\n",
      "  weighted_mean_flux=np.sum(lightcurve_bin[:,1]*weights)/np.sum(weights)\n",
      "/tmp/ipykernel_42508/1380486706.py:35: RuntimeWarning: divide by zero encountered in double_scalars\n",
      "  weighted_mean_flux_error=np.sqrt(1/np.sum(weights))\n"
     ]
    },
    {
     "name": "stdout",
     "output_type": "stream",
     "text": [
      "2min/tess2021204101404-s0041-0000001860183470-0212-s_lc.fits\n",
      "2min/tess2021204101404-s0041-0000001717701625-0212-s_lc.fits\n",
      "2min/tess2021204101404-s0041-0000001001652432-0212-s_lc.fits\n",
      "2min/tess2021175071901-s0040-0000000158971558-0211-s_lc.fits\n",
      "2min/tess2021175071901-s0040-0000000703257631-0211-s_lc.fits\n",
      "2min/tess2021232031932-s0042-0000002052463648-0213-s_lc.fits\n",
      "2min/tess2021232031932-s0042-0000000610720562-0213-s_lc.fits\n",
      "2min/tess2021175071901-s0040-0000001686706407-0211-s_lc.fits\n"
     ]
    },
    {
     "name": "stderr",
     "output_type": "stream",
     "text": [
      "/tmp/ipykernel_42508/1380486706.py:34: RuntimeWarning: invalid value encountered in double_scalars\n",
      "  weighted_mean_flux=np.sum(lightcurve_bin[:,1]*weights)/np.sum(weights)\n",
      "/tmp/ipykernel_42508/1380486706.py:35: RuntimeWarning: divide by zero encountered in double_scalars\n",
      "  weighted_mean_flux_error=np.sqrt(1/np.sum(weights))\n"
     ]
    },
    {
     "name": "stdout",
     "output_type": "stream",
     "text": [
      "2min/tess2021258175143-s0043-0000000640094228-0214-s_lc.fits\n",
      "2min/tess2021204101404-s0041-0000001102475240-0212-s_lc.fits\n",
      "2min/tess2021258175143-s0043-0000000611079336-0214-s_lc.fits\n",
      "2min/tess2021204101404-s0041-0000000900506106-0212-s_lc.fits\n",
      "2min/tess2021232031932-s0042-0000000610670307-0213-s_lc.fits\n",
      "2min/tess2021204101404-s0041-0000001718054365-0212-s_lc.fits\n",
      "2min/tess2021204101404-s0041-0000001956837940-0212-s_lc.fits\n",
      "2min/tess2021204101404-s0041-0000001967456296-0212-s_lc.fits\n",
      "2min/tess2021258175143-s0043-0000000620037161-0214-s_lc.fits\n",
      "2min/tess2021204101404-s0041-0000001271321142-0212-s_lc.fits\n",
      "2min/tess2021175071901-s0040-0000001550866355-0211-s_lc.fits\n",
      "2min/tess2021232031932-s0042-0000002024397902-0213-s_lc.fits\n",
      "2min/tess2021204101404-s0041-0000000950632891-0212-s_lc.fits\n",
      "2min/tess2021204101404-s0041-0000001951543433-0212-s_lc.fits\n",
      "2min/tess2021232031932-s0042-0000000640234517-0213-s_lc.fits\n",
      "2min/tess2021175071901-s0040-0000001687051740-0211-s_lc.fits\n",
      "2min/tess2021204101404-s0041-0000001102630962-0212-s_lc.fits\n",
      "2min/tess2021232031932-s0042-0000000512351457-0213-s_lc.fits\n",
      "2min/tess2021204101404-s0041-0000000030259477-0212-s_lc.fits\n",
      "2min/tess2021175071901-s0040-0000001798622175-0211-s_lc.fits\n",
      "2min/tess2021175071901-s0040-0000001401146608-0211-s_lc.fits\n",
      "2min/tess2021232031932-s0042-0000002052302926-0213-s_lc.fits\n",
      "2min/tess2021204101404-s0041-0000001271368020-0212-s_lc.fits\n",
      "2min/tess2021204101404-s0041-0000000373345692-0212-s_lc.fits\n",
      "2min/tess2021175071901-s0040-0000001859153737-0211-s_lc.fits\n"
     ]
    },
    {
     "name": "stderr",
     "output_type": "stream",
     "text": [
      "/tmp/ipykernel_42508/1380486706.py:34: RuntimeWarning: invalid value encountered in double_scalars\n",
      "  weighted_mean_flux=np.sum(lightcurve_bin[:,1]*weights)/np.sum(weights)\n",
      "/tmp/ipykernel_42508/1380486706.py:35: RuntimeWarning: divide by zero encountered in double_scalars\n",
      "  weighted_mean_flux_error=np.sqrt(1/np.sum(weights))\n",
      "/tmp/ipykernel_42508/1380486706.py:34: RuntimeWarning: invalid value encountered in double_scalars\n",
      "  weighted_mean_flux=np.sum(lightcurve_bin[:,1]*weights)/np.sum(weights)\n",
      "/tmp/ipykernel_42508/1380486706.py:35: RuntimeWarning: divide by zero encountered in double_scalars\n",
      "  weighted_mean_flux_error=np.sqrt(1/np.sum(weights))\n"
     ]
    },
    {
     "name": "stdout",
     "output_type": "stream",
     "text": [
      "2min/tess2021258175143-s0043-0000000257914663-0214-s_lc.fits\n",
      "2min/tess2021232031932-s0042-0000000630366283-0213-s_lc.fits\n",
      "2min/tess2021232031932-s0042-0000000610438986-0213-s_lc.fits\n",
      "2min/tess2021258175143-s0043-0000000610647254-0214-s_lc.fits\n",
      "2min/tess2021204101404-s0041-0000001001499579-0212-s_lc.fits\n",
      "2min/tess2021258175143-s0043-0000000630393150-0214-s_lc.fits\n",
      "2min/tess2021175071901-s0040-0000000373345692-0211-s_lc.fits\n",
      "2min/tess2021204101404-s0041-0000001943559334-0212-s_lc.fits\n",
      "2min/tess2021258175143-s0043-0000000611305959-0214-s_lc.fits\n",
      "2min/tess2021204101404-s0041-0000001201200652-0212-s_lc.fits\n",
      "2min/tess2021175071901-s0040-0000001884375799-0211-s_lc.fits\n",
      "2min/tess2021175071901-s0040-0000001846679185-0211-s_lc.fits\n",
      "2min/tess2021258175143-s0043-0000000006658814-0214-s_lc.fits\n"
     ]
    },
    {
     "name": "stderr",
     "output_type": "stream",
     "text": [
      "/tmp/ipykernel_42508/1380486706.py:34: RuntimeWarning: invalid value encountered in double_scalars\n",
      "  weighted_mean_flux=np.sum(lightcurve_bin[:,1]*weights)/np.sum(weights)\n",
      "/tmp/ipykernel_42508/1380486706.py:35: RuntimeWarning: divide by zero encountered in double_scalars\n",
      "  weighted_mean_flux_error=np.sqrt(1/np.sum(weights))\n",
      "/tmp/ipykernel_42508/1380486706.py:34: RuntimeWarning: invalid value encountered in double_scalars\n",
      "  weighted_mean_flux=np.sum(lightcurve_bin[:,1]*weights)/np.sum(weights)\n",
      "/tmp/ipykernel_42508/1380486706.py:35: RuntimeWarning: divide by zero encountered in double_scalars\n",
      "  weighted_mean_flux_error=np.sqrt(1/np.sum(weights))\n",
      "/tmp/ipykernel_42508/1380486706.py:34: RuntimeWarning: invalid value encountered in double_scalars\n",
      "  weighted_mean_flux=np.sum(lightcurve_bin[:,1]*weights)/np.sum(weights)\n",
      "/tmp/ipykernel_42508/1380486706.py:35: RuntimeWarning: divide by zero encountered in double_scalars\n",
      "  weighted_mean_flux_error=np.sqrt(1/np.sum(weights))\n"
     ]
    },
    {
     "name": "stdout",
     "output_type": "stream",
     "text": [
      "2min/tess2021175071901-s0040-0000001684868447-0211-s_lc.fits\n",
      "2min/tess2021232031932-s0042-0000000610931239-0213-s_lc.fits\n",
      "2min/tess2021204101404-s0041-0000001850055136-0212-s_lc.fits\n",
      "2min/tess2021175071901-s0040-0000001718271335-0211-s_lc.fits\n",
      "2min/tess2021204101404-s0041-0000001850013684-0212-s_lc.fits\n",
      "2min/tess2021232031932-s0042-0000000611288606-0213-s_lc.fits\n",
      "2min/tess2021232031932-s0042-0000000471015443-0213-s_lc.fits\n",
      "2min/tess2021175071901-s0040-0000001684974299-0211-s_lc.fits\n",
      "2min/tess2021175071901-s0040-0000001686957157-0211-s_lc.fits\n"
     ]
    },
    {
     "name": "stderr",
     "output_type": "stream",
     "text": [
      "/tmp/ipykernel_42508/1380486706.py:34: RuntimeWarning: invalid value encountered in double_scalars\n",
      "  weighted_mean_flux=np.sum(lightcurve_bin[:,1]*weights)/np.sum(weights)\n",
      "/tmp/ipykernel_42508/1380486706.py:35: RuntimeWarning: divide by zero encountered in double_scalars\n",
      "  weighted_mean_flux_error=np.sqrt(1/np.sum(weights))\n"
     ]
    },
    {
     "name": "stdout",
     "output_type": "stream",
     "text": [
      "2min/tess2021204101404-s0041-0000001717587293-0212-s_lc.fits\n",
      "2min/tess2021232031932-s0042-0000000269533234-0213-s_lc.fits\n",
      "2min/tess2021258175143-s0043-0000000611265192-0214-s_lc.fits\n"
     ]
    },
    {
     "name": "stderr",
     "output_type": "stream",
     "text": [
      "/tmp/ipykernel_42508/1380486706.py:34: RuntimeWarning: invalid value encountered in double_scalars\n",
      "  weighted_mean_flux=np.sum(lightcurve_bin[:,1]*weights)/np.sum(weights)\n",
      "/tmp/ipykernel_42508/1380486706.py:35: RuntimeWarning: divide by zero encountered in double_scalars\n",
      "  weighted_mean_flux_error=np.sqrt(1/np.sum(weights))\n"
     ]
    },
    {
     "name": "stdout",
     "output_type": "stream",
     "text": [
      "2min/tess2021232031932-s0042-0000000620238629-0213-s_lc.fits\n",
      "2min/tess2021175071901-s0040-0000001686614672-0211-s_lc.fits\n",
      "2min/tess2021175071901-s0040-0000001799129393-0211-s_lc.fits\n"
     ]
    },
    {
     "name": "stderr",
     "output_type": "stream",
     "text": [
      "/tmp/ipykernel_42508/1380486706.py:34: RuntimeWarning: invalid value encountered in double_scalars\n",
      "  weighted_mean_flux=np.sum(lightcurve_bin[:,1]*weights)/np.sum(weights)\n",
      "/tmp/ipykernel_42508/1380486706.py:35: RuntimeWarning: divide by zero encountered in double_scalars\n",
      "  weighted_mean_flux_error=np.sqrt(1/np.sum(weights))\n",
      "/tmp/ipykernel_42508/1380486706.py:34: RuntimeWarning: invalid value encountered in double_scalars\n",
      "  weighted_mean_flux=np.sum(lightcurve_bin[:,1]*weights)/np.sum(weights)\n",
      "/tmp/ipykernel_42508/1380486706.py:35: RuntimeWarning: divide by zero encountered in double_scalars\n",
      "  weighted_mean_flux_error=np.sqrt(1/np.sum(weights))\n",
      "/tmp/ipykernel_42508/1380486706.py:34: RuntimeWarning: invalid value encountered in double_scalars\n",
      "  weighted_mean_flux=np.sum(lightcurve_bin[:,1]*weights)/np.sum(weights)\n",
      "/tmp/ipykernel_42508/1380486706.py:35: RuntimeWarning: divide by zero encountered in double_scalars\n",
      "  weighted_mean_flux_error=np.sqrt(1/np.sum(weights))\n"
     ]
    },
    {
     "name": "stdout",
     "output_type": "stream",
     "text": [
      "2min/tess2021175071901-s0040-0000001710469777-0211-s_lc.fits\n",
      "2min/tess2021204101404-s0041-0000001884390851-0212-s_lc.fits\n",
      "2min/tess2021204101404-s0041-0000001877074139-0212-s_lc.fits\n",
      "2min/tess2021258175143-s0043-0000000610920089-0214-s_lc.fits\n",
      "2min/tess2021175071901-s0040-0000001715575723-0211-s_lc.fits\n",
      "2min/tess2021258175143-s0043-0000000502700388-0214-s_lc.fits\n",
      "2min/tess2021232031932-s0042-0000000640094228-0213-s_lc.fits\n",
      "2min/tess2021258175143-s0043-0000000620326256-0214-s_lc.fits\n",
      "2min/tess2021232031932-s0042-0000000640343432-0213-s_lc.fits\n",
      "2min/tess2021175071901-s0040-0000000841271943-0211-s_lc.fits\n",
      "2min/tess2021204101404-s0041-0000001971349206-0212-s_lc.fits\n",
      "2min/tess2021232031932-s0042-0000000630337644-0213-s_lc.fits\n",
      "2min/tess2021175071901-s0040-0000001550717716-0211-s_lc.fits\n"
     ]
    },
    {
     "name": "stderr",
     "output_type": "stream",
     "text": [
      "/tmp/ipykernel_42508/1380486706.py:34: RuntimeWarning: invalid value encountered in double_scalars\n",
      "  weighted_mean_flux=np.sum(lightcurve_bin[:,1]*weights)/np.sum(weights)\n",
      "/tmp/ipykernel_42508/1380486706.py:35: RuntimeWarning: divide by zero encountered in double_scalars\n",
      "  weighted_mean_flux_error=np.sqrt(1/np.sum(weights))\n",
      "/tmp/ipykernel_42508/1380486706.py:34: RuntimeWarning: invalid value encountered in double_scalars\n",
      "  weighted_mean_flux=np.sum(lightcurve_bin[:,1]*weights)/np.sum(weights)\n",
      "/tmp/ipykernel_42508/1380486706.py:35: RuntimeWarning: divide by zero encountered in double_scalars\n",
      "  weighted_mean_flux_error=np.sqrt(1/np.sum(weights))\n",
      "/tmp/ipykernel_42508/1380486706.py:34: RuntimeWarning: invalid value encountered in double_scalars\n",
      "  weighted_mean_flux=np.sum(lightcurve_bin[:,1]*weights)/np.sum(weights)\n",
      "/tmp/ipykernel_42508/1380486706.py:35: RuntimeWarning: divide by zero encountered in double_scalars\n",
      "  weighted_mean_flux_error=np.sqrt(1/np.sum(weights))\n"
     ]
    },
    {
     "name": "stdout",
     "output_type": "stream",
     "text": [
      "2min/tess2021175071901-s0040-0000000518706418-0211-s_lc.fits\n",
      "2min/tess2021204101404-s0041-0000001551405460-0212-s_lc.fits\n",
      "2min/tess2021175071901-s0040-0000001400711911-0211-s_lc.fits\n"
     ]
    },
    {
     "name": "stderr",
     "output_type": "stream",
     "text": [
      "/tmp/ipykernel_42508/1380486706.py:34: RuntimeWarning: invalid value encountered in double_scalars\n",
      "  weighted_mean_flux=np.sum(lightcurve_bin[:,1]*weights)/np.sum(weights)\n",
      "/tmp/ipykernel_42508/1380486706.py:35: RuntimeWarning: divide by zero encountered in double_scalars\n",
      "  weighted_mean_flux_error=np.sqrt(1/np.sum(weights))\n"
     ]
    },
    {
     "name": "stdout",
     "output_type": "stream",
     "text": [
      "2min/tess2021232031932-s0042-0000000422682080-0213-s_lc.fits\n",
      "2min/tess2021232031932-s0042-0000000611372272-0213-s_lc.fits\n",
      "2min/tess2021232031932-s0042-0000000630494896-0213-s_lc.fits\n",
      "2min/tess2021232031932-s0042-0000002052430471-0213-s_lc.fits\n",
      "2min/tess2021175071901-s0040-0000001717587293-0211-s_lc.fits\n",
      "2min/tess2021204101404-s0041-0000001102457429-0212-s_lc.fits\n",
      "2min/tess2021175071901-s0040-0000000802669605-0211-s_lc.fits\n"
     ]
    },
    {
     "name": "stderr",
     "output_type": "stream",
     "text": [
      "/tmp/ipykernel_42508/1380486706.py:34: RuntimeWarning: invalid value encountered in double_scalars\n",
      "  weighted_mean_flux=np.sum(lightcurve_bin[:,1]*weights)/np.sum(weights)\n",
      "/tmp/ipykernel_42508/1380486706.py:35: RuntimeWarning: divide by zero encountered in double_scalars\n",
      "  weighted_mean_flux_error=np.sqrt(1/np.sum(weights))\n",
      "/tmp/ipykernel_42508/1380486706.py:34: RuntimeWarning: invalid value encountered in double_scalars\n",
      "  weighted_mean_flux=np.sum(lightcurve_bin[:,1]*weights)/np.sum(weights)\n",
      "/tmp/ipykernel_42508/1380486706.py:35: RuntimeWarning: divide by zero encountered in double_scalars\n",
      "  weighted_mean_flux_error=np.sqrt(1/np.sum(weights))\n"
     ]
    },
    {
     "name": "stdout",
     "output_type": "stream",
     "text": [
      "2min/tess2021204101404-s0041-0000001951277195-0212-s_lc.fits\n",
      "2min/tess2021204101404-s0041-0000001715801474-0212-s_lc.fits\n",
      "2min/tess2021204101404-s0041-0000001717274142-0212-s_lc.fits\n",
      "2min/tess2021232031932-s0042-0000000620040408-0213-s_lc.fits\n",
      "2min/tess2021232031932-s0042-0000000611420241-0213-s_lc.fits\n",
      "2min/tess2021204101404-s0041-0000001869202427-0212-s_lc.fits\n",
      "2min/tess2021204101404-s0041-0000001883541601-0212-s_lc.fits\n",
      "2min/tess2021175071901-s0040-0000001550068575-0211-s_lc.fits\n",
      "2min/tess2021175071901-s0040-0000000007988895-0211-s_lc.fits\n",
      "2min/tess2021232031932-s0042-0000002025268899-0213-s_lc.fits\n",
      "2min/tess2021232031932-s0042-0000000620043250-0213-s_lc.fits\n",
      "2min/tess2021204101404-s0041-0000001947809368-0212-s_lc.fits\n",
      "2min/tess2021204101404-s0041-0000000841211215-0212-s_lc.fits\n",
      "2min/tess2021204101404-s0041-0000000950783725-0212-s_lc.fits\n",
      "2min/tess2021204101404-s0041-0000001954211442-0212-s_lc.fits\n",
      "2min/tess2021232031932-s0042-0000002052899696-0213-s_lc.fits\n"
     ]
    },
    {
     "name": "stderr",
     "output_type": "stream",
     "text": [
      "/tmp/ipykernel_42508/1380486706.py:34: RuntimeWarning: invalid value encountered in double_scalars\n",
      "  weighted_mean_flux=np.sum(lightcurve_bin[:,1]*weights)/np.sum(weights)\n",
      "/tmp/ipykernel_42508/1380486706.py:35: RuntimeWarning: divide by zero encountered in double_scalars\n",
      "  weighted_mean_flux_error=np.sqrt(1/np.sum(weights))\n"
     ]
    },
    {
     "name": "stdout",
     "output_type": "stream",
     "text": [
      "2min/tess2021232031932-s0042-0000002024451574-0213-s_lc.fits\n",
      "2min/tess2021175071901-s0040-0000001805149201-0211-s_lc.fits\n",
      "2min/tess2021204101404-s0041-0000001951087997-0212-s_lc.fits\n",
      "2min/tess2021232031932-s0042-0000000630393150-0213-s_lc.fits\n",
      "2min/tess2021175071901-s0040-0000001717396345-0211-s_lc.fits\n"
     ]
    },
    {
     "name": "stderr",
     "output_type": "stream",
     "text": [
      "/tmp/ipykernel_42508/1380486706.py:34: RuntimeWarning: invalid value encountered in double_scalars\n",
      "  weighted_mean_flux=np.sum(lightcurve_bin[:,1]*weights)/np.sum(weights)\n",
      "/tmp/ipykernel_42508/1380486706.py:35: RuntimeWarning: divide by zero encountered in double_scalars\n",
      "  weighted_mean_flux_error=np.sqrt(1/np.sum(weights))\n",
      "/tmp/ipykernel_42508/1380486706.py:34: RuntimeWarning: invalid value encountered in double_scalars\n",
      "  weighted_mean_flux=np.sum(lightcurve_bin[:,1]*weights)/np.sum(weights)\n",
      "/tmp/ipykernel_42508/1380486706.py:35: RuntimeWarning: divide by zero encountered in double_scalars\n",
      "  weighted_mean_flux_error=np.sqrt(1/np.sum(weights))\n"
     ]
    },
    {
     "name": "stdout",
     "output_type": "stream",
     "text": [
      "2min/tess2021232031932-s0042-0000000630488004-0213-s_lc.fits\n",
      "2min/tess2021175071901-s0040-0000000268394769-0211-s_lc.fits\n",
      "2min/tess2021204101404-s0041-0000000233718692-0212-s_lc.fits\n",
      "2min/tess2021232031932-s0042-0000000620288084-0213-s_lc.fits\n",
      "2min/tess2021175071901-s0040-0000000219460164-0211-s_lc.fits\n",
      "2min/tess2021232031932-s0042-0000000388814538-0213-s_lc.fits\n",
      "2min/tess2021232031932-s0042-0000000269427296-0213-s_lc.fits\n",
      "2min/tess2021175071901-s0040-0000001001640485-0211-s_lc.fits\n",
      "2min/tess2021204101404-s0041-0000000950620082-0212-s_lc.fits\n",
      "2min/tess2021175071901-s0040-0000001717274142-0211-s_lc.fits\n",
      "2min/tess2021175071901-s0040-0000001687378768-0211-s_lc.fits\n",
      "2min/tess2021204101404-s0041-0000001271245348-0212-s_lc.fits\n",
      "2min/tess2021175071901-s0040-0000000233718692-0211-s_lc.fits\n",
      "2min/tess2021175071901-s0040-0000000023936802-0211-s_lc.fits\n",
      "2min/tess2021232031932-s0042-0000002024075163-0213-s_lc.fits\n",
      "2min/tess2021232031932-s0042-0000000620151806-0213-s_lc.fits\n",
      "2min/tess2021204101404-s0041-0000001718039944-0212-s_lc.fits\n",
      "2min/tess2021258175143-s0043-0000000307371860-0214-s_lc.fits\n",
      "2min/tess2021258175143-s0043-0000000620229062-0214-s_lc.fits\n",
      "2min/tess2021232031932-s0042-0000000640557274-0213-s_lc.fits\n",
      "2min/tess2021175071901-s0040-0000001508083015-0211-s_lc.fits\n",
      "2min/tess2021175071901-s0040-0000001882421401-0211-s_lc.fits\n",
      "2min/tess2021232031932-s0042-0000002052740941-0213-s_lc.fits\n"
     ]
    },
    {
     "name": "stderr",
     "output_type": "stream",
     "text": [
      "/tmp/ipykernel_42508/1380486706.py:34: RuntimeWarning: invalid value encountered in double_scalars\n",
      "  weighted_mean_flux=np.sum(lightcurve_bin[:,1]*weights)/np.sum(weights)\n",
      "/tmp/ipykernel_42508/1380486706.py:35: RuntimeWarning: divide by zero encountered in double_scalars\n",
      "  weighted_mean_flux_error=np.sqrt(1/np.sum(weights))\n"
     ]
    },
    {
     "name": "stdout",
     "output_type": "stream",
     "text": [
      "2min/tess2021232031932-s0042-0000000630424757-0213-s_lc.fits\n",
      "2min/tess2021175071901-s0040-0000001981303228-0211-s_lc.fits\n",
      "2min/tess2021175071901-s0040-0000000950789463-0211-s_lc.fits\n"
     ]
    },
    {
     "name": "stderr",
     "output_type": "stream",
     "text": [
      "/tmp/ipykernel_42508/1380486706.py:34: RuntimeWarning: invalid value encountered in double_scalars\n",
      "  weighted_mean_flux=np.sum(lightcurve_bin[:,1]*weights)/np.sum(weights)\n",
      "/tmp/ipykernel_42508/1380486706.py:35: RuntimeWarning: divide by zero encountered in double_scalars\n",
      "  weighted_mean_flux_error=np.sqrt(1/np.sum(weights))\n"
     ]
    },
    {
     "name": "stdout",
     "output_type": "stream",
     "text": [
      "2min/tess2021175071901-s0040-0000001001499579-0211-s_lc.fits\n",
      "2min/tess2021175071901-s0040-0000000841202443-0211-s_lc.fits\n",
      "2min/tess2021175071901-s0040-0000001875971728-0211-s_lc.fits\n",
      "2min/tess2021232031932-s0042-0000000611188886-0213-s_lc.fits\n",
      "2min/tess2021204101404-s0041-0000001717396345-0212-s_lc.fits\n",
      "2min/tess2021232031932-s0042-0000000611208850-0213-s_lc.fits\n",
      "2min/tess2021258175143-s0043-0000000630439812-0214-s_lc.fits\n"
     ]
    },
    {
     "name": "stderr",
     "output_type": "stream",
     "text": [
      "/tmp/ipykernel_42508/1380486706.py:34: RuntimeWarning: invalid value encountered in double_scalars\n",
      "  weighted_mean_flux=np.sum(lightcurve_bin[:,1]*weights)/np.sum(weights)\n",
      "/tmp/ipykernel_42508/1380486706.py:35: RuntimeWarning: divide by zero encountered in double_scalars\n",
      "  weighted_mean_flux_error=np.sqrt(1/np.sum(weights))\n"
     ]
    },
    {
     "name": "stdout",
     "output_type": "stream",
     "text": [
      "2min/tess2021175071901-s0040-0000001718039944-0211-s_lc.fits\n",
      "2min/tess2021258175143-s0043-0000000611000962-0214-s_lc.fits\n",
      "2min/tess2021232031932-s0042-0000000620084724-0213-s_lc.fits\n",
      "2min/tess2021175071901-s0040-0000001804880408-0211-s_lc.fits\n",
      "2min/tess2021232031932-s0042-0000002052468854-0213-s_lc.fits\n",
      "2min/tess2021258175143-s0043-0000000620324891-0214-s_lc.fits\n",
      "2min/tess2021175071901-s0040-0000001883995514-0211-s_lc.fits\n",
      "2min/tess2021232031932-s0042-0000000640870966-0213-s_lc.fits\n",
      "2min/tess2021232031932-s0042-0000000471014620-0213-s_lc.fits\n"
     ]
    },
    {
     "name": "stderr",
     "output_type": "stream",
     "text": [
      "/tmp/ipykernel_42508/1380486706.py:34: RuntimeWarning: invalid value encountered in double_scalars\n",
      "  weighted_mean_flux=np.sum(lightcurve_bin[:,1]*weights)/np.sum(weights)\n",
      "/tmp/ipykernel_42508/1380486706.py:35: RuntimeWarning: divide by zero encountered in double_scalars\n",
      "  weighted_mean_flux_error=np.sqrt(1/np.sum(weights))\n"
     ]
    },
    {
     "name": "stdout",
     "output_type": "stream",
     "text": [
      "2min/tess2021232031932-s0042-0000002024048104-0213-s_lc.fits\n",
      "2min/tess2021258175143-s0043-0000000620481963-0214-s_lc.fits\n",
      "2min/tess2021175071901-s0040-0000001400576236-0211-s_lc.fits\n",
      "2min/tess2021175071901-s0040-0000000233235168-0211-s_lc.fits\n",
      "2min/tess2021232031932-s0042-0000002024213433-0213-s_lc.fits\n"
     ]
    },
    {
     "name": "stderr",
     "output_type": "stream",
     "text": [
      "/tmp/ipykernel_42508/1380486706.py:34: RuntimeWarning: invalid value encountered in double_scalars\n",
      "  weighted_mean_flux=np.sum(lightcurve_bin[:,1]*weights)/np.sum(weights)\n",
      "/tmp/ipykernel_42508/1380486706.py:35: RuntimeWarning: divide by zero encountered in double_scalars\n",
      "  weighted_mean_flux_error=np.sqrt(1/np.sum(weights))\n"
     ]
    },
    {
     "name": "stdout",
     "output_type": "stream",
     "text": [
      "2min/tess2021232031932-s0042-0000002052876331-0213-s_lc.fits\n",
      "2min/tess2021175071901-s0040-0000001400481144-0211-s_lc.fits\n",
      "2min/tess2021175071901-s0040-0000001687895113-0211-s_lc.fits\n",
      "2min/tess2021204101404-s0041-0000000142808656-0212-s_lc.fits\n"
     ]
    },
    {
     "name": "stderr",
     "output_type": "stream",
     "text": [
      "/tmp/ipykernel_42508/1380486706.py:34: RuntimeWarning: invalid value encountered in double_scalars\n",
      "  weighted_mean_flux=np.sum(lightcurve_bin[:,1]*weights)/np.sum(weights)\n",
      "/tmp/ipykernel_42508/1380486706.py:35: RuntimeWarning: divide by zero encountered in double_scalars\n",
      "  weighted_mean_flux_error=np.sqrt(1/np.sum(weights))\n",
      "/tmp/ipykernel_42508/1380486706.py:34: RuntimeWarning: invalid value encountered in double_scalars\n",
      "  weighted_mean_flux=np.sum(lightcurve_bin[:,1]*weights)/np.sum(weights)\n",
      "/tmp/ipykernel_42508/1380486706.py:35: RuntimeWarning: divide by zero encountered in double_scalars\n",
      "  weighted_mean_flux_error=np.sqrt(1/np.sum(weights))\n"
     ]
    },
    {
     "name": "stdout",
     "output_type": "stream",
     "text": [
      "2min/tess2021258175143-s0043-0000000248347454-0214-s_lc.fits\n",
      "2min/tess2021232031932-s0042-0000000649946154-0213-s_lc.fits\n",
      "2min/tess2021204101404-s0041-0000001971018704-0212-s_lc.fits\n",
      "2min/tess2021232031932-s0042-0000002024667225-0213-s_lc.fits\n",
      "2min/tess2021204101404-s0041-0000001951247713-0212-s_lc.fits\n"
     ]
    },
    {
     "name": "stderr",
     "output_type": "stream",
     "text": [
      "/tmp/ipykernel_42508/1380486706.py:34: RuntimeWarning: invalid value encountered in double_scalars\n",
      "  weighted_mean_flux=np.sum(lightcurve_bin[:,1]*weights)/np.sum(weights)\n",
      "/tmp/ipykernel_42508/1380486706.py:35: RuntimeWarning: divide by zero encountered in double_scalars\n",
      "  weighted_mean_flux_error=np.sqrt(1/np.sum(weights))\n",
      "/tmp/ipykernel_42508/1380486706.py:34: RuntimeWarning: invalid value encountered in double_scalars\n",
      "  weighted_mean_flux=np.sum(lightcurve_bin[:,1]*weights)/np.sum(weights)\n",
      "/tmp/ipykernel_42508/1380486706.py:35: RuntimeWarning: divide by zero encountered in double_scalars\n",
      "  weighted_mean_flux_error=np.sqrt(1/np.sum(weights))\n"
     ]
    },
    {
     "name": "stdout",
     "output_type": "stream",
     "text": [
      "2min/tess2021232031932-s0042-0000002028380653-0213-s_lc.fits\n",
      "2min/tess2021232031932-s0042-0000000102183555-0213-s_lc.fits\n",
      "2min/tess2021232031932-s0042-0000000243015712-0213-s_lc.fits\n",
      "2min/tess2021258175143-s0043-0000000611318024-0214-s_lc.fits\n",
      "2min/tess2021232031932-s0042-0000000640454981-0213-s_lc.fits\n",
      "2min/tess2021204101404-s0041-0000000841246844-0212-s_lc.fits\n",
      "2min/tess2021204101404-s0041-0000000047877534-0212-s_lc.fits\n",
      "2min/tess2021204101404-s0041-0000001967225502-0212-s_lc.fits\n",
      "2min/tess2021258175143-s0043-0000000630337644-0214-s_lc.fits\n"
     ]
    },
    {
     "name": "stderr",
     "output_type": "stream",
     "text": [
      "/tmp/ipykernel_42508/1380486706.py:34: RuntimeWarning: invalid value encountered in double_scalars\n",
      "  weighted_mean_flux=np.sum(lightcurve_bin[:,1]*weights)/np.sum(weights)\n",
      "/tmp/ipykernel_42508/1380486706.py:35: RuntimeWarning: divide by zero encountered in double_scalars\n",
      "  weighted_mean_flux_error=np.sqrt(1/np.sum(weights))\n"
     ]
    },
    {
     "name": "stdout",
     "output_type": "stream",
     "text": [
      "2min/tess2021232031932-s0042-0000000248347454-0213-s_lc.fits\n",
      "2min/tess2021258175143-s0043-0000000212980829-0214-s_lc.fits\n",
      "2min/tess2021175071901-s0040-0000001683988046-0211-s_lc.fits\n",
      "2min/tess2021175071901-s0040-0000001813782210-0211-s_lc.fits\n",
      "2min/tess2021204101404-s0041-0000001950967145-0212-s_lc.fits\n"
     ]
    },
    {
     "name": "stderr",
     "output_type": "stream",
     "text": [
      "/tmp/ipykernel_42508/1380486706.py:34: RuntimeWarning: invalid value encountered in double_scalars\n",
      "  weighted_mean_flux=np.sum(lightcurve_bin[:,1]*weights)/np.sum(weights)\n",
      "/tmp/ipykernel_42508/1380486706.py:35: RuntimeWarning: divide by zero encountered in double_scalars\n",
      "  weighted_mean_flux_error=np.sqrt(1/np.sum(weights))\n"
     ]
    },
    {
     "name": "stdout",
     "output_type": "stream",
     "text": [
      "2min/tess2021175071901-s0040-0000000022226183-0211-s_lc.fits\n",
      "2min/tess2021258175143-s0043-0000000611372272-0214-s_lc.fits\n",
      "2min/tess2021204101404-s0041-0000001880051960-0212-s_lc.fits\n",
      "2min/tess2021175071901-s0040-0000001271341297-0211-s_lc.fits\n",
      "2min/tess2021175071901-s0040-0000001102584065-0211-s_lc.fits\n",
      "2min/tess2021258175143-s0043-0000000630424757-0214-s_lc.fits\n",
      "2min/tess2021175071901-s0040-0000001859148210-0211-s_lc.fits\n",
      "2min/tess2021204101404-s0041-0000000219460164-0212-s_lc.fits\n",
      "2min/tess2021175071901-s0040-0000000258827747-0211-s_lc.fits\n",
      "2min/tess2021232031932-s0042-0000000640966555-0213-s_lc.fits\n",
      "2min/tess2021258175143-s0043-0000000611287510-0214-s_lc.fits\n",
      "2min/tess2021175071901-s0040-0000001687160917-0211-s_lc.fits\n",
      "2min/tess2021232031932-s0042-0000000630382685-0213-s_lc.fits\n",
      "2min/tess2021232031932-s0042-0000002028886492-0213-s_lc.fits\n",
      "2min/tess2021258175143-s0043-0000000293394054-0214-s_lc.fits\n",
      "2min/tess2021232031932-s0042-0000002024493113-0213-s_lc.fits\n",
      "2min/tess2021232031932-s0042-0000002024451499-0213-s_lc.fits\n",
      "2min/tess2021232031932-s0042-0000000611265192-0213-s_lc.fits\n",
      "2min/tess2021175071901-s0040-0000000193871912-0211-s_lc.fits\n",
      "2min/tess2021232031932-s0042-0000002025258078-0213-s_lc.fits\n",
      "2min/tess2021175071901-s0040-0000001551185366-0211-s_lc.fits\n",
      "2min/tess2021175071901-s0040-0000000047877534-0211-s_lc.fits\n",
      "2min/tess2021232031932-s0042-0000002052892789-0213-s_lc.fits\n",
      "2min/tess2021232031932-s0042-0000000620330854-0213-s_lc.fits\n",
      "2min/tess2021204101404-s0041-0000000233177285-0212-s_lc.fits\n",
      "2min/tess2021204101404-s0041-0000001201291562-0212-s_lc.fits\n",
      "2min/tess2021204101404-s0041-0000000194061710-0212-s_lc.fits\n",
      "2min/tess2021175071901-s0040-0000000705123011-0211-s_lc.fits\n",
      "2min/tess2021175071901-s0040-0000001687144647-0211-s_lc.fits\n",
      "2min/tess2021175071901-s0040-0000001687089584-0211-s_lc.fits\n",
      "2min/tess2021232031932-s0042-0000000630641085-0213-s_lc.fits\n",
      "2min/tess2021258175143-s0043-0000000630406372-0214-s_lc.fits\n",
      "2min/tess2021204101404-s0041-0000001717648382-0212-s_lc.fits\n",
      "2min/tess2021175071901-s0040-0000001681888845-0211-s_lc.fits\n",
      "2min/tess2021175071901-s0040-0000001685695306-0211-s_lc.fits\n",
      "2min/tess2021258175143-s0043-0000000034692254-0214-s_lc.fits\n"
     ]
    },
    {
     "name": "stderr",
     "output_type": "stream",
     "text": [
      "/tmp/ipykernel_42508/1380486706.py:34: RuntimeWarning: invalid value encountered in double_scalars\n",
      "  weighted_mean_flux=np.sum(lightcurve_bin[:,1]*weights)/np.sum(weights)\n",
      "/tmp/ipykernel_42508/1380486706.py:35: RuntimeWarning: divide by zero encountered in double_scalars\n",
      "  weighted_mean_flux_error=np.sqrt(1/np.sum(weights))\n",
      "/tmp/ipykernel_42508/1380486706.py:34: RuntimeWarning: invalid value encountered in double_scalars\n",
      "  weighted_mean_flux=np.sum(lightcurve_bin[:,1]*weights)/np.sum(weights)\n",
      "/tmp/ipykernel_42508/1380486706.py:35: RuntimeWarning: divide by zero encountered in double_scalars\n",
      "  weighted_mean_flux_error=np.sqrt(1/np.sum(weights))\n"
     ]
    },
    {
     "name": "stdout",
     "output_type": "stream",
     "text": [
      "2min/tess2021204101404-s0041-0000001956853273-0212-s_lc.fits\n",
      "2min/tess2021204101404-s0041-0000001400711911-0212-s_lc.fits\n",
      "2min/tess2021175071901-s0040-0000001854964496-0211-s_lc.fits\n"
     ]
    },
    {
     "name": "stderr",
     "output_type": "stream",
     "text": [
      "/tmp/ipykernel_42508/1380486706.py:34: RuntimeWarning: invalid value encountered in double_scalars\n",
      "  weighted_mean_flux=np.sum(lightcurve_bin[:,1]*weights)/np.sum(weights)\n",
      "/tmp/ipykernel_42508/1380486706.py:35: RuntimeWarning: divide by zero encountered in double_scalars\n",
      "  weighted_mean_flux_error=np.sqrt(1/np.sum(weights))\n"
     ]
    },
    {
     "name": "stdout",
     "output_type": "stream",
     "text": [
      "2min/tess2021204101404-s0041-0000001883165983-0212-s_lc.fits\n",
      "2min/tess2021258175143-s0043-0000000630442213-0214-s_lc.fits\n",
      "2min/tess2021204101404-s0041-0000001715947394-0212-s_lc.fits\n",
      "2min/tess2021204101404-s0041-0000000841202443-0212-s_lc.fits\n",
      "2min/tess2021175071901-s0040-0000001551405460-0211-s_lc.fits\n",
      "2min/tess2021175071901-s0040-0000000841325183-0211-s_lc.fits\n",
      "2min/tess2021204101404-s0041-0000000258827747-0212-s_lc.fits\n",
      "2min/tess2021204101404-s0041-0000000841258872-0212-s_lc.fits\n",
      "2min/tess2021175071901-s0040-0000000950783725-0211-s_lc.fits\n",
      "2min/tess2021232031932-s0042-0000000630362244-0213-s_lc.fits\n",
      "2min/tess2021232031932-s0042-0000002052729510-0213-s_lc.fits\n",
      "2min/tess2021232031932-s0042-0000002052887869-0213-s_lc.fits\n",
      "2min/tess2021175071901-s0040-0000001717329946-0211-s_lc.fits\n"
     ]
    },
    {
     "name": "stderr",
     "output_type": "stream",
     "text": [
      "/tmp/ipykernel_42508/1380486706.py:34: RuntimeWarning: invalid value encountered in double_scalars\n",
      "  weighted_mean_flux=np.sum(lightcurve_bin[:,1]*weights)/np.sum(weights)\n",
      "/tmp/ipykernel_42508/1380486706.py:35: RuntimeWarning: divide by zero encountered in double_scalars\n",
      "  weighted_mean_flux_error=np.sqrt(1/np.sum(weights))\n",
      "/tmp/ipykernel_42508/1380486706.py:34: RuntimeWarning: invalid value encountered in double_scalars\n",
      "  weighted_mean_flux=np.sum(lightcurve_bin[:,1]*weights)/np.sum(weights)\n",
      "/tmp/ipykernel_42508/1380486706.py:35: RuntimeWarning: divide by zero encountered in double_scalars\n",
      "  weighted_mean_flux_error=np.sqrt(1/np.sum(weights))\n",
      "/tmp/ipykernel_42508/1380486706.py:34: RuntimeWarning: invalid value encountered in double_scalars\n",
      "  weighted_mean_flux=np.sum(lightcurve_bin[:,1]*weights)/np.sum(weights)\n",
      "/tmp/ipykernel_42508/1380486706.py:35: RuntimeWarning: divide by zero encountered in double_scalars\n",
      "  weighted_mean_flux_error=np.sqrt(1/np.sum(weights))\n"
     ]
    },
    {
     "name": "stdout",
     "output_type": "stream",
     "text": [
      "2min/tess2021204101404-s0041-0000001972490882-0212-s_lc.fits\n",
      "2min/tess2021175071901-s0040-0000000235612536-0211-s_lc.fits\n",
      "2min/tess2021175071901-s0040-0000001884009881-0211-s_lc.fits\n",
      "2min/tess2021232031932-s0042-0000002024377279-0213-s_lc.fits\n",
      "2min/tess2021232031932-s0042-0000000630543887-0213-s_lc.fits\n",
      "2min/tess2021258175143-s0043-0000000365424515-0214-s_lc.fits\n",
      "2min/tess2021232031932-s0042-0000000471015192-0213-s_lc.fits\n",
      "2min/tess2021204101404-s0041-0000001551262666-0212-s_lc.fits\n",
      "2min/tess2021204101404-s0041-0000001873967715-0212-s_lc.fits\n",
      "2min/tess2021232031932-s0042-0000000270405574-0213-s_lc.fits\n",
      "2min/tess2021175071901-s0040-0000001271321142-0211-s_lc.fits\n",
      "2min/tess2021232031932-s0042-0000002053258208-0213-s_lc.fits\n",
      "2min/tess2021258175143-s0043-0000000268442272-0214-s_lc.fits\n",
      "2min/tess2021175071901-s0040-0000001812605728-0211-s_lc.fits\n"
     ]
    },
    {
     "name": "stderr",
     "output_type": "stream",
     "text": [
      "/tmp/ipykernel_42508/1380486706.py:34: RuntimeWarning: invalid value encountered in double_scalars\n",
      "  weighted_mean_flux=np.sum(lightcurve_bin[:,1]*weights)/np.sum(weights)\n",
      "/tmp/ipykernel_42508/1380486706.py:35: RuntimeWarning: divide by zero encountered in double_scalars\n",
      "  weighted_mean_flux_error=np.sqrt(1/np.sum(weights))\n",
      "/tmp/ipykernel_42508/1380486706.py:34: RuntimeWarning: invalid value encountered in double_scalars\n",
      "  weighted_mean_flux=np.sum(lightcurve_bin[:,1]*weights)/np.sum(weights)\n",
      "/tmp/ipykernel_42508/1380486706.py:35: RuntimeWarning: divide by zero encountered in double_scalars\n",
      "  weighted_mean_flux_error=np.sqrt(1/np.sum(weights))\n"
     ]
    },
    {
     "name": "stdout",
     "output_type": "stream",
     "text": [
      "2min/tess2021175071901-s0040-0000000322521242-0211-s_lc.fits\n",
      "2min/tess2021204101404-s0041-0000001001468000-0212-s_lc.fits\n",
      "2min/tess2021175071901-s0040-0000000802582518-0211-s_lc.fits\n",
      "2min/tess2021258175143-s0043-0000000471014634-0214-s_lc.fits\n",
      "2min/tess2021258175143-s0043-0000000620508416-0214-s_lc.fits\n",
      "2min/tess2021232031932-s0042-0000002052446152-0213-s_lc.fits\n",
      "2min/tess2021258175143-s0043-0000000268147623-0214-s_lc.fits\n",
      "2min/tess2021232031932-s0042-0000000436839350-0213-s_lc.fits\n",
      "2min/tess2021232031932-s0042-0000002024213648-0213-s_lc.fits\n",
      "2min/tess2021175071901-s0040-0000001687295730-0211-s_lc.fits\n",
      "2min/tess2021175071901-s0040-0000001883541078-0211-s_lc.fits\n",
      "2min/tess2021232031932-s0042-0000002024593767-0213-s_lc.fits\n"
     ]
    },
    {
     "name": "stderr",
     "output_type": "stream",
     "text": [
      "/tmp/ipykernel_42508/1380486706.py:34: RuntimeWarning: invalid value encountered in double_scalars\n",
      "  weighted_mean_flux=np.sum(lightcurve_bin[:,1]*weights)/np.sum(weights)\n",
      "/tmp/ipykernel_42508/1380486706.py:35: RuntimeWarning: divide by zero encountered in double_scalars\n",
      "  weighted_mean_flux_error=np.sqrt(1/np.sum(weights))\n"
     ]
    },
    {
     "name": "stdout",
     "output_type": "stream",
     "text": [
      "2min/tess2021204101404-s0041-0000001872747454-0212-s_lc.fits\n",
      "2min/tess2021175071901-s0040-0000001102623645-0211-s_lc.fits\n",
      "2min/tess2021204101404-s0041-0000000350987724-0212-s_lc.fits\n"
     ]
    },
    {
     "name": "stderr",
     "output_type": "stream",
     "text": [
      "/tmp/ipykernel_42508/1380486706.py:34: RuntimeWarning: invalid value encountered in double_scalars\n",
      "  weighted_mean_flux=np.sum(lightcurve_bin[:,1]*weights)/np.sum(weights)\n",
      "/tmp/ipykernel_42508/1380486706.py:35: RuntimeWarning: divide by zero encountered in double_scalars\n",
      "  weighted_mean_flux_error=np.sqrt(1/np.sum(weights))\n",
      "/tmp/ipykernel_42508/1380486706.py:34: RuntimeWarning: invalid value encountered in double_scalars\n",
      "  weighted_mean_flux=np.sum(lightcurve_bin[:,1]*weights)/np.sum(weights)\n",
      "/tmp/ipykernel_42508/1380486706.py:35: RuntimeWarning: divide by zero encountered in double_scalars\n",
      "  weighted_mean_flux_error=np.sqrt(1/np.sum(weights))\n"
     ]
    },
    {
     "name": "stdout",
     "output_type": "stream",
     "text": [
      "2min/tess2021175071901-s0040-0000001684574254-0211-s_lc.fits\n",
      "2min/tess2021175071901-s0040-0000001814523413-0211-s_lc.fits\n",
      "2min/tess2021175071901-s0040-0000001686543847-0211-s_lc.fits\n"
     ]
    },
    {
     "name": "stderr",
     "output_type": "stream",
     "text": [
      "/tmp/ipykernel_42508/1380486706.py:34: RuntimeWarning: invalid value encountered in double_scalars\n",
      "  weighted_mean_flux=np.sum(lightcurve_bin[:,1]*weights)/np.sum(weights)\n",
      "/tmp/ipykernel_42508/1380486706.py:35: RuntimeWarning: divide by zero encountered in double_scalars\n",
      "  weighted_mean_flux_error=np.sqrt(1/np.sum(weights))\n"
     ]
    },
    {
     "name": "stdout",
     "output_type": "stream",
     "text": [
      "2min/tess2021175071901-s0040-0000001400576240-0211-s_lc.fits\n",
      "2min/tess2021258175143-s0043-0000000620158011-0214-s_lc.fits\n",
      "2min/tess2021232031932-s0042-0000000069813909-0213-s_lc.fits\n",
      "2min/tess2021204101404-s0041-0000000203054851-0212-s_lc.fits\n",
      "2min/tess2021232031932-s0042-0000000640142499-0213-s_lc.fits\n",
      "2min/tess2021175071901-s0040-0000000367840218-0211-s_lc.fits\n",
      "2min/tess2021204101404-s0041-0000000219019035-0212-s_lc.fits\n",
      "2min/tess2021232031932-s0042-0000000630442213-0213-s_lc.fits\n",
      "2min/tess2021258175143-s0043-0000000620195377-0214-s_lc.fits\n",
      "2min/tess2021232031932-s0042-0000000640138025-0213-s_lc.fits\n",
      "2min/tess2021258175143-s0043-0000000610764300-0214-s_lc.fits\n",
      "2min/tess2021175071901-s0040-0000000461494284-0211-s_lc.fits\n",
      "2min/tess2021258175143-s0043-0000000620093888-0214-s_lc.fits\n",
      "2min/tess2021232031932-s0042-0000000610838956-0213-s_lc.fits\n",
      "2min/tess2021258175143-s0043-0000000435289053-0214-s_lc.fits\n",
      "2min/tess2021232031932-s0042-0000000630403413-0213-s_lc.fits\n",
      "2min/tess2021175071901-s0040-0000000841203288-0211-s_lc.fits\n",
      "2min/tess2021258175143-s0043-0000000610918339-0214-s_lc.fits\n",
      "2min/tess2021175071901-s0040-0000001271382181-0211-s_lc.fits\n",
      "2min/tess2021258175143-s0043-0000000213005240-0214-s_lc.fits\n",
      "2min/tess2021258175143-s0043-0000000610793538-0214-s_lc.fits\n",
      "2min/tess2021204101404-s0041-0000000900634945-0212-s_lc.fits\n",
      "2min/tess2021204101404-s0041-0000001862751146-0212-s_lc.fits\n",
      "2min/tess2021204101404-s0041-0000000950606156-0212-s_lc.fits\n",
      "2min/tess2021204101404-s0041-0000001956323784-0212-s_lc.fits\n"
     ]
    },
    {
     "name": "stderr",
     "output_type": "stream",
     "text": [
      "/tmp/ipykernel_42508/1380486706.py:34: RuntimeWarning: invalid value encountered in double_scalars\n",
      "  weighted_mean_flux=np.sum(lightcurve_bin[:,1]*weights)/np.sum(weights)\n",
      "/tmp/ipykernel_42508/1380486706.py:35: RuntimeWarning: divide by zero encountered in double_scalars\n",
      "  weighted_mean_flux_error=np.sqrt(1/np.sum(weights))\n"
     ]
    },
    {
     "name": "stdout",
     "output_type": "stream",
     "text": [
      "2min/tess2021258175143-s0043-0000000640234517-0214-s_lc.fits\n",
      "2min/tess2021232031932-s0042-0000000051940141-0213-s_lc.fits\n",
      "2min/tess2021175071901-s0040-0000000743538266-0211-s_lc.fits\n",
      "2min/tess2021175071901-s0040-0000000284900652-0211-s_lc.fits\n",
      "2min/tess2021232031932-s0042-0000000610793538-0213-s_lc.fits\n",
      "2min/tess2021175071901-s0040-0000001508476343-0211-s_lc.fits\n",
      "2min/tess2021232031932-s0042-0000000620037161-0213-s_lc.fits\n",
      "2min/tess2021258175143-s0043-0000000467651283-0214-s_lc.fits\n",
      "2min/tess2021232031932-s0042-0000002024198411-0213-s_lc.fits\n",
      "2min/tess2021232031932-s0042-0000000620014592-0213-s_lc.fits\n",
      "2min/tess2021258175143-s0043-0000000620151806-0214-s_lc.fits\n",
      "2min/tess2021204101404-s0041-0000001860468684-0212-s_lc.fits\n",
      "2min/tess2021175071901-s0040-0000001883030509-0211-s_lc.fits\n",
      "2min/tess2021204101404-s0041-0000001867758053-0212-s_lc.fits\n"
     ]
    },
    {
     "name": "stderr",
     "output_type": "stream",
     "text": [
      "/tmp/ipykernel_42508/1380486706.py:34: RuntimeWarning: invalid value encountered in double_scalars\n",
      "  weighted_mean_flux=np.sum(lightcurve_bin[:,1]*weights)/np.sum(weights)\n",
      "/tmp/ipykernel_42508/1380486706.py:35: RuntimeWarning: divide by zero encountered in double_scalars\n",
      "  weighted_mean_flux_error=np.sqrt(1/np.sum(weights))\n",
      "/tmp/ipykernel_42508/1380486706.py:34: RuntimeWarning: invalid value encountered in double_scalars\n",
      "  weighted_mean_flux=np.sum(lightcurve_bin[:,1]*weights)/np.sum(weights)\n",
      "/tmp/ipykernel_42508/1380486706.py:35: RuntimeWarning: divide by zero encountered in double_scalars\n",
      "  weighted_mean_flux_error=np.sqrt(1/np.sum(weights))\n",
      "/tmp/ipykernel_42508/1380486706.py:34: RuntimeWarning: invalid value encountered in double_scalars\n",
      "  weighted_mean_flux=np.sum(lightcurve_bin[:,1]*weights)/np.sum(weights)\n",
      "/tmp/ipykernel_42508/1380486706.py:35: RuntimeWarning: divide by zero encountered in double_scalars\n",
      "  weighted_mean_flux_error=np.sqrt(1/np.sum(weights))\n",
      "/tmp/ipykernel_42508/1380486706.py:34: RuntimeWarning: invalid value encountered in double_scalars\n",
      "  weighted_mean_flux=np.sum(lightcurve_bin[:,1]*weights)/np.sum(weights)\n",
      "/tmp/ipykernel_42508/1380486706.py:35: RuntimeWarning: divide by zero encountered in double_scalars\n",
      "  weighted_mean_flux_error=np.sqrt(1/np.sum(weights))\n"
     ]
    },
    {
     "name": "stdout",
     "output_type": "stream",
     "text": [
      "2min/tess2021232031932-s0042-0000000640083665-0213-s_lc.fits\n",
      "2min/tess2021204101404-s0041-0000001859153737-0212-s_lc.fits\n"
     ]
    },
    {
     "name": "stderr",
     "output_type": "stream",
     "text": [
      "/tmp/ipykernel_42508/1380486706.py:34: RuntimeWarning: invalid value encountered in double_scalars\n",
      "  weighted_mean_flux=np.sum(lightcurve_bin[:,1]*weights)/np.sum(weights)\n",
      "/tmp/ipykernel_42508/1380486706.py:35: RuntimeWarning: divide by zero encountered in double_scalars\n",
      "  weighted_mean_flux_error=np.sqrt(1/np.sum(weights))\n",
      "/tmp/ipykernel_42508/1380486706.py:34: RuntimeWarning: invalid value encountered in double_scalars\n",
      "  weighted_mean_flux=np.sum(lightcurve_bin[:,1]*weights)/np.sum(weights)\n",
      "/tmp/ipykernel_42508/1380486706.py:35: RuntimeWarning: divide by zero encountered in double_scalars\n",
      "  weighted_mean_flux_error=np.sqrt(1/np.sum(weights))\n"
     ]
    },
    {
     "name": "stdout",
     "output_type": "stream",
     "text": [
      "2min/tess2021204101404-s0041-0000000900457004-0212-s_lc.fits\n",
      "2min/tess2021258175143-s0043-0000000630434805-0214-s_lc.fits\n",
      "2min/tess2021258175143-s0043-0000000270405574-0214-s_lc.fits\n",
      "2min/tess2021258175143-s0043-0000000620084724-0214-s_lc.fits\n",
      "2min/tess2021232031932-s0042-0000000620067407-0213-s_lc.fits\n",
      "2min/tess2021175071901-s0040-0000000314281555-0211-s_lc.fits\n",
      "2min/tess2021175071901-s0040-0000000670881852-0211-s_lc.fits\n",
      "2min/tess2021258175143-s0043-0000000436839350-0214-s_lc.fits\n",
      "2min/tess2021175071901-s0040-0000001858852956-0211-s_lc.fits\n",
      "2min/tess2021258175143-s0043-0000000422915320-0214-s_lc.fits\n",
      "2min/tess2021258175143-s0043-0000000640351337-0214-s_lc.fits\n",
      "2min/tess2021175071901-s0040-0000000649585227-0211-s_lc.fits\n",
      "2min/tess2021258175143-s0043-0000000471015443-0214-s_lc.fits\n",
      "2min/tess2021258175143-s0043-0000000610797380-0214-s_lc.fits\n",
      "2min/tess2021232031932-s0042-0000000611125990-0213-s_lc.fits\n",
      "2min/tess2021175071901-s0040-0000001877074139-0211-s_lc.fits\n",
      "2min/tess2021175071901-s0040-0000001860468684-0211-s_lc.fits\n",
      "2min/tess2021175071901-s0040-0000001884227789-0211-s_lc.fits\n",
      "2min/tess2021232031932-s0042-0000000620116047-0213-s_lc.fits\n",
      "2min/tess2021204101404-s0041-0000001859148210-0212-s_lc.fits\n",
      "2min/tess2021175071901-s0040-0000000900762564-0211-s_lc.fits\n",
      "2min/tess2021232031932-s0042-0000002024725287-0213-s_lc.fits\n",
      "2min/tess2021232031932-s0042-0000002052591116-0213-s_lc.fits\n",
      "2min/tess2021258175143-s0043-0000000019330693-0214-s_lc.fits\n",
      "2min/tess2021258175143-s0043-0000000294426892-0214-s_lc.fits\n",
      "2min/tess2021204101404-s0041-0000000229581336-0212-s_lc.fits\n",
      "2min/tess2021204101404-s0041-0000001861598304-0212-s_lc.fits\n",
      "2min/tess2021204101404-s0041-0000000120968638-0212-s_lc.fits\n",
      "2min/tess2021258175143-s0043-0000000611420241-0214-s_lc.fits\n",
      "2min/tess2021258175143-s0043-0000000620280514-0214-s_lc.fits\n",
      "2min/tess2021204101404-s0041-0000000471015242-0212-s_lc.fits\n",
      "2min/tess2021258175143-s0043-0000000640138025-0214-s_lc.fits\n",
      "2min/tess2021232031932-s0042-0000000058870694-0213-s_lc.fits\n",
      "2min/tess2021232031932-s0042-0000000610785338-0213-s_lc.fits\n",
      "2min/tess2021204101404-s0041-0000000219868627-0212-s_lc.fits\n",
      "2min/tess2021204101404-s0041-0000001873752324-0212-s_lc.fits\n",
      "2min/tess2021175071901-s0040-0000001271298334-0211-s_lc.fits\n",
      "2min/tess2021175071901-s0040-0000000317110974-0211-s_lc.fits\n",
      "2min/tess2021232031932-s0042-0000002024294574-0213-s_lc.fits\n",
      "2min/tess2021258175143-s0043-0000000610701101-0214-s_lc.fits\n",
      "2min/tess2021232031932-s0042-0000000246943036-0213-s_lc.fits\n",
      "2min/tess2021258175143-s0043-0000000610868676-0214-s_lc.fits\n",
      "2min/tess2021204101404-s0041-0000001978322711-0212-s_lc.fits\n",
      "2min/tess2021258175143-s0043-0000000630403413-0214-s_lc.fits\n"
     ]
    },
    {
     "name": "stderr",
     "output_type": "stream",
     "text": [
      "/tmp/ipykernel_42508/1380486706.py:34: RuntimeWarning: invalid value encountered in double_scalars\n",
      "  weighted_mean_flux=np.sum(lightcurve_bin[:,1]*weights)/np.sum(weights)\n",
      "/tmp/ipykernel_42508/1380486706.py:35: RuntimeWarning: divide by zero encountered in double_scalars\n",
      "  weighted_mean_flux_error=np.sqrt(1/np.sum(weights))\n"
     ]
    },
    {
     "name": "stdout",
     "output_type": "stream",
     "text": [
      "2min/tess2021232031932-s0042-0000002052554960-0213-s_lc.fits\n",
      "2min/tess2021204101404-s0041-0000001102418286-0212-s_lc.fits\n",
      "2min/tess2021175071901-s0040-0000001717585166-0211-s_lc.fits\n",
      "2min/tess2021232031932-s0042-0000002024091991-0213-s_lc.fits\n",
      "2min/tess2021232031932-s0042-0000000241104752-0213-s_lc.fits\n",
      "2min/tess2021175071901-s0040-0000000802782411-0211-s_lc.fits\n",
      "2min/tess2021258175143-s0043-0000000269533234-0214-s_lc.fits\n",
      "2min/tess2021204101404-s0041-0000000841275403-0212-s_lc.fits\n",
      "2min/tess2021175071901-s0040-0000000160185214-0211-s_lc.fits\n",
      "2min/tess2021204101404-s0041-0000000950703179-0212-s_lc.fits\n",
      "2min/tess2021258175143-s0043-0000000471015380-0214-s_lc.fits\n",
      "2min/tess2021204101404-s0041-0000000950591452-0212-s_lc.fits\n",
      "2min/tess2021175071901-s0040-0000001810903999-0211-s_lc.fits\n",
      "2min/tess2021258175143-s0043-0000000522922817-0214-s_lc.fits\n",
      "2min/tess2021258175143-s0043-0000000620307155-0214-s_lc.fits\n",
      "2min/tess2021232031932-s0042-0000000620294535-0213-s_lc.fits\n",
      "2min/tess2021204101404-s0041-0000000233235168-0212-s_lc.fits\n",
      "2min/tess2021258175143-s0043-0000000630382685-0214-s_lc.fits\n",
      "2min/tess2021175071901-s0040-0000001851773630-0211-s_lc.fits\n",
      "2min/tess2021175071901-s0040-0000001401078251-0211-s_lc.fits\n"
     ]
    },
    {
     "name": "stderr",
     "output_type": "stream",
     "text": [
      "/tmp/ipykernel_42508/1380486706.py:34: RuntimeWarning: invalid value encountered in double_scalars\n",
      "  weighted_mean_flux=np.sum(lightcurve_bin[:,1]*weights)/np.sum(weights)\n",
      "/tmp/ipykernel_42508/1380486706.py:35: RuntimeWarning: divide by zero encountered in double_scalars\n",
      "  weighted_mean_flux_error=np.sqrt(1/np.sum(weights))\n"
     ]
    },
    {
     "name": "stdout",
     "output_type": "stream",
     "text": [
      "2min/tess2021175071901-s0040-0000001683883345-0211-s_lc.fits\n",
      "2min/tess2021258175143-s0043-0000000610654305-0214-s_lc.fits\n",
      "2min/tess2021258175143-s0043-0000000630340408-0214-s_lc.fits\n",
      "2min/tess2021204101404-s0041-0000000900690774-0212-s_lc.fits\n",
      "2min/tess2021232031932-s0042-0000000640351337-0213-s_lc.fits\n",
      "2min/tess2021204101404-s0041-0000000841271943-0212-s_lc.fits\n",
      "2min/tess2021175071901-s0040-0000000802602872-0211-s_lc.fits\n",
      "2min/tess2021232031932-s0042-0000002052292697-0213-s_lc.fits\n",
      "2min/tess2021258175143-s0043-0000000125975957-0214-s_lc.fits\n",
      "2min/tess2021175071901-s0040-0000001710740637-0211-s_lc.fits\n",
      "2min/tess2021258175143-s0043-0000000620294535-0214-s_lc.fits\n"
     ]
    },
    {
     "name": "stderr",
     "output_type": "stream",
     "text": [
      "/tmp/ipykernel_42508/1380486706.py:34: RuntimeWarning: invalid value encountered in double_scalars\n",
      "  weighted_mean_flux=np.sum(lightcurve_bin[:,1]*weights)/np.sum(weights)\n",
      "/tmp/ipykernel_42508/1380486706.py:35: RuntimeWarning: divide by zero encountered in double_scalars\n",
      "  weighted_mean_flux_error=np.sqrt(1/np.sum(weights))\n"
     ]
    },
    {
     "name": "stdout",
     "output_type": "stream",
     "text": [
      "2min/tess2021258175143-s0043-0000000640343432-0214-s_lc.fits\n",
      "2min/tess2021175071901-s0040-0000001716950085-0211-s_lc.fits\n",
      "2min/tess2021204101404-s0041-0000001873316848-0212-s_lc.fits\n",
      "2min/tess2021204101404-s0041-0000000950626929-0212-s_lc.fits\n",
      "2min/tess2021204101404-s0041-0000001551526216-0212-s_lc.fits\n",
      "2min/tess2021175071901-s0040-0000000116263538-0211-s_lc.fits\n",
      "2min/tess2021258175143-s0043-0000000610678231-0214-s_lc.fits\n",
      "2min/tess2021175071901-s0040-0000001858750317-0211-s_lc.fits\n",
      "2min/tess2021204101404-s0041-0000000900787275-0212-s_lc.fits\n",
      "2min/tess2021175071901-s0040-0000001809516884-0211-s_lc.fits\n"
     ]
    },
    {
     "name": "stderr",
     "output_type": "stream",
     "text": [
      "/tmp/ipykernel_42508/1380486706.py:34: RuntimeWarning: invalid value encountered in double_scalars\n",
      "  weighted_mean_flux=np.sum(lightcurve_bin[:,1]*weights)/np.sum(weights)\n",
      "/tmp/ipykernel_42508/1380486706.py:35: RuntimeWarning: divide by zero encountered in double_scalars\n",
      "  weighted_mean_flux_error=np.sqrt(1/np.sum(weights))\n"
     ]
    },
    {
     "name": "stdout",
     "output_type": "stream",
     "text": [
      "2min/tess2021232031932-s0042-0000000610522520-0213-s_lc.fits\n",
      "2min/tess2021175071901-s0040-0000001883165983-0211-s_lc.fits\n",
      "2min/tess2021175071901-s0040-0000000802654762-0211-s_lc.fits\n"
     ]
    },
    {
     "name": "stderr",
     "output_type": "stream",
     "text": [
      "/tmp/ipykernel_42508/1380486706.py:34: RuntimeWarning: invalid value encountered in double_scalars\n",
      "  weighted_mean_flux=np.sum(lightcurve_bin[:,1]*weights)/np.sum(weights)\n",
      "/tmp/ipykernel_42508/1380486706.py:35: RuntimeWarning: divide by zero encountered in double_scalars\n",
      "  weighted_mean_flux_error=np.sqrt(1/np.sum(weights))\n"
     ]
    },
    {
     "name": "stdout",
     "output_type": "stream",
     "text": [
      "2min/tess2021204101404-s0041-0000001943988173-0212-s_lc.fits\n",
      "2min/tess2021232031932-s0042-0000002024301154-0213-s_lc.fits\n",
      "2min/tess2021204101404-s0041-0000001001640485-0212-s_lc.fits\n",
      "2min/tess2021204101404-s0041-0000001884227789-0212-s_lc.fits\n",
      "2min/tess2021204101404-s0041-0000001717585166-0212-s_lc.fits\n",
      "2min/tess2021232031932-s0042-0000000435289053-0213-s_lc.fits\n",
      "2min/tess2021175071901-s0040-0000001884390851-0211-s_lc.fits\n",
      "2min/tess2021175071901-s0040-0000001687079222-0211-s_lc.fits\n",
      "2min/tess2021175071901-s0040-0000000705153814-0211-s_lc.fits\n"
     ]
    },
    {
     "name": "stderr",
     "output_type": "stream",
     "text": [
      "/tmp/ipykernel_42508/1380486706.py:34: RuntimeWarning: invalid value encountered in double_scalars\n",
      "  weighted_mean_flux=np.sum(lightcurve_bin[:,1]*weights)/np.sum(weights)\n",
      "/tmp/ipykernel_42508/1380486706.py:35: RuntimeWarning: divide by zero encountered in double_scalars\n",
      "  weighted_mean_flux_error=np.sqrt(1/np.sum(weights))\n"
     ]
    },
    {
     "name": "stdout",
     "output_type": "stream",
     "text": [
      "2min/tess2021258175143-s0043-0000000620282401-0214-s_lc.fits\n",
      "2min/tess2021258175143-s0043-0000000426769337-0214-s_lc.fits\n",
      "2min/tess2021204101404-s0041-0000001881168675-0212-s_lc.fits\n",
      "2min/tess2021175071901-s0040-0000000461540522-0211-s_lc.fits\n",
      "2min/tess2021232031932-s0042-0000000620481963-0213-s_lc.fits\n",
      "2min/tess2021175071901-s0040-0000001551465780-0211-s_lc.fits\n",
      "2min/tess2021175071901-s0040-0000000313812497-0211-s_lc.fits\n",
      "2min/tess2021175071901-s0040-0000001716997043-0211-s_lc.fits\n",
      "2min/tess2021232031932-s0042-0000000640865933-0213-s_lc.fits\n",
      "2min/tess2021204101404-s0041-0000000264172524-0212-s_lc.fits\n"
     ]
    },
    {
     "name": "stderr",
     "output_type": "stream",
     "text": [
      "/tmp/ipykernel_42508/1380486706.py:34: RuntimeWarning: invalid value encountered in double_scalars\n",
      "  weighted_mean_flux=np.sum(lightcurve_bin[:,1]*weights)/np.sum(weights)\n",
      "/tmp/ipykernel_42508/1380486706.py:35: RuntimeWarning: divide by zero encountered in double_scalars\n",
      "  weighted_mean_flux_error=np.sqrt(1/np.sum(weights))\n"
     ]
    },
    {
     "name": "stdout",
     "output_type": "stream",
     "text": [
      "2min/tess2021204101404-s0041-0000001882777806-0212-s_lc.fits\n",
      "2min/tess2021204101404-s0041-0000001271341297-0212-s_lc.fits\n",
      "2min/tess2021232031932-s0042-0000000620324891-0213-s_lc.fits\n",
      "2min/tess2021204101404-s0041-0000001883541078-0212-s_lc.fits\n",
      "2min/tess2021175071901-s0040-0000001981843319-0211-s_lc.fits\n",
      "2min/tess2021204101404-s0041-0000001717486585-0212-s_lc.fits\n"
     ]
    },
    {
     "name": "stderr",
     "output_type": "stream",
     "text": [
      "/tmp/ipykernel_42508/1380486706.py:34: RuntimeWarning: invalid value encountered in double_scalars\n",
      "  weighted_mean_flux=np.sum(lightcurve_bin[:,1]*weights)/np.sum(weights)\n",
      "/tmp/ipykernel_42508/1380486706.py:35: RuntimeWarning: divide by zero encountered in double_scalars\n",
      "  weighted_mean_flux_error=np.sqrt(1/np.sum(weights))\n"
     ]
    },
    {
     "name": "stdout",
     "output_type": "stream",
     "text": [
      "2min/tess2021232031932-s0042-0000000640368111-0213-s_lc.fits\n",
      "2min/tess2021232031932-s0042-0000000610764300-0213-s_lc.fits\n",
      "2min/tess2021175071901-s0040-0000001883668125-0211-s_lc.fits\n"
     ]
    },
    {
     "name": "stderr",
     "output_type": "stream",
     "text": [
      "/tmp/ipykernel_42508/1380486706.py:34: RuntimeWarning: invalid value encountered in double_scalars\n",
      "  weighted_mean_flux=np.sum(lightcurve_bin[:,1]*weights)/np.sum(weights)\n",
      "/tmp/ipykernel_42508/1380486706.py:35: RuntimeWarning: divide by zero encountered in double_scalars\n",
      "  weighted_mean_flux_error=np.sqrt(1/np.sum(weights))\n",
      "/tmp/ipykernel_42508/1380486706.py:34: RuntimeWarning: invalid value encountered in double_scalars\n",
      "  weighted_mean_flux=np.sum(lightcurve_bin[:,1]*weights)/np.sum(weights)\n",
      "/tmp/ipykernel_42508/1380486706.py:35: RuntimeWarning: divide by zero encountered in double_scalars\n",
      "  weighted_mean_flux_error=np.sqrt(1/np.sum(weights))\n"
     ]
    },
    {
     "name": "stdout",
     "output_type": "stream",
     "text": [
      "2min/tess2021258175143-s0043-0000000620238629-0214-s_lc.fits\n",
      "2min/tess2021204101404-s0041-0000001883030509-0212-s_lc.fits\n",
      "2min/tess2021175071901-s0040-0000001812256677-0211-s_lc.fits\n",
      "2min/tess2021232031932-s0042-0000000310937019-0213-s_lc.fits\n",
      "2min/tess2021175071901-s0040-0000001717648382-0211-s_lc.fits\n",
      "2min/tess2021204101404-s0041-0000001972117603-0212-s_lc.fits\n",
      "2min/tess2021204101404-s0041-0000000427753642-0212-s_lc.fits\n",
      "2min/tess2021204101404-s0041-0000000233834555-0212-s_lc.fits\n"
     ]
    },
    {
     "name": "stderr",
     "output_type": "stream",
     "text": [
      "/tmp/ipykernel_42508/1380486706.py:34: RuntimeWarning: invalid value encountered in double_scalars\n",
      "  weighted_mean_flux=np.sum(lightcurve_bin[:,1]*weights)/np.sum(weights)\n",
      "/tmp/ipykernel_42508/1380486706.py:35: RuntimeWarning: divide by zero encountered in double_scalars\n",
      "  weighted_mean_flux_error=np.sqrt(1/np.sum(weights))\n"
     ]
    },
    {
     "name": "stdout",
     "output_type": "stream",
     "text": [
      "2min/tess2021232031932-s0042-0000000673463415-0213-s_lc.fits\n",
      "2min/tess2021175071901-s0040-0000001846258231-0211-s_lc.fits\n",
      "2min/tess2021204101404-s0041-0000001950867917-0212-s_lc.fits\n",
      "2min/tess2021175071901-s0040-0000000950754724-0211-s_lc.fits\n",
      "2min/tess2021175071901-s0040-0000001851757804-0211-s_lc.fits\n",
      "2min/tess2021175071901-s0040-0000001815171112-0211-s_lc.fits\n",
      "2min/tess2021175071901-s0040-0000000024198408-0211-s_lc.fits\n",
      "2min/tess2021204101404-s0041-0000001882421401-0212-s_lc.fits\n",
      "2min/tess2021258175143-s0043-0000000620044041-0214-s_lc.fits\n",
      "2min/tess2021175071901-s0040-0000000743507287-0211-s_lc.fits\n",
      "2min/tess2021204101404-s0041-0000000232524621-0212-s_lc.fits\n",
      "2min/tess2021204101404-s0041-0000001856180951-0212-s_lc.fits\n",
      "2min/tess2021175071901-s0040-0000001873967715-0211-s_lc.fits\n",
      "2min/tess2021175071901-s0040-0000001798639699-0211-s_lc.fits\n",
      "2min/tess2021175071901-s0040-0000000841275403-0211-s_lc.fits\n",
      "2min/tess2021204101404-s0041-0000001716997043-0212-s_lc.fits\n",
      "2min/tess2021175071901-s0040-0000001551615402-0211-s_lc.fits\n"
     ]
    },
    {
     "name": "stderr",
     "output_type": "stream",
     "text": [
      "/tmp/ipykernel_42508/1380486706.py:34: RuntimeWarning: invalid value encountered in double_scalars\n",
      "  weighted_mean_flux=np.sum(lightcurve_bin[:,1]*weights)/np.sum(weights)\n",
      "/tmp/ipykernel_42508/1380486706.py:35: RuntimeWarning: divide by zero encountered in double_scalars\n",
      "  weighted_mean_flux_error=np.sqrt(1/np.sum(weights))\n",
      "/tmp/ipykernel_42508/1380486706.py:34: RuntimeWarning: invalid value encountered in double_scalars\n",
      "  weighted_mean_flux=np.sum(lightcurve_bin[:,1]*weights)/np.sum(weights)\n",
      "/tmp/ipykernel_42508/1380486706.py:35: RuntimeWarning: divide by zero encountered in double_scalars\n",
      "  weighted_mean_flux_error=np.sqrt(1/np.sum(weights))\n"
     ]
    },
    {
     "name": "stdout",
     "output_type": "stream",
     "text": [
      "2min/tess2021175071901-s0040-0000001550306719-0211-s_lc.fits\n",
      "2min/tess2021232031932-s0042-0000000620280514-0213-s_lc.fits\n",
      "2min/tess2021258175143-s0043-0000000284488753-0214-s_lc.fits\n",
      "2min/tess2021204101404-s0041-0000001001526706-0212-s_lc.fits\n",
      "2min/tess2021204101404-s0041-0000001976865644-0212-s_lc.fits\n",
      "2min/tess2021175071901-s0040-0000000288954463-0211-s_lc.fits\n"
     ]
    },
    {
     "name": "stderr",
     "output_type": "stream",
     "text": [
      "/tmp/ipykernel_42508/1380486706.py:34: RuntimeWarning: invalid value encountered in double_scalars\n",
      "  weighted_mean_flux=np.sum(lightcurve_bin[:,1]*weights)/np.sum(weights)\n",
      "/tmp/ipykernel_42508/1380486706.py:35: RuntimeWarning: divide by zero encountered in double_scalars\n",
      "  weighted_mean_flux_error=np.sqrt(1/np.sum(weights))\n"
     ]
    },
    {
     "name": "stdout",
     "output_type": "stream",
     "text": [
      "2min/tess2021232031932-s0042-0000000620307155-0213-s_lc.fits\n",
      "2min/tess2021258175143-s0043-0000000611188886-0214-s_lc.fits\n",
      "2min/tess2021175071901-s0040-0000000900803722-0211-s_lc.fits\n",
      "2min/tess2021204101404-s0041-0000001880411519-0212-s_lc.fits\n",
      "2min/tess2021175071901-s0040-0000001814398794-0211-s_lc.fits\n",
      "2min/tess2021232031932-s0042-0000002024384597-0213-s_lc.fits\n",
      "2min/tess2021258175143-s0043-0000000640326895-0214-s_lc.fits\n",
      "2min/tess2021175071901-s0040-0000000377697900-0211-s_lc.fits\n",
      "2min/tess2021204101404-s0041-0000001718225859-0212-s_lc.fits\n"
     ]
    },
    {
     "name": "stderr",
     "output_type": "stream",
     "text": [
      "/tmp/ipykernel_42508/1380486706.py:34: RuntimeWarning: invalid value encountered in double_scalars\n",
      "  weighted_mean_flux=np.sum(lightcurve_bin[:,1]*weights)/np.sum(weights)\n",
      "/tmp/ipykernel_42508/1380486706.py:35: RuntimeWarning: divide by zero encountered in double_scalars\n",
      "  weighted_mean_flux_error=np.sqrt(1/np.sum(weights))\n"
     ]
    },
    {
     "name": "stdout",
     "output_type": "stream",
     "text": [
      "2min/tess2021204101404-s0041-0000000900510738-0212-s_lc.fits\n",
      "2min/tess2021175071901-s0040-0000000841396049-0211-s_lc.fits\n"
     ]
    },
    {
     "name": "stderr",
     "output_type": "stream",
     "text": [
      "/tmp/ipykernel_42508/1380486706.py:34: RuntimeWarning: invalid value encountered in double_scalars\n",
      "  weighted_mean_flux=np.sum(lightcurve_bin[:,1]*weights)/np.sum(weights)\n",
      "/tmp/ipykernel_42508/1380486706.py:35: RuntimeWarning: divide by zero encountered in double_scalars\n",
      "  weighted_mean_flux_error=np.sqrt(1/np.sum(weights))\n",
      "/tmp/ipykernel_42508/1380486706.py:34: RuntimeWarning: invalid value encountered in double_scalars\n",
      "  weighted_mean_flux=np.sum(lightcurve_bin[:,1]*weights)/np.sum(weights)\n",
      "/tmp/ipykernel_42508/1380486706.py:35: RuntimeWarning: divide by zero encountered in double_scalars\n",
      "  weighted_mean_flux_error=np.sqrt(1/np.sum(weights))\n"
     ]
    },
    {
     "name": "stdout",
     "output_type": "stream",
     "text": [
      "2min/tess2021258175143-s0043-0000000610916920-0214-s_lc.fits\n",
      "2min/tess2021258175143-s0043-0000000051940141-0214-s_lc.fits\n",
      "2min/tess2021204101404-s0041-0000000950782392-0212-s_lc.fits\n",
      "2min/tess2021204101404-s0041-0000001551615402-0212-s_lc.fits\n",
      "2min/tess2021258175143-s0043-0000000245938402-0214-s_lc.fits\n",
      "2min/tess2021175071901-s0040-0000001685051373-0211-s_lc.fits\n",
      "2min/tess2021232031932-s0042-0000002052960459-0213-s_lc.fits\n",
      "2min/tess2021232031932-s0042-0000002024033902-0213-s_lc.fits\n",
      "2min/tess2021204101404-s0041-0000000950579568-0212-s_lc.fits\n",
      "2min/tess2021258175143-s0043-0000000400164744-0214-s_lc.fits\n",
      "2min/tess2021258175143-s0043-0000000640164247-0214-s_lc.fits\n",
      "2min/tess2021175071901-s0040-0000000900665488-0211-s_lc.fits\n",
      "2min/tess2021204101404-s0041-0000001551749072-0212-s_lc.fits\n",
      "2min/tess2021258175143-s0043-0000000422682080-0214-s_lc.fits\n"
     ]
    },
    {
     "name": "stderr",
     "output_type": "stream",
     "text": [
      "/tmp/ipykernel_42508/1380486706.py:34: RuntimeWarning: invalid value encountered in double_scalars\n",
      "  weighted_mean_flux=np.sum(lightcurve_bin[:,1]*weights)/np.sum(weights)\n",
      "/tmp/ipykernel_42508/1380486706.py:35: RuntimeWarning: divide by zero encountered in double_scalars\n",
      "  weighted_mean_flux_error=np.sqrt(1/np.sum(weights))\n",
      "/tmp/ipykernel_42508/1380486706.py:34: RuntimeWarning: invalid value encountered in double_scalars\n",
      "  weighted_mean_flux=np.sum(lightcurve_bin[:,1]*weights)/np.sum(weights)\n",
      "/tmp/ipykernel_42508/1380486706.py:35: RuntimeWarning: divide by zero encountered in double_scalars\n",
      "  weighted_mean_flux_error=np.sqrt(1/np.sum(weights))\n"
     ]
    },
    {
     "name": "stdout",
     "output_type": "stream",
     "text": [
      "2min/tess2021204101404-s0041-0000000123045907-0212-s_lc.fits\n",
      "2min/tess2021232031932-s0042-0000002052391624-0213-s_lc.fits\n",
      "2min/tess2021258175143-s0043-0000000630437364-0214-s_lc.fits\n",
      "2min/tess2021258175143-s0043-0000000243186214-0214-s_lc.fits\n",
      "2min/tess2021232031932-s0042-0000000620203361-0213-s_lc.fits\n",
      "2min/tess2021258175143-s0043-0000000243015712-0214-s_lc.fits\n",
      "2min/tess2021175071901-s0040-0000001102683254-0211-s_lc.fits\n",
      "2min/tess2021204101404-s0041-0000000950573894-0212-s_lc.fits\n",
      "2min/tess2021204101404-s0041-0000000950754724-0212-s_lc.fits\n",
      "2min/tess2021204101404-s0041-0000001882339735-0212-s_lc.fits\n",
      "2min/tess2021232031932-s0042-0000002029130232-0213-s_lc.fits\n",
      "2min/tess2021175071901-s0040-0000000219868627-0211-s_lc.fits\n",
      "2min/tess2021175071901-s0040-0000001799129392-0211-s_lc.fits\n",
      "2min/tess2021175071901-s0040-0000001884528835-0211-s_lc.fits\n"
     ]
    },
    {
     "name": "stderr",
     "output_type": "stream",
     "text": [
      "/tmp/ipykernel_42508/1380486706.py:34: RuntimeWarning: invalid value encountered in double_scalars\n",
      "  weighted_mean_flux=np.sum(lightcurve_bin[:,1]*weights)/np.sum(weights)\n",
      "/tmp/ipykernel_42508/1380486706.py:35: RuntimeWarning: divide by zero encountered in double_scalars\n",
      "  weighted_mean_flux_error=np.sqrt(1/np.sum(weights))\n"
     ]
    },
    {
     "name": "stdout",
     "output_type": "stream",
     "text": [
      "2min/tess2021204101404-s0041-0000000950563813-0212-s_lc.fits\n",
      "2min/tess2021232031932-s0042-0000000213005240-0213-s_lc.fits\n",
      "2min/tess2021258175143-s0043-0000000247592598-0214-s_lc.fits\n",
      "2min/tess2021204101404-s0041-0000001977322095-0212-s_lc.fits\n",
      "2min/tess2021175071901-s0040-0000000264172524-0211-s_lc.fits\n",
      "2min/tess2021175071901-s0040-0000001920795791-0211-s_lc.fits\n"
     ]
    },
    {
     "name": "stderr",
     "output_type": "stream",
     "text": [
      "/tmp/ipykernel_42508/1380486706.py:34: RuntimeWarning: invalid value encountered in double_scalars\n",
      "  weighted_mean_flux=np.sum(lightcurve_bin[:,1]*weights)/np.sum(weights)\n",
      "/tmp/ipykernel_42508/1380486706.py:35: RuntimeWarning: divide by zero encountered in double_scalars\n",
      "  weighted_mean_flux_error=np.sqrt(1/np.sum(weights))\n"
     ]
    },
    {
     "name": "stdout",
     "output_type": "stream",
     "text": [
      "2min/tess2021204101404-s0041-0000000123131795-0212-s_lc.fits\n",
      "2min/tess2021175071901-s0040-0000001201397671-0211-s_lc.fits\n",
      "2min/tess2021175071901-s0040-0000001717701625-0211-s_lc.fits\n",
      "2min/tess2021204101404-s0041-0000001001405934-0212-s_lc.fits\n",
      "2min/tess2021204101404-s0041-0000001201205500-0212-s_lc.fits\n",
      "2min/tess2021204101404-s0041-0000001851903059-0212-s_lc.fits\n",
      "2min/tess2021175071901-s0040-0000001686660351-0211-s_lc.fits\n",
      "2min/tess2021232031932-s0042-0000000212980829-0213-s_lc.fits\n",
      "2min/tess2021175071901-s0040-0000001856180951-0211-s_lc.fits\n",
      "2min/tess2021204101404-s0041-0000000100013460-0212-s_lc.fits\n",
      "2min/tess2021258175143-s0043-0000000075780605-0214-s_lc.fits\n"
     ]
    },
    {
     "name": "stderr",
     "output_type": "stream",
     "text": [
      "/tmp/ipykernel_42508/1380486706.py:34: RuntimeWarning: invalid value encountered in double_scalars\n",
      "  weighted_mean_flux=np.sum(lightcurve_bin[:,1]*weights)/np.sum(weights)\n",
      "/tmp/ipykernel_42508/1380486706.py:35: RuntimeWarning: divide by zero encountered in double_scalars\n",
      "  weighted_mean_flux_error=np.sqrt(1/np.sum(weights))\n"
     ]
    },
    {
     "name": "stdout",
     "output_type": "stream",
     "text": [
      "2min/tess2021175071901-s0040-0000000229742116-0211-s_lc.fits\n",
      "2min/tess2021204101404-s0041-0000000377697900-0212-s_lc.fits\n",
      "2min/tess2021204101404-s0041-0000000950826037-0212-s_lc.fits\n"
     ]
    },
    {
     "name": "stderr",
     "output_type": "stream",
     "text": [
      "/tmp/ipykernel_42508/1380486706.py:34: RuntimeWarning: invalid value encountered in double_scalars\n",
      "  weighted_mean_flux=np.sum(lightcurve_bin[:,1]*weights)/np.sum(weights)\n",
      "/tmp/ipykernel_42508/1380486706.py:35: RuntimeWarning: divide by zero encountered in double_scalars\n",
      "  weighted_mean_flux_error=np.sqrt(1/np.sum(weights))\n"
     ]
    },
    {
     "name": "stdout",
     "output_type": "stream",
     "text": [
      "2min/tess2021232031932-s0042-0000000620044041-0213-s_lc.fits\n",
      "2min/tess2021232031932-s0042-0000000611154816-0213-s_lc.fits\n",
      "2min/tess2021258175143-s0043-0000000076094407-0214-s_lc.fits\n",
      "2min/tess2021204101404-s0041-0000000199179022-0212-s_lc.fits\n",
      "2min/tess2021232031932-s0042-0000002052907960-0213-s_lc.fits\n",
      "2min/tess2021232031932-s0042-0000002052240904-0213-s_lc.fits\n",
      "2min/tess2021175071901-s0040-0000000123045907-0211-s_lc.fits\n",
      "2min/tess2021175071901-s0040-0000001686359787-0211-s_lc.fits\n",
      "2min/tess2021258175143-s0043-0000000620116047-0214-s_lc.fits\n",
      "2min/tess2021232031932-s0042-0000000640295239-0213-s_lc.fits\n",
      "2min/tess2021175071901-s0040-0000001550307802-0211-s_lc.fits\n",
      "2min/tess2021232031932-s0042-0000000620158011-0213-s_lc.fits\n",
      "2min/tess2021232031932-s0042-0000000620246090-0213-s_lc.fits\n",
      "2min/tess2021175071901-s0040-0000001102671080-0211-s_lc.fits\n",
      "2min/tess2021175071901-s0040-0000001921024857-0211-s_lc.fits\n",
      "2min/tess2021204101404-s0041-0000000841163165-0212-s_lc.fits\n",
      "2min/tess2021204101404-s0041-0000001884009881-0212-s_lc.fits\n",
      "2min/tess2021204101404-s0041-0000000841203288-0212-s_lc.fits\n",
      "2min/tess2021204101404-s0041-0000000284900652-0212-s_lc.fits\n",
      "2min/tess2021232031932-s0042-0000000641065503-0213-s_lc.fits\n",
      "2min/tess2021232031932-s0042-0000000611318024-0213-s_lc.fits\n",
      "2min/tess2021175071901-s0040-0000000329670050-0211-s_lc.fits\n",
      "2min/tess2021204101404-s0041-0000000950789463-0212-s_lc.fits\n",
      "2min/tess2021204101404-s0041-0000001965518892-0212-s_lc.fits\n",
      "2min/tess2021232031932-s0042-0000000620160696-0213-s_lc.fits\n"
     ]
    },
    {
     "name": "stderr",
     "output_type": "stream",
     "text": [
      "/tmp/ipykernel_42508/1380486706.py:34: RuntimeWarning: invalid value encountered in double_scalars\n",
      "  weighted_mean_flux=np.sum(lightcurve_bin[:,1]*weights)/np.sum(weights)\n",
      "/tmp/ipykernel_42508/1380486706.py:35: RuntimeWarning: divide by zero encountered in double_scalars\n",
      "  weighted_mean_flux_error=np.sqrt(1/np.sum(weights))\n"
     ]
    },
    {
     "name": "stdout",
     "output_type": "stream",
     "text": [
      "2min/tess2021232031932-s0042-0000000611110286-0213-s_lc.fits\n",
      "2min/tess2021232031932-s0042-0000000630340408-0213-s_lc.fits\n",
      "2min/tess2021232031932-s0042-0000000471014634-0213-s_lc.fits\n",
      "2min/tess2021175071901-s0040-0000000950742208-0211-s_lc.fits\n",
      "2min/tess2021175071901-s0040-0000001883541601-0211-s_lc.fits\n",
      "2min/tess2021232031932-s0042-0000002052411145-0213-s_lc.fits\n",
      "2min/tess2021204101404-s0041-0000000233197921-0212-s_lc.fits\n",
      "2min/tess2021258175143-s0043-0000000610838956-0214-s_lc.fits\n",
      "2min/tess2021232031932-s0042-0000000471015380-0213-s_lc.fits\n",
      "2min/tess2021204101404-s0041-0000001867623786-0212-s_lc.fits\n",
      "2min/tess2021232031932-s0042-0000000611206582-0213-s_lc.fits\n",
      "2min/tess2021204101404-s0041-0000001973081269-0212-s_lc.fits\n"
     ]
    },
    {
     "name": "stderr",
     "output_type": "stream",
     "text": [
      "/tmp/ipykernel_42508/1380486706.py:34: RuntimeWarning: invalid value encountered in double_scalars\n",
      "  weighted_mean_flux=np.sum(lightcurve_bin[:,1]*weights)/np.sum(weights)\n",
      "/tmp/ipykernel_42508/1380486706.py:35: RuntimeWarning: divide by zero encountered in double_scalars\n",
      "  weighted_mean_flux_error=np.sqrt(1/np.sum(weights))\n"
     ]
    },
    {
     "name": "stdout",
     "output_type": "stream",
     "text": [
      "2min/tess2021258175143-s0043-0000000308166115-0214-s_lc.fits\n",
      "2min/tess2021232031932-s0042-0000000610737918-0213-s_lc.fits\n",
      "2min/tess2021175071901-s0040-0000001400774494-0211-s_lc.fits\n",
      "2min/tess2021175071901-s0040-0000000900740806-0211-s_lc.fits\n",
      "2min/tess2021204101404-s0041-0000001866654103-0212-s_lc.fits\n",
      "2min/tess2021232031932-s0042-0000000640877714-0213-s_lc.fits\n",
      "2min/tess2021175071901-s0040-0000000423171671-0211-s_lc.fits\n",
      "2min/tess2021204101404-s0041-0000001551465780-0212-s_lc.fits\n",
      "2min/tess2021204101404-s0041-0000000272782932-0212-s_lc.fits\n",
      "2min/tess2021258175143-s0043-0000000611125990-0214-s_lc.fits\n",
      "2min/tess2021232031932-s0042-0000000243186214-0213-s_lc.fits\n",
      "2min/tess2021258175143-s0043-0000000365293657-0214-s_lc.fits\n",
      "2min/tess2021258175143-s0043-0000000620040408-0214-s_lc.fits\n",
      "2min/tess2021204101404-s0041-0000001716950085-0212-s_lc.fits\n",
      "2min/tess2021175071901-s0040-0000000459867189-0211-s_lc.fits\n",
      "2min/tess2021204101404-s0041-0000001980619575-0212-s_lc.fits\n",
      "2min/tess2021175071901-s0040-0000000950782392-0211-s_lc.fits\n"
     ]
    },
    {
     "name": "stderr",
     "output_type": "stream",
     "text": [
      "/tmp/ipykernel_42508/1380486706.py:34: RuntimeWarning: invalid value encountered in double_scalars\n",
      "  weighted_mean_flux=np.sum(lightcurve_bin[:,1]*weights)/np.sum(weights)\n",
      "/tmp/ipykernel_42508/1380486706.py:35: RuntimeWarning: divide by zero encountered in double_scalars\n",
      "  weighted_mean_flux_error=np.sqrt(1/np.sum(weights))\n"
     ]
    },
    {
     "name": "stdout",
     "output_type": "stream",
     "text": [
      "2min/tess2021258175143-s0043-0000000630488004-0214-s_lc.fits\n",
      "2min/tess2021232031932-s0042-0000002024725257-0213-s_lc.fits\n",
      "2min/tess2021204101404-s0041-0000001717651980-0212-s_lc.fits\n",
      "2min/tess2021258175143-s0043-0000000640268278-0214-s_lc.fits\n",
      "2min/tess2021232031932-s0042-0000000610728919-0213-s_lc.fits\n",
      "2min/tess2021175071901-s0040-0000000120968638-0211-s_lc.fits\n",
      "2min/tess2021258175143-s0043-0000000640226759-0214-s_lc.fits\n",
      "2min/tess2021175071901-s0040-0000000950826037-0211-s_lc.fits\n",
      "2min/tess2021175071901-s0040-0000001717790778-0211-s_lc.fits\n",
      "2min/tess2021175071901-s0040-0000000462552847-0211-s_lc.fits\n",
      "2min/tess2021204101404-s0041-0000001847213698-0212-s_lc.fits\n",
      "2min/tess2021175071901-s0040-0000001400671660-0211-s_lc.fits\n",
      "2min/tess2021232031932-s0042-0000000471015086-0213-s_lc.fits\n",
      "2min/tess2021204101404-s0041-0000001718271335-0212-s_lc.fits\n",
      "2min/tess2021204101404-s0041-0000000424461085-0212-s_lc.fits\n",
      "2min/tess2021204101404-s0041-0000001943435268-0212-s_lc.fits\n",
      "2min/tess2021232031932-s0042-0000000611358291-0213-s_lc.fits\n",
      "2min/tess2021175071901-s0040-0000000950817374-0211-s_lc.fits\n",
      "2min/tess2021175071901-s0040-0000000159066936-0211-s_lc.fits\n",
      "2min/tess2021204101404-s0041-0000001883668125-0212-s_lc.fits\n"
     ]
    },
    {
     "name": "stderr",
     "output_type": "stream",
     "text": [
      "/tmp/ipykernel_42508/1380486706.py:34: RuntimeWarning: invalid value encountered in double_scalars\n",
      "  weighted_mean_flux=np.sum(lightcurve_bin[:,1]*weights)/np.sum(weights)\n",
      "/tmp/ipykernel_42508/1380486706.py:35: RuntimeWarning: divide by zero encountered in double_scalars\n",
      "  weighted_mean_flux_error=np.sqrt(1/np.sum(weights))\n",
      "/tmp/ipykernel_42508/1380486706.py:34: RuntimeWarning: invalid value encountered in double_scalars\n",
      "  weighted_mean_flux=np.sum(lightcurve_bin[:,1]*weights)/np.sum(weights)\n",
      "/tmp/ipykernel_42508/1380486706.py:35: RuntimeWarning: divide by zero encountered in double_scalars\n",
      "  weighted_mean_flux_error=np.sqrt(1/np.sum(weights))\n"
     ]
    },
    {
     "name": "stdout",
     "output_type": "stream",
     "text": [
      "2min/tess2021258175143-s0043-0000000620186289-0214-s_lc.fits\n",
      "2min/tess2021258175143-s0043-0000000611206582-0214-s_lc.fits\n",
      "2min/tess2021232031932-s0042-0000002024185139-0213-s_lc.fits\n",
      "2min/tess2021204101404-s0041-0000000042550954-0212-s_lc.fits\n",
      "2min/tess2021204101404-s0041-0000001883129777-0212-s_lc.fits\n",
      "2min/tess2021175071901-s0040-0000001851903059-0211-s_lc.fits\n",
      "2min/tess2021232031932-s0042-0000002024102551-0213-s_lc.fits\n",
      "2min/tess2021232031932-s0042-0000000075290894-0213-s_lc.fits\n",
      "2min/tess2021232031932-s0042-0000000365293657-0213-s_lc.fits\n",
      "2min/tess2021175071901-s0040-0000001550200335-0211-s_lc.fits\n",
      "2min/tess2021175071901-s0040-0000001686271825-0211-s_lc.fits\n",
      "2min/tess2021204101404-s0041-0000000462552847-0212-s_lc.fits\n",
      "2min/tess2021204101404-s0041-0000000950742208-0212-s_lc.fits\n",
      "2min/tess2021175071901-s0040-0000000232652205-0211-s_lc.fits\n"
     ]
    },
    {
     "name": "stderr",
     "output_type": "stream",
     "text": [
      "/tmp/ipykernel_42508/1380486706.py:34: RuntimeWarning: invalid value encountered in double_scalars\n",
      "  weighted_mean_flux=np.sum(lightcurve_bin[:,1]*weights)/np.sum(weights)\n",
      "/tmp/ipykernel_42508/1380486706.py:35: RuntimeWarning: divide by zero encountered in double_scalars\n",
      "  weighted_mean_flux_error=np.sqrt(1/np.sum(weights))\n"
     ]
    },
    {
     "name": "stdout",
     "output_type": "stream",
     "text": [
      "2min/tess2021258175143-s0043-0000000611154816-0214-s_lc.fits\n",
      "2min/tess2021175071901-s0040-0000001400602874-0211-s_lc.fits\n",
      "2min/tess2021175071901-s0040-0000001799381426-0211-s_lc.fits\n"
     ]
    },
    {
     "name": "stderr",
     "output_type": "stream",
     "text": [
      "/tmp/ipykernel_42508/1380486706.py:34: RuntimeWarning: invalid value encountered in double_scalars\n",
      "  weighted_mean_flux=np.sum(lightcurve_bin[:,1]*weights)/np.sum(weights)\n",
      "/tmp/ipykernel_42508/1380486706.py:35: RuntimeWarning: divide by zero encountered in double_scalars\n",
      "  weighted_mean_flux_error=np.sqrt(1/np.sum(weights))\n",
      "/tmp/ipykernel_42508/1380486706.py:34: RuntimeWarning: invalid value encountered in double_scalars\n",
      "  weighted_mean_flux=np.sum(lightcurve_bin[:,1]*weights)/np.sum(weights)\n",
      "/tmp/ipykernel_42508/1380486706.py:35: RuntimeWarning: divide by zero encountered in double_scalars\n",
      "  weighted_mean_flux_error=np.sqrt(1/np.sum(weights))\n",
      "/tmp/ipykernel_42508/1380486706.py:34: RuntimeWarning: invalid value encountered in double_scalars\n",
      "  weighted_mean_flux=np.sum(lightcurve_bin[:,1]*weights)/np.sum(weights)\n",
      "/tmp/ipykernel_42508/1380486706.py:35: RuntimeWarning: divide by zero encountered in double_scalars\n",
      "  weighted_mean_flux_error=np.sqrt(1/np.sum(weights))\n"
     ]
    },
    {
     "name": "stdout",
     "output_type": "stream",
     "text": [
      "2min/tess2021175071901-s0040-0000001684583829-0211-s_lc.fits\n",
      "2min/tess2021175071901-s0040-0000001717966873-0211-s_lc.fits\n",
      "2min/tess2021258175143-s0043-0000000610728919-0214-s_lc.fits\n",
      "2min/tess2021204101404-s0041-0000000122139438-0212-s_lc.fits\n",
      "2min/tess2021175071901-s0040-0000001716632592-0211-s_lc.fits\n"
     ]
    },
    {
     "name": "stderr",
     "output_type": "stream",
     "text": [
      "/tmp/ipykernel_42508/1380486706.py:34: RuntimeWarning: invalid value encountered in double_scalars\n",
      "  weighted_mean_flux=np.sum(lightcurve_bin[:,1]*weights)/np.sum(weights)\n",
      "/tmp/ipykernel_42508/1380486706.py:35: RuntimeWarning: divide by zero encountered in double_scalars\n",
      "  weighted_mean_flux_error=np.sqrt(1/np.sum(weights))\n"
     ]
    },
    {
     "name": "stdout",
     "output_type": "stream",
     "text": [
      "2min/tess2021232031932-s0042-0000000630406372-0213-s_lc.fits\n",
      "2min/tess2021258175143-s0043-0000000388814538-0214-s_lc.fits\n",
      "2min/tess2021175071901-s0040-0000000027688847-0211-s_lc.fits\n",
      "2min/tess2021232031932-s0042-0000002024663803-0213-s_lc.fits\n",
      "2min/tess2021258175143-s0043-0000000348719720-0214-s_lc.fits\n",
      "2min/tess2021232031932-s0042-0000002024417530-0213-s_lc.fits\n",
      "2min/tess2021175071901-s0040-0000001685789355-0211-s_lc.fits\n",
      "2min/tess2021232031932-s0042-0000000640326895-0213-s_lc.fits\n",
      "2min/tess2021204101404-s0041-0000001717966873-0212-s_lc.fits\n",
      "2min/tess2021175071901-s0040-0000000289239564-0211-s_lc.fits\n",
      "2min/tess2021204101404-s0041-0000000210225871-0212-s_lc.fits\n",
      "2min/tess2021258175143-s0043-0000000471015192-0214-s_lc.fits\n",
      "2min/tess2021258175143-s0043-0000000620203361-0214-s_lc.fits\n",
      "2min/tess2021204101404-s0041-0000000900497433-0212-s_lc.fits\n",
      "2min/tess2021232031932-s0042-0000000640377010-0213-s_lc.fits\n",
      "2min/tess2021204101404-s0041-0000000160185214-0212-s_lc.fits\n",
      "2min/tess2021232031932-s0042-0000000640503704-0213-s_lc.fits\n",
      "2min/tess2021204101404-s0041-0000001883107126-0212-s_lc.fits\n",
      "2min/tess2021175071901-s0040-0000001873752324-0211-s_lc.fits\n",
      "2min/tess2021258175143-s0043-0000000438401215-0214-s_lc.fits\n",
      "2min/tess2021204101404-s0041-0000001947431754-0212-s_lc.fits\n",
      "2min/tess2021232031932-s0042-0000000224220809-0213-s_lc.fits\n",
      "2min/tess2021204101404-s0041-0000000264399226-0212-s_lc.fits\n",
      "2min/tess2021232031932-s0042-0000002024449681-0213-s_lc.fits\n"
     ]
    },
    {
     "name": "stderr",
     "output_type": "stream",
     "text": [
      "/tmp/ipykernel_42508/1380486706.py:34: RuntimeWarning: invalid value encountered in double_scalars\n",
      "  weighted_mean_flux=np.sum(lightcurve_bin[:,1]*weights)/np.sum(weights)\n",
      "/tmp/ipykernel_42508/1380486706.py:35: RuntimeWarning: divide by zero encountered in double_scalars\n",
      "  weighted_mean_flux_error=np.sqrt(1/np.sum(weights))\n",
      "/tmp/ipykernel_42508/1380486706.py:34: RuntimeWarning: invalid value encountered in double_scalars\n",
      "  weighted_mean_flux=np.sum(lightcurve_bin[:,1]*weights)/np.sum(weights)\n",
      "/tmp/ipykernel_42508/1380486706.py:35: RuntimeWarning: divide by zero encountered in double_scalars\n",
      "  weighted_mean_flux_error=np.sqrt(1/np.sum(weights))\n"
     ]
    },
    {
     "name": "stdout",
     "output_type": "stream",
     "text": [
      "2min/tess2021175071901-s0040-0000001682881112-0211-s_lc.fits\n",
      "2min/tess2021204101404-s0041-0000001102359033-0212-s_lc.fits\n",
      "2min/tess2021175071901-s0040-0000000703105389-0211-s_lc.fits\n"
     ]
    },
    {
     "name": "stderr",
     "output_type": "stream",
     "text": [
      "/tmp/ipykernel_42508/1380486706.py:34: RuntimeWarning: invalid value encountered in double_scalars\n",
      "  weighted_mean_flux=np.sum(lightcurve_bin[:,1]*weights)/np.sum(weights)\n",
      "/tmp/ipykernel_42508/1380486706.py:35: RuntimeWarning: divide by zero encountered in double_scalars\n",
      "  weighted_mean_flux_error=np.sqrt(1/np.sum(weights))\n",
      "/tmp/ipykernel_42508/1380486706.py:34: RuntimeWarning: invalid value encountered in double_scalars\n",
      "  weighted_mean_flux=np.sum(lightcurve_bin[:,1]*weights)/np.sum(weights)\n",
      "/tmp/ipykernel_42508/1380486706.py:35: RuntimeWarning: divide by zero encountered in double_scalars\n",
      "  weighted_mean_flux_error=np.sqrt(1/np.sum(weights))\n"
     ]
    },
    {
     "name": "stdout",
     "output_type": "stream",
     "text": [
      "2min/tess2021258175143-s0043-0000000610720562-0214-s_lc.fits\n",
      "2min/tess2021232031932-s0042-0000002024662674-0213-s_lc.fits\n",
      "2min/tess2021204101404-s0041-0000001957020197-0212-s_lc.fits\n"
     ]
    },
    {
     "name": "stderr",
     "output_type": "stream",
     "text": [
      "/tmp/ipykernel_42508/1380486706.py:34: RuntimeWarning: invalid value encountered in double_scalars\n",
      "  weighted_mean_flux=np.sum(lightcurve_bin[:,1]*weights)/np.sum(weights)\n",
      "/tmp/ipykernel_42508/1380486706.py:35: RuntimeWarning: divide by zero encountered in double_scalars\n",
      "  weighted_mean_flux_error=np.sqrt(1/np.sum(weights))\n",
      "/tmp/ipykernel_42508/1380486706.py:34: RuntimeWarning: invalid value encountered in double_scalars\n",
      "  weighted_mean_flux=np.sum(lightcurve_bin[:,1]*weights)/np.sum(weights)\n",
      "/tmp/ipykernel_42508/1380486706.py:35: RuntimeWarning: divide by zero encountered in double_scalars\n",
      "  weighted_mean_flux_error=np.sqrt(1/np.sum(weights))\n"
     ]
    },
    {
     "name": "stdout",
     "output_type": "stream",
     "text": [
      "2min/tess2021204101404-s0041-0000001551185366-0212-s_lc.fits\n",
      "2min/tess2021258175143-s0043-0000000640142499-0214-s_lc.fits\n",
      "2min/tess2021232031932-s0042-0000000640860619-0213-s_lc.fits\n",
      "2min/tess2021204101404-s0041-0000001716632592-0212-s_lc.fits\n",
      "2min/tess2021175071901-s0040-0000001684935059-0211-s_lc.fits\n"
     ]
    },
    {
     "name": "stderr",
     "output_type": "stream",
     "text": [
      "/tmp/ipykernel_42508/1380486706.py:34: RuntimeWarning: invalid value encountered in double_scalars\n",
      "  weighted_mean_flux=np.sum(lightcurve_bin[:,1]*weights)/np.sum(weights)\n",
      "/tmp/ipykernel_42508/1380486706.py:35: RuntimeWarning: divide by zero encountered in double_scalars\n",
      "  weighted_mean_flux_error=np.sqrt(1/np.sum(weights))\n"
     ]
    },
    {
     "name": "stdout",
     "output_type": "stream",
     "text": [
      "2min/tess2021204101404-s0041-0000001862425336-0212-s_lc.fits\n",
      "2min/tess2021175071901-s0040-0000001687917466-0211-s_lc.fits\n",
      "2min/tess2021232031932-s0042-0000002052797965-0213-s_lc.fits\n",
      "2min/tess2021204101404-s0041-0000001400719891-0212-s_lc.fits\n",
      "2min/tess2021204101404-s0041-0000001880811401-0212-s_lc.fits\n",
      "2min/tess2021204101404-s0041-0000001001531452-0212-s_lc.fits\n",
      "2min/tess2021204101404-s0041-0000001980703157-0212-s_lc.fits\n"
     ]
    },
    {
     "name": "stderr",
     "output_type": "stream",
     "text": [
      "/tmp/ipykernel_42508/1380486706.py:34: RuntimeWarning: invalid value encountered in double_scalars\n",
      "  weighted_mean_flux=np.sum(lightcurve_bin[:,1]*weights)/np.sum(weights)\n",
      "/tmp/ipykernel_42508/1380486706.py:35: RuntimeWarning: divide by zero encountered in double_scalars\n",
      "  weighted_mean_flux_error=np.sqrt(1/np.sum(weights))\n",
      "/tmp/ipykernel_42508/1380486706.py:34: RuntimeWarning: invalid value encountered in double_scalars\n",
      "  weighted_mean_flux=np.sum(lightcurve_bin[:,1]*weights)/np.sum(weights)\n",
      "/tmp/ipykernel_42508/1380486706.py:35: RuntimeWarning: divide by zero encountered in double_scalars\n",
      "  weighted_mean_flux_error=np.sqrt(1/np.sum(weights))\n",
      "/tmp/ipykernel_42508/1380486706.py:34: RuntimeWarning: invalid value encountered in double_scalars\n",
      "  weighted_mean_flux=np.sum(lightcurve_bin[:,1]*weights)/np.sum(weights)\n",
      "/tmp/ipykernel_42508/1380486706.py:35: RuntimeWarning: divide by zero encountered in double_scalars\n",
      "  weighted_mean_flux_error=np.sqrt(1/np.sum(weights))\n"
     ]
    },
    {
     "name": "stdout",
     "output_type": "stream",
     "text": [
      "2min/tess2021204101404-s0041-0000001551446685-0212-s_lc.fits\n",
      "2min/tess2021232031932-s0042-0000000188618121-0213-s_lc.fits\n",
      "2min/tess2021232031932-s0042-0000000610654305-0213-s_lc.fits\n",
      "2min/tess2021175071901-s0040-0000001550750813-0211-s_lc.fits\n",
      "2min/tess2021175071901-s0040-0000000193872181-0211-s_lc.fits\n",
      "2min/tess2021204101404-s0041-0000001102623645-0212-s_lc.fits\n",
      "2min/tess2021175071901-s0040-0000001102501819-0211-s_lc.fits\n",
      "2min/tess2021175071901-s0040-0000001550099951-0211-s_lc.fits\n"
     ]
    },
    {
     "name": "stderr",
     "output_type": "stream",
     "text": [
      "/tmp/ipykernel_42508/1380486706.py:34: RuntimeWarning: invalid value encountered in double_scalars\n",
      "  weighted_mean_flux=np.sum(lightcurve_bin[:,1]*weights)/np.sum(weights)\n",
      "/tmp/ipykernel_42508/1380486706.py:35: RuntimeWarning: divide by zero encountered in double_scalars\n",
      "  weighted_mean_flux_error=np.sqrt(1/np.sum(weights))\n",
      "/tmp/ipykernel_42508/1380486706.py:34: RuntimeWarning: invalid value encountered in double_scalars\n",
      "  weighted_mean_flux=np.sum(lightcurve_bin[:,1]*weights)/np.sum(weights)\n",
      "/tmp/ipykernel_42508/1380486706.py:35: RuntimeWarning: divide by zero encountered in double_scalars\n",
      "  weighted_mean_flux_error=np.sqrt(1/np.sum(weights))\n",
      "/tmp/ipykernel_42508/1380486706.py:34: RuntimeWarning: invalid value encountered in double_scalars\n",
      "  weighted_mean_flux=np.sum(lightcurve_bin[:,1]*weights)/np.sum(weights)\n",
      "/tmp/ipykernel_42508/1380486706.py:35: RuntimeWarning: divide by zero encountered in double_scalars\n",
      "  weighted_mean_flux_error=np.sqrt(1/np.sum(weights))\n",
      "/tmp/ipykernel_42508/1380486706.py:34: RuntimeWarning: invalid value encountered in double_scalars\n",
      "  weighted_mean_flux=np.sum(lightcurve_bin[:,1]*weights)/np.sum(weights)\n",
      "/tmp/ipykernel_42508/1380486706.py:35: RuntimeWarning: divide by zero encountered in double_scalars\n",
      "  weighted_mean_flux_error=np.sqrt(1/np.sum(weights))\n"
     ]
    },
    {
     "name": "stdout",
     "output_type": "stream",
     "text": [
      "2min/tess2021175071901-s0040-0000001884610498-0211-s_lc.fits\n",
      "2min/tess2021175071901-s0040-0000001685343459-0211-s_lc.fits\n",
      "2min/tess2021175071901-s0040-0000001873316848-0211-s_lc.fits\n",
      "2min/tess2021204101404-s0041-0000001001452037-0212-s_lc.fits\n",
      "2min/tess2021204101404-s0041-0000001980752885-0212-s_lc.fits\n",
      "2min/tess2021258175143-s0043-0000000408253347-0214-s_lc.fits\n",
      "2min/tess2021258175143-s0043-0000000620020027-0214-s_lc.fits\n",
      "2min/tess2021175071901-s0040-0000000160521427-0211-s_lc.fits\n",
      "2min/tess2021232031932-s0042-0000000176104105-0213-s_lc.fits\n",
      "2min/tess2021175071901-s0040-0000001717486585-0211-s_lc.fits\n",
      "2min/tess2021258175143-s0043-0000000286042374-0214-s_lc.fits\n",
      "2min/tess2021204101404-s0041-0000001849099830-0212-s_lc.fits\n",
      "2min/tess2021232031932-s0042-0000000630159249-0213-s_lc.fits\n",
      "2min/tess2021232031932-s0042-0000000611287510-0213-s_lc.fits\n",
      "2min/tess2021232031932-s0042-0000000640383130-0213-s_lc.fits\n",
      "2min/tess2021204101404-s0041-0000000232652205-0212-s_lc.fits\n",
      "2min/tess2021258175143-s0043-0000000438046408-0214-s_lc.fits\n",
      "2min/tess2021204101404-s0041-0000000900762564-0212-s_lc.fits\n",
      "2min/tess2021175071901-s0040-0000001001526706-0211-s_lc.fits\n",
      "2min/tess2021232031932-s0042-0000000471015456-0213-s_lc.fits\n",
      "2min/tess2021258175143-s0043-0000000620251540-0214-s_lc.fits\n",
      "2min/tess2021232031932-s0042-0000002052543841-0213-s_lc.fits\n",
      "2min/tess2021175071901-s0040-0000000158013652-0211-s_lc.fits\n",
      "2min/tess2021175071901-s0040-0000000743660657-0211-s_lc.fits\n",
      "2min/tess2021232031932-s0042-0000000422915320-0213-s_lc.fits\n",
      "2min/tess2021175071901-s0040-0000001684660586-0211-s_lc.fits\n",
      "2min/tess2021258175143-s0043-0000000620014592-0214-s_lc.fits\n"
     ]
    },
    {
     "name": "stderr",
     "output_type": "stream",
     "text": [
      "/tmp/ipykernel_42508/1380486706.py:34: RuntimeWarning: invalid value encountered in double_scalars\n",
      "  weighted_mean_flux=np.sum(lightcurve_bin[:,1]*weights)/np.sum(weights)\n",
      "/tmp/ipykernel_42508/1380486706.py:35: RuntimeWarning: divide by zero encountered in double_scalars\n",
      "  weighted_mean_flux_error=np.sqrt(1/np.sum(weights))\n"
     ]
    },
    {
     "name": "stdout",
     "output_type": "stream",
     "text": [
      "2min/tess2021175071901-s0040-0000001400719891-0211-s_lc.fits\n",
      "2min/tess2021175071901-s0040-0000000122139438-0211-s_lc.fits\n",
      "2min/tess2021232031932-s0042-0000000241160001-0213-s_lc.fits\n",
      "2min/tess2021232031932-s0042-0000000301258678-0213-s_lc.fits\n",
      "2min/tess2021258175143-s0043-0000000640179626-0214-s_lc.fits\n",
      "2min/tess2021232031932-s0042-0000000620229062-0213-s_lc.fits\n",
      "2min/tess2021175071901-s0040-0000001507668294-0211-s_lc.fits\n",
      "2min/tess2021232031932-s0042-0000000630437364-0213-s_lc.fits\n",
      "2min/tess2021232031932-s0042-0000000620251540-0213-s_lc.fits\n",
      "2min/tess2021232031932-s0042-0000000620020027-0213-s_lc.fits\n"
     ]
    },
    {
     "name": "stderr",
     "output_type": "stream",
     "text": [
      "/tmp/ipykernel_42508/1380486706.py:34: RuntimeWarning: invalid value encountered in double_scalars\n",
      "  weighted_mean_flux=np.sum(lightcurve_bin[:,1]*weights)/np.sum(weights)\n",
      "/tmp/ipykernel_42508/1380486706.py:35: RuntimeWarning: divide by zero encountered in double_scalars\n",
      "  weighted_mean_flux_error=np.sqrt(1/np.sum(weights))\n",
      "/tmp/ipykernel_42508/1380486706.py:34: RuntimeWarning: invalid value encountered in double_scalars\n",
      "  weighted_mean_flux=np.sum(lightcurve_bin[:,1]*weights)/np.sum(weights)\n",
      "/tmp/ipykernel_42508/1380486706.py:35: RuntimeWarning: divide by zero encountered in double_scalars\n",
      "  weighted_mean_flux_error=np.sqrt(1/np.sum(weights))\n"
     ]
    },
    {
     "name": "stdout",
     "output_type": "stream",
     "text": [
      "2min/tess2021232031932-s0042-0000002052284133-0213-s_lc.fits\n",
      "2min/tess2021258175143-s0043-0000000610785338-0214-s_lc.fits\n",
      "2min/tess2021175071901-s0040-0000001684780843-0211-s_lc.fits\n",
      "2min/tess2021232031932-s0042-0000002052177328-0213-s_lc.fits\n",
      "2min/tess2021175071901-s0040-0000001882777806-0211-s_lc.fits\n",
      "2min/tess2021232031932-s0042-0000000640268278-0213-s_lc.fits\n",
      "2min/tess2021204101404-s0041-0000000015131739-0212-s_lc.fits\n",
      "2min/tess2021204101404-s0041-0000001884375799-0212-s_lc.fits\n",
      "2min/tess2021232031932-s0042-0000002052900970-0213-s_lc.fits\n",
      "2min/tess2021232031932-s0042-0000000640396883-0213-s_lc.fits\n",
      "2min/tess2021232031932-s0042-0000000610494778-0213-s_lc.fits\n",
      "2min/tess2021232031932-s0042-0000000620039102-0213-s_lc.fits\n",
      "2min/tess2021232031932-s0042-0000002024698206-0213-s_lc.fits\n",
      "2min/tess2021258175143-s0043-0000000611288606-0214-s_lc.fits\n",
      "2min/tess2021175071901-s0040-0000000123131795-0211-s_lc.fits\n",
      "2min/tess2021175071901-s0040-0000001682869328-0211-s_lc.fits\n"
     ]
    },
    {
     "name": "stderr",
     "output_type": "stream",
     "text": [
      "/tmp/ipykernel_42508/1380486706.py:34: RuntimeWarning: invalid value encountered in double_scalars\n",
      "  weighted_mean_flux=np.sum(lightcurve_bin[:,1]*weights)/np.sum(weights)\n",
      "/tmp/ipykernel_42508/1380486706.py:35: RuntimeWarning: divide by zero encountered in double_scalars\n",
      "  weighted_mean_flux_error=np.sqrt(1/np.sum(weights))\n"
     ]
    },
    {
     "name": "stdout",
     "output_type": "stream",
     "text": [
      "2min/tess2021232031932-s0042-0000000640905549-0213-s_lc.fits\n",
      "2min/tess2021232031932-s0042-0000000620195377-0213-s_lc.fits\n",
      "2min/tess2021175071901-s0040-0000000649578656-0211-s_lc.fits\n",
      "2min/tess2021232031932-s0042-0000000610701101-0213-s_lc.fits\n",
      "2min/tess2021175071901-s0040-0000000115970839-0211-s_lc.fits\n",
      "2min/tess2021204101404-s0041-0000001201397671-0212-s_lc.fits\n"
     ]
    },
    {
     "name": "stderr",
     "output_type": "stream",
     "text": [
      "/tmp/ipykernel_42508/1380486706.py:34: RuntimeWarning: invalid value encountered in double_scalars\n",
      "  weighted_mean_flux=np.sum(lightcurve_bin[:,1]*weights)/np.sum(weights)\n",
      "/tmp/ipykernel_42508/1380486706.py:35: RuntimeWarning: divide by zero encountered in double_scalars\n",
      "  weighted_mean_flux_error=np.sqrt(1/np.sum(weights))\n"
     ]
    },
    {
     "name": "stdout",
     "output_type": "stream",
     "text": [
      "2min/tess2021175071901-s0040-0000000802761806-0211-s_lc.fits\n",
      "2min/tess2021258175143-s0043-0000000630641085-0214-s_lc.fits\n",
      "2min/tess2021175071901-s0040-0000001684868276-0211-s_lc.fits\n",
      "2min/tess2021175071901-s0040-0000001872747454-0211-s_lc.fits\n",
      "2min/tess2021204101404-s0041-0000001875971728-0212-s_lc.fits\n",
      "2min/tess2021175071901-s0040-0000001550455030-0211-s_lc.fits\n",
      "2min/tess2021204101404-s0041-0000001883995514-0212-s_lc.fits\n",
      "2min/tess2021232031932-s0042-0000000630632013-0213-s_lc.fits\n"
     ]
    },
    {
     "name": "stderr",
     "output_type": "stream",
     "text": [
      "/tmp/ipykernel_42508/1380486706.py:34: RuntimeWarning: invalid value encountered in double_scalars\n",
      "  weighted_mean_flux=np.sum(lightcurve_bin[:,1]*weights)/np.sum(weights)\n",
      "/tmp/ipykernel_42508/1380486706.py:35: RuntimeWarning: divide by zero encountered in double_scalars\n",
      "  weighted_mean_flux_error=np.sqrt(1/np.sum(weights))\n"
     ]
    },
    {
     "name": "stdout",
     "output_type": "stream",
     "text": [
      "2min/tess2021175071901-s0040-0000001714951233-0211-s_lc.fits\n",
      "2min/tess2021175071901-s0040-0000000232524621-0211-s_lc.fits\n",
      "2min/tess2021204101404-s0041-0000000011716579-0212-s_lc.fits\n",
      "2min/tess2021258175143-s0043-0000000610670307-0214-s_lc.fits\n",
      "2min/tess2021232031932-s0042-0000000004517877-0213-s_lc.fits\n",
      "2min/tess2021204101404-s0041-0000001973201671-0212-s_lc.fits\n",
      "2min/tess2021258175143-s0043-0000000247604559-0214-s_lc.fits\n",
      "2min/tess2021232031932-s0042-0000000640689915-0213-s_lc.fits\n",
      "2min/tess2021258175143-s0043-0000000247665786-0214-s_lc.fits\n",
      "2min/tess2021258175143-s0043-0000000611110286-0214-s_lc.fits\n",
      "2min/tess2021175071901-s0040-0000001401077160-0211-s_lc.fits\n",
      "2min/tess2021232031932-s0042-0000000471014480-0213-s_lc.fits\n",
      "2min/tess2021232031932-s0042-0000002028814645-0213-s_lc.fits\n",
      "2min/tess2021175071901-s0040-0000000441588481-0211-s_lc.fits\n",
      "2min/tess2021204101404-s0041-0000001964583807-0212-s_lc.fits\n",
      "2min/tess2021204101404-s0041-0000001102683254-0212-s_lc.fits\n",
      "2min/tess2021258175143-s0043-0000000630632013-0214-s_lc.fits\n",
      "2min/tess2021204101404-s0041-0000000311948770-0212-s_lc.fits\n",
      "2min/tess2021175071901-s0040-0000001685418019-0211-s_lc.fits\n",
      "2min/tess2021232031932-s0042-0000000611378324-0213-s_lc.fits\n",
      "2min/tess2021258175143-s0043-0000000640295239-0214-s_lc.fits\n",
      "2min/tess2021232031932-s0042-0000002024693615-0213-s_lc.fits\n",
      "2min/tess2021204101404-s0041-0000001550866355-0212-s_lc.fits\n",
      "2min/tess2021232031932-s0042-0000000610709823-0213-s_lc.fits\n",
      "2min/tess2021204101404-s0041-0000000900665488-0212-s_lc.fits\n",
      "2min/tess2021175071901-s0040-0000000841382055-0211-s_lc.fits\n",
      "2min/tess2021204101404-s0041-0000000185113981-0212-s_lc.fits\n",
      "2min/tess2021232031932-s0042-0000000640405236-0213-s_lc.fits\n",
      "2min/tess2021232031932-s0042-0000002052415333-0213-s_lc.fits\n",
      "2min/tess2021232031932-s0042-0000000620090823-0213-s_lc.fits\n",
      "2min/tess2021175071901-s0040-0000000154345149-0211-s_lc.fits\n",
      "2min/tess2021232031932-s0042-0000000640268279-0213-s_lc.fits\n",
      "2min/tess2021258175143-s0043-0000000630362244-0214-s_lc.fits\n",
      "2min/tess2021232031932-s0042-0000000262568916-0213-s_lc.fits\n",
      "2min/tess2021258175143-s0043-0000000630159249-0214-s_lc.fits\n",
      "2min/tess2021232031932-s0042-0000002052636912-0213-s_lc.fits\n",
      "2min/tess2021175071901-s0040-0000001551749072-0211-s_lc.fits\n",
      "2min/tess2021232031932-s0042-0000000408253347-0213-s_lc.fits\n",
      "2min/tess2021258175143-s0043-0000000078433356-0214-s_lc.fits\n",
      "2min/tess2021232031932-s0042-0000002024394615-0213-s_lc.fits\n",
      "2min/tess2021175071901-s0040-0000001865702120-0211-s_lc.fits\n"
     ]
    },
    {
     "name": "stderr",
     "output_type": "stream",
     "text": [
      "/tmp/ipykernel_42508/1380486706.py:34: RuntimeWarning: invalid value encountered in double_scalars\n",
      "  weighted_mean_flux=np.sum(lightcurve_bin[:,1]*weights)/np.sum(weights)\n",
      "/tmp/ipykernel_42508/1380486706.py:35: RuntimeWarning: divide by zero encountered in double_scalars\n",
      "  weighted_mean_flux_error=np.sqrt(1/np.sum(weights))\n"
     ]
    },
    {
     "name": "stdout",
     "output_type": "stream",
     "text": [
      "2min/tess2021232031932-s0042-0000000620043884-0213-s_lc.fits\n",
      "2min/tess2021175071901-s0040-0000001718054365-0211-s_lc.fits\n",
      "2min/tess2021232031932-s0042-0000000014109643-0213-s_lc.fits\n",
      "2min/tess2021232031932-s0042-0000000611007446-0213-s_lc.fits\n",
      "2min/tess2021175071901-s0040-0000000233197921-0211-s_lc.fits\n",
      "2min/tess2021204101404-s0041-0000001850797364-0212-s_lc.fits\n",
      "2min/tess2021258175143-s0043-0000000611378324-0214-s_lc.fits\n",
      "2min/tess2021175071901-s0040-0000001684000028-0211-s_lc.fits\n",
      "2min/tess2021175071901-s0040-0000001881042585-0211-s_lc.fits\n",
      "2min/tess2021258175143-s0043-0000000640212845-0214-s_lc.fits\n",
      "2min/tess2021232031932-s0042-0000000640853233-0213-s_lc.fits\n",
      "2min/tess2021175071901-s0040-0000001400256521-0211-s_lc.fits\n",
      "2min/tess2021258175143-s0043-0000000117001779-0214-s_lc.fits\n",
      "2min/tess2021175071901-s0040-0000000229581336-0211-s_lc.fits\n",
      "2min/tess2021232031932-s0042-0000000471015444-0213-s_lc.fits\n",
      "2min/tess2021232031932-s0042-0000000611000962-0213-s_lc.fits\n",
      "2min/tess2021175071901-s0040-0000001687534250-0211-s_lc.fits\n",
      "2min/tess2021232031932-s0042-0000000434105262-0213-s_lc.fits\n",
      "2min/tess2021175071901-s0040-0000002023957883-0211-s_lc.fits\n",
      "2min/tess2021204101404-s0041-0000001717622636-0212-s_lc.fits\n",
      "2min/tess2021232031932-s0042-0000000640416307-0213-s_lc.fits\n",
      "2min/tess2021175071901-s0040-0000001508401471-0211-s_lc.fits\n"
     ]
    },
    {
     "name": "stderr",
     "output_type": "stream",
     "text": [
      "/tmp/ipykernel_42508/1380486706.py:34: RuntimeWarning: invalid value encountered in double_scalars\n",
      "  weighted_mean_flux=np.sum(lightcurve_bin[:,1]*weights)/np.sum(weights)\n",
      "/tmp/ipykernel_42508/1380486706.py:35: RuntimeWarning: divide by zero encountered in double_scalars\n",
      "  weighted_mean_flux_error=np.sqrt(1/np.sum(weights))\n",
      "/tmp/ipykernel_42508/1380486706.py:34: RuntimeWarning: invalid value encountered in double_scalars\n",
      "  weighted_mean_flux=np.sum(lightcurve_bin[:,1]*weights)/np.sum(weights)\n",
      "/tmp/ipykernel_42508/1380486706.py:35: RuntimeWarning: divide by zero encountered in double_scalars\n",
      "  weighted_mean_flux_error=np.sqrt(1/np.sum(weights))\n"
     ]
    },
    {
     "name": "stdout",
     "output_type": "stream",
     "text": [
      "2min/tess2021232031932-s0042-0000000257883269-0213-s_lc.fits\n",
      "2min/tess2021175071901-s0040-0000001718225859-0211-s_lc.fits\n",
      "2min/tess2021175071901-s0040-0000000030259477-0211-s_lc.fits\n",
      "2min/tess2021175071901-s0040-0000000424461085-0211-s_lc.fits\n",
      "2min/tess2021232031932-s0042-0000000611079336-0213-s_lc.fits\n",
      "2min/tess2021204101404-s0041-0000001960110349-0212-s_lc.fits\n",
      "2min/tess2021204101404-s0041-0000001716693230-0212-s_lc.fits\n",
      "2min/tess2021175071901-s0040-0000001687756483-0211-s_lc.fits\n"
     ]
    },
    {
     "name": "stderr",
     "output_type": "stream",
     "text": [
      "/tmp/ipykernel_42508/1380486706.py:34: RuntimeWarning: invalid value encountered in double_scalars\n",
      "  weighted_mean_flux=np.sum(lightcurve_bin[:,1]*weights)/np.sum(weights)\n",
      "/tmp/ipykernel_42508/1380486706.py:35: RuntimeWarning: divide by zero encountered in double_scalars\n",
      "  weighted_mean_flux_error=np.sqrt(1/np.sum(weights))\n",
      "/tmp/ipykernel_42508/1380486706.py:34: RuntimeWarning: invalid value encountered in double_scalars\n",
      "  weighted_mean_flux=np.sum(lightcurve_bin[:,1]*weights)/np.sum(weights)\n",
      "/tmp/ipykernel_42508/1380486706.py:35: RuntimeWarning: divide by zero encountered in double_scalars\n",
      "  weighted_mean_flux_error=np.sqrt(1/np.sum(weights))\n"
     ]
    },
    {
     "name": "stdout",
     "output_type": "stream",
     "text": [
      "2min/tess2021175071901-s0040-0000001711496637-0211-s_lc.fits\n",
      "2min/tess2021175071901-s0040-0000001550323674-0211-s_lc.fits\n",
      "2min/tess2021258175143-s0043-0000000247714888-0214-s_lc.fits\n",
      "2min/tess2021204101404-s0041-0000001846159879-0212-s_lc.fits\n",
      "2min/tess2021175071901-s0040-0000001714426013-0211-s_lc.fits\n",
      "2min/tess2021204101404-s0041-0000000160521427-0212-s_lc.fits\n",
      "2min/tess2021175071901-s0040-0000001686312923-0211-s_lc.fits\n",
      "2min/tess2021204101404-s0041-0000001884531096-0212-s_lc.fits\n",
      "2min/tess2021232031932-s0042-0000000640975395-0213-s_lc.fits\n",
      "2min/tess2021232031932-s0042-0000000640179626-0213-s_lc.fits\n",
      "2min/tess2021258175143-s0043-0000000114058447-0214-s_lc.fits\n",
      "2min/tess2021258175143-s0043-0000000269750545-0214-s_lc.fits\n",
      "2min/tess2021204101404-s0041-0000001271382181-0212-s_lc.fits\n",
      "2min/tess2021258175143-s0043-0000000247606661-0214-s_lc.fits\n",
      "2min/tess2021175071901-s0040-0000001880811401-0211-s_lc.fits\n",
      "2min/tess2021204101404-s0041-0000000841218453-0212-s_lc.fits\n",
      "2min/tess2021232031932-s0042-0000002052819948-0213-s_lc.fits\n",
      "2min/tess2021204101404-s0041-0000000122889490-0212-s_lc.fits\n",
      "2min/tess2021258175143-s0043-0000000611208850-0214-s_lc.fits\n",
      "2min/tess2021175071901-s0040-0000001551526216-0211-s_lc.fits\n",
      "2min/tess2021175071901-s0040-0000001884556291-0211-s_lc.fits\n",
      "2min/tess2021204101404-s0041-0000001865702120-0212-s_lc.fits\n",
      "2min/tess2021258175143-s0043-0000000640091965-0214-s_lc.fits\n",
      "2min/tess2021204101404-s0041-0000000900627230-0212-s_lc.fits\n"
     ]
    },
    {
     "name": "stderr",
     "output_type": "stream",
     "text": [
      "/tmp/ipykernel_42508/1380486706.py:34: RuntimeWarning: invalid value encountered in double_scalars\n",
      "  weighted_mean_flux=np.sum(lightcurve_bin[:,1]*weights)/np.sum(weights)\n",
      "/tmp/ipykernel_42508/1380486706.py:35: RuntimeWarning: divide by zero encountered in double_scalars\n",
      "  weighted_mean_flux_error=np.sqrt(1/np.sum(weights))\n"
     ]
    },
    {
     "name": "stdout",
     "output_type": "stream",
     "text": [
      "2min/tess2021232031932-s0042-0000000422411748-0213-s_lc.fits\n",
      "2min/tess2021232031932-s0042-0000000610557954-0213-s_lc.fits\n",
      "2min/tess2021204101404-s0041-0000000335682765-0212-s_lc.fits\n",
      "2min/tess2021258175143-s0043-0000000620043250-0214-s_lc.fits\n",
      "2min/tess2021204101404-s0041-0000001880395311-0212-s_lc.fits\n",
      "2min/tess2021175071901-s0040-0000000900691235-0211-s_lc.fits\n",
      "2min/tess2021175071901-s0040-0000001857789292-0211-s_lc.fits\n",
      "2min/tess2021232031932-s0042-0000002052955885-0213-s_lc.fits\n"
     ]
    },
    {
     "name": "stderr",
     "output_type": "stream",
     "text": [
      "/tmp/ipykernel_42508/1380486706.py:34: RuntimeWarning: invalid value encountered in double_scalars\n",
      "  weighted_mean_flux=np.sum(lightcurve_bin[:,1]*weights)/np.sum(weights)\n",
      "/tmp/ipykernel_42508/1380486706.py:35: RuntimeWarning: divide by zero encountered in double_scalars\n",
      "  weighted_mean_flux_error=np.sqrt(1/np.sum(weights))\n",
      "/tmp/ipykernel_42508/1380486706.py:34: RuntimeWarning: invalid value encountered in double_scalars\n",
      "  weighted_mean_flux=np.sum(lightcurve_bin[:,1]*weights)/np.sum(weights)\n",
      "/tmp/ipykernel_42508/1380486706.py:35: RuntimeWarning: divide by zero encountered in double_scalars\n",
      "  weighted_mean_flux_error=np.sqrt(1/np.sum(weights))\n"
     ]
    },
    {
     "name": "stdout",
     "output_type": "stream",
     "text": [
      "2min/tess2021175071901-s0040-0000001715947394-0211-s_lc.fits\n",
      "2min/tess2021175071901-s0040-0000001686680212-0211-s_lc.fits\n",
      "2min/tess2021232031932-s0042-0000002052948044-0213-s_lc.fits\n",
      "2min/tess2021204101404-s0041-0000000900634187-0212-s_lc.fits\n",
      "2min/tess2021232031932-s0042-0000000640164247-0213-s_lc.fits\n",
      "2min/tess2021258175143-s0043-0000000620090823-0214-s_lc.fits\n",
      "2min/tess2021232031932-s0042-0000000620186289-0213-s_lc.fits\n",
      "2min/tess2021175071901-s0040-0000000198178353-0211-s_lc.fits\n",
      "2min/tess2021204101404-s0041-0000001874197731-0212-s_lc.fits\n",
      "2min/tess2021204101404-s0041-0000001849363609-0212-s_lc.fits\n",
      "2min/tess2021258175143-s0043-0000000640268279-0214-s_lc.fits\n",
      "2min/tess2021204101404-s0041-0000001884482525-0212-s_lc.fits\n",
      "2min/tess2021232031932-s0042-0000000640198164-0213-s_lc.fits\n",
      "2min/tess2021258175143-s0043-0000000610931239-0214-s_lc.fits\n",
      "2min/tess2021232031932-s0042-0000000620093888-0213-s_lc.fits\n",
      "2min/tess2021258175143-s0043-0000000620065517-0214-s_lc.fits\n",
      "2min/tess2021175071901-s0040-0000000007622101-0211-s_lc.fits\n",
      "2min/tess2021175071901-s0040-0000001884482525-0211-s_lc.fits\n",
      "2min/tess2021258175143-s0043-0000000056553232-0214-s_lc.fits\n",
      "2min/tess2021232031932-s0042-0000002052239407-0213-s_lc.fits\n",
      "2min/tess2021175071901-s0040-0000000841246844-0211-s_lc.fits\n",
      "2min/tess2021258175143-s0043-0000000630368009-0214-s_lc.fits\n",
      "2min/tess2021175071901-s0040-0000000841424790-0211-s_lc.fits\n",
      "2min/tess2021175071901-s0040-0000001874197731-0211-s_lc.fits\n",
      "2min/tess2021175071901-s0040-0000000350987724-0211-s_lc.fits\n",
      "2min/tess2021232031932-s0042-0000000610918339-0213-s_lc.fits\n",
      "2min/tess2021232031932-s0042-0000000630434805-0213-s_lc.fits\n",
      "2min/tess2021232031932-s0042-0000002024683944-0213-s_lc.fits\n",
      "2min/tess2021258175143-s0043-0000000058870694-0214-s_lc.fits\n",
      "2min/tess2021175071901-s0040-0000000406537895-0211-s_lc.fits\n",
      "2min/tess2021175071901-s0040-0000000232682605-0211-s_lc.fits\n",
      "2min/tess2021204101404-s0041-0000001001539888-0212-s_lc.fits\n",
      "2min/tess2021232031932-s0042-0000000640371627-0213-s_lc.fits\n",
      "2min/tess2021204101404-s0041-0000001959951617-0212-s_lc.fits\n",
      "2min/tess2021232031932-s0042-0000000610558354-0213-s_lc.fits\n",
      "2min/tess2021175071901-s0040-0000000900690774-0211-s_lc.fits\n",
      "2min/tess2021258175143-s0043-0000000620160696-0214-s_lc.fits\n",
      "2min/tess2021232031932-s0042-0000000293394054-0213-s_lc.fits\n",
      "2min/tess2021204101404-s0041-0000001951034668-0212-s_lc.fits\n",
      "2min/tess2021204101404-s0041-0000001717957117-0212-s_lc.fits\n"
     ]
    },
    {
     "name": "stderr",
     "output_type": "stream",
     "text": [
      "/tmp/ipykernel_42508/1380486706.py:34: RuntimeWarning: invalid value encountered in double_scalars\n",
      "  weighted_mean_flux=np.sum(lightcurve_bin[:,1]*weights)/np.sum(weights)\n",
      "/tmp/ipykernel_42508/1380486706.py:35: RuntimeWarning: divide by zero encountered in double_scalars\n",
      "  weighted_mean_flux_error=np.sqrt(1/np.sum(weights))\n"
     ]
    },
    {
     "name": "stdout",
     "output_type": "stream",
     "text": [
      "2min/tess2021175071901-s0040-0000001847213698-0211-s_lc.fits\n",
      "2min/tess2021232031932-s0042-0000002028913070-0213-s_lc.fits\n",
      "2min/tess2021204101404-s0041-0000001001416172-0212-s_lc.fits\n",
      "2min/tess2021175071901-s0040-0000000356268485-0211-s_lc.fits\n",
      "2min/tess2021204101404-s0041-0000000900740806-0212-s_lc.fits\n"
     ]
    },
    {
     "name": "stderr",
     "output_type": "stream",
     "text": [
      "/tmp/ipykernel_42508/1380486706.py:34: RuntimeWarning: invalid value encountered in double_scalars\n",
      "  weighted_mean_flux=np.sum(lightcurve_bin[:,1]*weights)/np.sum(weights)\n",
      "/tmp/ipykernel_42508/1380486706.py:35: RuntimeWarning: divide by zero encountered in double_scalars\n",
      "  weighted_mean_flux_error=np.sqrt(1/np.sum(weights))\n"
     ]
    },
    {
     "name": "stdout",
     "output_type": "stream",
     "text": [
      "2min/tess2021258175143-s0043-0000000086543596-0214-s_lc.fits\n",
      "2min/tess2021175071901-s0040-0000001920685932-0211-s_lc.fits\n",
      "2min/tess2021175071901-s0040-0000001686601724-0211-s_lc.fits\n"
     ]
    },
    {
     "name": "stderr",
     "output_type": "stream",
     "text": [
      "/tmp/ipykernel_42508/1380486706.py:34: RuntimeWarning: invalid value encountered in double_scalars\n",
      "  weighted_mean_flux=np.sum(lightcurve_bin[:,1]*weights)/np.sum(weights)\n",
      "/tmp/ipykernel_42508/1380486706.py:35: RuntimeWarning: divide by zero encountered in double_scalars\n",
      "  weighted_mean_flux_error=np.sqrt(1/np.sum(weights))\n"
     ]
    }
   ],
   "source": [
    "r_BLS = np.array(r_BLS)\n",
    "r_LS = np.array(r_LS)\n",
    "\n",
    "for f in p:\n",
    "    print(f)\n",
    "    t, y, dy, RA, Dec, TICID = load_LC(f)\n",
    "    solution_LS = r_LS[r_LS[:, 0] == TICID][0]\n",
    "    solution_BLS = r_BLS[r_BLS[:, 0] == TICID][0]\n",
    "    best_period_LS = solution_LS[3]\n",
    "    best_power_LS = 1000 * solution_LS[4]\n",
    "    phase = (t % best_period_LS) / best_period_LS\n",
    "    binned_LC = binning(phase, y, dy, N=100)\n",
    "    if best_power_LS > 10:\n",
    "        plt.errorbar(binned_LC[:, 0], binned_LC[:, 1], binned_LC[:, 2], ls=\" \")\n",
    "        # you may want to save these files in /data/submit/{kerb_user} instead because you could sooner or later run into\n",
    "        # your disk quota in your home directory\n",
    "        plt.savefig(\n",
    "            \"output_LS/\"\n",
    "            + str(best_power_LS)\n",
    "            + \"_\"\n",
    "            + str(TICID)\n",
    "            + \"_\"\n",
    "            + str(RA)\n",
    "            + \"_\"\n",
    "            + str(Dec)\n",
    "            + \"_\"\n",
    "            + str(best_period_LS)\n",
    "            + \".png\"\n",
    "        )\n",
    "        plt.close()\n",
    "        best_period_LS = solution_LS[3]\n",
    "    best_period_BLS = solution_LS[3]\n",
    "    best_power_BLS = 10 * solution_BLS[4]\n",
    "    phase = (t % best_period_BLS) / best_period_BLS\n",
    "    binned_LC = binning(phase, y, dy, N=100)\n",
    "    if best_power_BLS > 10:\n",
    "        plt.errorbar(binned_LC[:, 0], binned_LC[:, 1], binned_LC[:, 2], ls=\" \")\n",
    "        plt.savefig(\n",
    "            \"output_BLS/\"\n",
    "            + str(best_power_BLS)\n",
    "            + \"_\"\n",
    "            + str(TICID)\n",
    "            + \"_\"\n",
    "            + str(RA)\n",
    "            + \"_\"\n",
    "            + str(Dec)\n",
    "            + \"_\"\n",
    "            + str(best_period_BLS)\n",
    "            + \".png\"\n",
    "        )\n",
    "        plt.close()"
   ]
  }
 ],
 "metadata": {
  "kernelspec": {
   "display_name": "Python 3 (ipykernel)",
   "language": "python",
   "name": "python3"
  },
  "language_info": {
   "codemirror_mode": {
    "name": "ipython",
    "version": 3
   },
   "file_extension": ".py",
   "mimetype": "text/x-python",
   "name": "python",
   "nbconvert_exporter": "python",
   "pygments_lexer": "ipython3",
   "version": "3.6.8"
  }
 },
 "nbformat": 4,
 "nbformat_minor": 5
}
