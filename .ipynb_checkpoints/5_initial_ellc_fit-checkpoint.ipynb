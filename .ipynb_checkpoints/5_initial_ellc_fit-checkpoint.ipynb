{
 "cells": [
  {
   "cell_type": "code",
   "execution_count": 2,
   "id": "79e82334-0b4e-498e-a522-b36c33683a45",
   "metadata": {},
   "outputs": [
    {
     "ename": "ModuleNotFoundError",
     "evalue": "No module named 'numpy'",
     "output_type": "error",
     "traceback": [
      "\u001b[0;31m---------------------------------------------------------------------------\u001b[0m",
      "\u001b[0;31mModuleNotFoundError\u001b[0m                       Traceback (most recent call last)",
      "Input \u001b[0;32mIn [2]\u001b[0m, in \u001b[0;36m<cell line: 1>\u001b[0;34m()\u001b[0m\n\u001b[0;32m----> 1\u001b[0m \u001b[38;5;28;01mimport\u001b[39;00m \u001b[38;5;21;01mnumpy\u001b[39;00m \u001b[38;5;28;01mas\u001b[39;00m \u001b[38;5;21;01mnp\u001b[39;00m\n\u001b[1;32m      2\u001b[0m \u001b[38;5;28;01mimport\u001b[39;00m \u001b[38;5;21;01mmatplotlib\u001b[39;00m\u001b[38;5;21;01m.\u001b[39;00m\u001b[38;5;21;01mpyplot\u001b[39;00m \u001b[38;5;28;01mas\u001b[39;00m \u001b[38;5;21;01mplt\u001b[39;00m\n\u001b[1;32m      3\u001b[0m \u001b[38;5;28;01mimport\u001b[39;00m \u001b[38;5;21;01mellc\u001b[39;00m\n",
      "\u001b[0;31mModuleNotFoundError\u001b[0m: No module named 'numpy'"
     ]
    }
   ],
   "source": [
    "import numpy as np\n",
    "import matplotlib.pyplot as plt\n",
    "import ellc"
   ]
  },
  {
   "cell_type": "markdown",
   "id": "1cd40d4a-cbd7-4673-b25b-4aaf2c3ae5f7",
   "metadata": {},
   "source": [
    "## Performing an ELLC fit to the TESS lightcurve data\n"
   ]
  },
  {
   "cell_type": "code",
   "execution_count": 1,
   "id": "0a293c75-b384-4d3e-9634-ec6e50100ff6",
   "metadata": {},
   "outputs": [],
   "source": [
    "# TODO: extract the timestamps, fluxes, and flux errors for your TESS object \n",
    "# TESS lightcurves are located in /scratch/submit/tess/data/tesscurl_sector_{sector_number}_lc\n",
    "t = []\n",
    "y = []\n",
    "dy = []"
   ]
  },
  {
   "cell_type": "code",
   "execution_count": 2,
   "id": "fdd37061-ba47-414f-973a-bc4ff544d49d",
   "metadata": {},
   "outputs": [],
   "source": [
    "def array_ellc_model(params, t, period):\n",
    "    A = params[0]\n",
    "    t_zero = params[1]\n",
    "    radius_1 = params[2]\n",
    "    radius_2 = params[3]\n",
    "    incl = params[4]\n",
    "    sbratio = params[5]\n",
    "    heat_1 = params[6]\n",
    "    heat_2 = params[7]\n",
    "    q = params[8]\n",
    "    try:\n",
    "        model = A * ellc.lc(\n",
    "            t,\n",
    "            t_zero=t_zero,\n",
    "            q=q,\n",
    "            radius_1=radius_1,\n",
    "            radius_2=radius_2,\n",
    "            incl=incl,\n",
    "            sbratio=sbratio,\n",
    "            shape_1=\"roche\",\n",
    "            shape_2=\"roche\",\n",
    "            period=period,\n",
    "            heat_1=heat_1,\n",
    "            heat_2=heat_2,\n",
    "        )\n",
    "    except:\n",
    "        print(\"Failed with parameters: \", params)\n",
    "        return t * 10**99\n",
    "\n",
    "    return model\n",
    "\n",
    "\n",
    "def fcn2min(params, t, y, dy, period):\n",
    "    model = array_ellc_model(params, t, period)\n",
    "    residuals = (y - model) / dy\n",
    "    return np.sum(residuals**2)"
   ]
  },
  {
   "cell_type": "code",
   "execution_count": null,
   "id": "aaea3c63-cc01-4c49-bcd2-cf6f2fb3baec",
   "metadata": {},
   "outputs": [],
   "source": [
    "guess = [\n",
    "    1,  # scaling factor\n",
    "    5.72234658e-03,  # t_zero\n",
    "    0.05,  # radius_1\n",
    "    3.91802709e-01,  # radius_2\n",
    "    8.08703949e01,  # incl\n",
    "    0.2,  # sbratio\n",
    "    0.8,  # heat_1\n",
    "    0.5,  # heat_2\n",
    "    0.7,  # q\n",
    "]\n",
    "bounds = [\n",
    "    (0.9, 1.2),  # A = scaling factor for light curve\n",
    "    (0.0057, 0.0058),  # t_zero\n",
    "    (0.01, 0.18),  # radius_1\n",
    "    (0.3, 0.41),  # radius_2\n",
    "    (80, 90),  # incl\n",
    "    (0, 1),  # sbratio\n",
    "    (0, 10),  # heat_1\n",
    "    (0, 10),  # heat_2\n",
    "    (0.1, 1.0),  # q\n",
    "]\n",
    "# TODO: if we knew the period beforehand, this would make the curve-fitting a lot faster and easier. How can we obtain the period for the light curve?\n",
    "period = 0\n",
    "\n",
    "res = minimize(\n",
    "    array_fcn2min, x0=guess, args=(t, y, dy, period), method=\"powell\", bounds=bounds\n",
    ")"
   ]
  },
  {
   "cell_type": "code",
   "execution_count": null,
   "id": "cbb1c2d4-b11d-427b-8f66-8236041dd40a",
   "metadata": {},
   "outputs": [],
   "source": [
    "print(res.x)"
   ]
  }
 ],
 "metadata": {
  "kernelspec": {
   "display_name": "tess",
   "language": "python",
   "name": "tess"
  },
  "language_info": {
   "codemirror_mode": {
    "name": "ipython",
    "version": 3
   },
   "file_extension": ".py",
   "mimetype": "text/x-python",
   "name": "python",
   "nbconvert_exporter": "python",
   "pygments_lexer": "ipython3",
   "version": "3.9.13"
  }
 },
 "nbformat": 4,
 "nbformat_minor": 5
}
