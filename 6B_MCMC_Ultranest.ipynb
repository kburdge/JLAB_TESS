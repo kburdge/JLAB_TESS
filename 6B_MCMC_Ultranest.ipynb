{
 "cells": [
  {
   "cell_type": "code",
   "execution_count": 1,
   "id": "f0a768a6-1ba1-4b9f-9ebf-db189488777d",
   "metadata": {},
   "outputs": [],
   "source": [
    "### import all of the important modules\n",
    "import numpy as np\n",
    "import matplotlib\n",
    "import matplotlib.pyplot as plt\n",
    "import scipy.stats as ss\n",
    "import corner\n",
    "import ultranest\n",
    "import ellc\n",
    "from astropy.io import fits"
   ]
  },
  {
   "cell_type": "code",
   "execution_count": 2,
   "id": "8fe82b09-4772-49dd-be27-730ab6550325",
   "metadata": {},
   "outputs": [],
   "source": [
    "### define a name for the parameters\n",
    "param_names = [\"r1\",\"r2\",\"incl\",\"t_zero\",\"sbratio\",\"A\"]"
   ]
  },
  {
   "cell_type": "code",
   "execution_count": 3,
   "id": "ade9540b-ea0c-480d-90c4-19d4b70f0094",
   "metadata": {},
   "outputs": [
    {
     "name": "stdout",
     "output_type": "stream",
     "text": [
      "time: [1468.27727442 1468.27866335 1468.28005229 ... 1490.04703722 1490.0484261\n",
      " 1490.04981498]\n",
      "flux: [464.35312 484.94705 494.5493  ... 525.1879  519.09064 532.0367 ]\n",
      "flux_error: [7.4157424 7.444608  7.4689903 ... 7.8826923 7.8806467 7.8857975]\n",
      "RA: 103.6293848603147\n",
      "Dec: 8.92575385596458\n"
     ]
    },
    {
     "data": {
      "image/png": "[encoded data removed]",
      "text/plain": [
       "<Figure size 432x288 with 1 Axes>"
      ]
     },
     "metadata": {
      "needs_background": "light"
     },
     "output_type": "display_data"
    }
   ],
   "source": [
    "### define a function to read in the data (this is the same function that we have used in the previous modules)\n",
    "def load_LC(f):\n",
    "    hdul = fits.open(f)\n",
    "    t = hdul[1].data[\"TIME\"]\n",
    "    y = hdul[1].data[\"PDCSAP_FLUX\"]\n",
    "    dy = hdul[1].data[\"PDCSAP_FLUX_ERR\"]\n",
    "    \"\"\"\n",
    "    The RA and Dec represent the astronomical coordinates of the object. \n",
    "    These will be useful later for further investigating the source.\n",
    "    \"\"\"\n",
    "    RA = hdul[1].header[\"RA_OBJ\"]\n",
    "    Dec = hdul[1].header[\"DEC_OBJ\"]\n",
    "    idx = y > 0\n",
    "    t = t[idx]\n",
    "    y = y[idx]\n",
    "    dy = dy[idx]\n",
    "\n",
    "    return t, y, dy, RA, Dec\n",
    "\n",
    "### using the function, read in the data\n",
    "t, y, dy, RA, Dec = load_LC('/scratch/submit/tess/data/tesscurl_sector_6_lc/tess2018349182500-s0006-0000000235385233-0126-s_lc.fits')\n",
    "\n",
    "# we can print the parameters / plot the data to make sure that it was correctly read in\n",
    "print('time:', t)\n",
    "print('flux:', y)\n",
    "print('flux_error:', dy)\n",
    "print('RA:', RA)\n",
    "print('Dec:', Dec)\n",
    "plt.errorbar(t, y, dy)\n",
    "plt.xlim(1470, 1471)\n",
    "plt.show()"
   ]
  },
  {
   "cell_type": "code",
   "execution_count": 4,
   "id": "e5d7f200-b7f4-44cc-ae2d-caaac2ed5fda",
   "metadata": {},
   "outputs": [],
   "source": [
    "# in order to use ultranest, we need to define a function that gives the prior transform\n",
    "# to define these functions, we use the following general form for a uniform distribution\n",
    "# params[n] = cube[n] * (hi - lo) + lo\n",
    "# where n indicates the n-th parameter for which we are fitting for, and 'hi' and 'lo' are the max and min values respectively\n",
    "\n",
    "# for the example lightcurve, we found that the fit parameters were:\n",
    "    # A_fit = 529.7\n",
    "    # r1_fit = 0.2428\n",
    "    # r2_fit = 0.1416\n",
    "    # incl_fit = 80.45\n",
    "    # sbratio_fit = 1.111\n",
    "    # t_zero_fit = 0.00517\n",
    "# from the initial ellc fit (as described in module 5)\n",
    "\n",
    "# hint: what are some contraints that we can place on the bounds based on the physics and the geometry of the system?\n",
    "# could we define some reasonable bounds based on the intial fits from module 5?\n",
    "    # e.g., what is the absolute bounds on inclination? is there a more reasonable range within this where we expect eclipses?\n",
    "\n",
    "param_names = [\"r1\",\"r2\",\"incl\",\"t_zero\",\"sbratio\",\"A\"]\n",
    "\n",
    "def my_prior_transform(cube):\n",
    "    params = cube.copy()\n",
    "    params[0] = cube[0]*0.01 + 0.24 #r1\n",
    "    params[1] = cube[1]*0.01 + 0.14 #r2\n",
    "    params[2] = cube[2]*2 + 80 #incl\n",
    "    params[3] = cube[3]* 0.01 + 0.0 #t_zero\n",
    "    params[4] = cube[4]* 2 + 0.01  #sbratio\n",
    "    params[5] = cube[5]*100 + 500 #A\n",
    "    return params"
   ]
  },
  {
   "cell_type": "code",
   "execution_count": 5,
   "id": "ce3d0c54-8f0b-4a8a-9cab-fe55c1fc0af1",
   "metadata": {},
   "outputs": [],
   "source": [
    "### we also need to define the likelihood function \n",
    "### the idea is similar to that of what we do for a chi-squared minimization\n",
    "### note that it is convention to use the log of the likelihood \n",
    "\n",
    "def my_likelihood(cube):\n",
    "    try:\n",
    "        period = 0.4104\n",
    "        r1 = cube[0]\n",
    "        r2 = cube[1]\n",
    "        i = cube[2]\n",
    "        # i = np.arccos(cube[2])*180.0/np.pi\n",
    "        q=1\n",
    "        t_zero = cube[3]\n",
    "        sbratio = cube[4]\n",
    "        A = cube[5]\n",
    "        '''\n",
    "        here we use ellc (introduced in module 4) as our model\n",
    "        and we use the chi_squared value to define the likelihood function\n",
    "        '''\n",
    "        if r1<0.49*(1/q)**(2/3)/(0.6*(1/q)**(2/3)+np.log(1+(1/q)**(1/3))) and r2<0.49*(q)**(2/3)/(0.6*(q)**(2/3)+np.log(1+(q)**(1/3))):\n",
    "            model=A*ellc.lc(t_obs=t,radius_1=r1,radius_2=r2,sbratio=sbratio,incl=i,t_zero=t_zero,period=period,q=q,shape_1='roche',shape_2='roche')\n",
    "            chisq=((model-y)/dy)**2\n",
    "            log_prob=-0.5*chisq.sum()\n",
    "        else:\n",
    "            log_prob=-1e99\n",
    "    except Exception as e:\n",
    "        log_prob = -1e99\n",
    "        print(e)\n",
    "    print(log_prob)\n",
    "    return log_prob\n",
    "param_names = [\"r1\",\"r2\",\"incl\",\"t_zero\",\"sbratio\",\"A\"]\n",
    "def my_prior_transform(cube):\n",
    "    params = cube.copy()\n",
    "    params[0] = cube[0]*0.2 + 0.1 #r1\n",
    "    params[1] = cube[1]*0.2 + 0.1 #r2\n",
    "    params[2] = cube[2]*30 + 70 #incl\n",
    "    params[3] = cube[3]* 0.4104 + 1468.27727442 #t_zero\n",
    "    params[4] = cube[4]* 10 + 0.01  #sbratio\n",
    "    params[5] = cube[5]*100 + 500 #A\n",
    "    return params"
   ]
  },
  {
   "cell_type": "code",
   "execution_count": 6,
   "id": "3f665d14-a4e9-4dc9-a091-a742d4f405a1",
   "metadata": {},
   "outputs": [
    {
     "name": "stdout",
     "output_type": "stream",
     "text": [
      "Creating directory for new run results/run1\n",
      "-1913314.9260005401\n",
      "-872662.6080938632\n",
      "[ultranest] Sampling 200 live points from prior ...\n",
      "-254720.87047871522\n",
      "-954357.7506718533\n",
      "-227209.70042948844\n",
      "-975335.4154791373\n",
      "-378830.4149416486\n",
      "-105527.29757973255\n",
      "-320245.145333662\n",
      "-511707.9336335426\n",
      "-961374.1807012655\n",
      "-527141.9262840137\n",
      "-799309.9594283599\n",
      "-590369.3743877405\n",
      "-488745.0463843013\n",
      "-524075.66912350786\n"
     ]
    },
    {
     "ename": "KeyboardInterrupt",
     "evalue": "",
     "output_type": "error",
     "traceback": [
      "\u001b[0;31m---------------------------------------------------------------------------\u001b[0m",
      "\u001b[0;31mKeyboardInterrupt\u001b[0m                         Traceback (most recent call last)",
      "Input \u001b[0;32mIn [6]\u001b[0m, in \u001b[0;36m<cell line: 2>\u001b[0;34m()\u001b[0m\n\u001b[1;32m      1\u001b[0m sampler \u001b[38;5;241m=\u001b[39m ultranest\u001b[38;5;241m.\u001b[39mReactiveNestedSampler(param_names, my_likelihood, my_prior_transform,log_dir\u001b[38;5;241m=\u001b[39m\u001b[38;5;124m'\u001b[39m\u001b[38;5;124mresults\u001b[39m\u001b[38;5;124m'\u001b[39m) \u001b[38;5;66;03m#,resume=True)\u001b[39;00m\n\u001b[0;32m----> 2\u001b[0m result \u001b[38;5;241m=\u001b[39m \u001b[43msampler\u001b[49m\u001b[38;5;241;43m.\u001b[39;49m\u001b[43mrun\u001b[49m\u001b[43m(\u001b[49m\u001b[43mmin_num_live_points\u001b[49m\u001b[38;5;241;43m=\u001b[39;49m\u001b[38;5;241;43m200\u001b[39;49m\u001b[43m,\u001b[49m\u001b[43m \u001b[49m\u001b[43mdKL\u001b[49m\u001b[38;5;241;43m=\u001b[39;49m\u001b[43mnp\u001b[49m\u001b[38;5;241;43m.\u001b[39;49m\u001b[43minf\u001b[49m\u001b[43m,\u001b[49m\u001b[43m \u001b[49m\u001b[43mmin_ess\u001b[49m\u001b[38;5;241;43m=\u001b[39;49m\u001b[38;5;241;43m50\u001b[39;49m\u001b[43m)\u001b[49m\n\u001b[1;32m      3\u001b[0m sampler\u001b[38;5;241m.\u001b[39mprint_results()\n\u001b[1;32m      4\u001b[0m \u001b[38;5;28;01mfrom\u001b[39;00m \u001b[38;5;21;01multranest\u001b[39;00m\u001b[38;5;21;01m.\u001b[39;00m\u001b[38;5;21;01mplot\u001b[39;00m \u001b[38;5;28;01mimport\u001b[39;00m cornerplot\n",
      "File \u001b[0;32m/work/submit/lisablom/miniforge3/envs/special/lib/python3.9/site-packages/ultranest/integrator.py:2173\u001b[0m, in \u001b[0;36mReactiveNestedSampler.run\u001b[0;34m(self, update_interval_volume_fraction, update_interval_ncall, log_interval, show_status, viz_callback, dlogz, dKL, frac_remain, Lepsilon, min_ess, max_iters, max_ncalls, max_num_improvement_loops, min_num_live_points, cluster_num_live_points, insertion_test_window, insertion_test_zscore_threshold, region_class)\u001b[0m\n\u001b[1;32m   2081\u001b[0m \u001b[38;5;28;01mdef\u001b[39;00m \u001b[38;5;21mrun\u001b[39m(\n\u001b[1;32m   2082\u001b[0m         \u001b[38;5;28mself\u001b[39m,\n\u001b[1;32m   2083\u001b[0m         update_interval_volume_fraction\u001b[38;5;241m=\u001b[39m\u001b[38;5;241m0.8\u001b[39m,\n\u001b[0;32m   (...)\u001b[0m\n\u001b[1;32m   2100\u001b[0m         region_class\u001b[38;5;241m=\u001b[39mMLFriends,\n\u001b[1;32m   2101\u001b[0m ):\n\u001b[1;32m   2102\u001b[0m     \u001b[38;5;124;03m\"\"\"Run until target convergence criteria are fulfilled.\u001b[39;00m\n\u001b[1;32m   2103\u001b[0m \n\u001b[1;32m   2104\u001b[0m \u001b[38;5;124;03m    Parameters\u001b[39;00m\n\u001b[0;32m   (...)\u001b[0m\n\u001b[1;32m   2171\u001b[0m \u001b[38;5;124;03m        or just ellipsoidal sampling (faster for high-dimensional, gaussian-like problems).\u001b[39;00m\n\u001b[1;32m   2172\u001b[0m \u001b[38;5;124;03m    \"\"\"\u001b[39;00m\n\u001b[0;32m-> 2173\u001b[0m     \u001b[38;5;28;01mfor\u001b[39;00m result \u001b[38;5;129;01min\u001b[39;00m \u001b[38;5;28mself\u001b[39m\u001b[38;5;241m.\u001b[39mrun_iter(\n\u001b[1;32m   2174\u001b[0m         update_interval_volume_fraction\u001b[38;5;241m=\u001b[39mupdate_interval_volume_fraction,\n\u001b[1;32m   2175\u001b[0m         update_interval_ncall\u001b[38;5;241m=\u001b[39mupdate_interval_ncall,\n\u001b[1;32m   2176\u001b[0m         log_interval\u001b[38;5;241m=\u001b[39mlog_interval,\n\u001b[1;32m   2177\u001b[0m         dlogz\u001b[38;5;241m=\u001b[39mdlogz, dKL\u001b[38;5;241m=\u001b[39mdKL,\n\u001b[1;32m   2178\u001b[0m         Lepsilon\u001b[38;5;241m=\u001b[39mLepsilon, frac_remain\u001b[38;5;241m=\u001b[39mfrac_remain,\n\u001b[1;32m   2179\u001b[0m         min_ess\u001b[38;5;241m=\u001b[39mmin_ess, max_iters\u001b[38;5;241m=\u001b[39mmax_iters,\n\u001b[1;32m   2180\u001b[0m         max_ncalls\u001b[38;5;241m=\u001b[39mmax_ncalls, max_num_improvement_loops\u001b[38;5;241m=\u001b[39mmax_num_improvement_loops,\n\u001b[1;32m   2181\u001b[0m         min_num_live_points\u001b[38;5;241m=\u001b[39mmin_num_live_points,\n\u001b[1;32m   2182\u001b[0m         cluster_num_live_points\u001b[38;5;241m=\u001b[39mcluster_num_live_points,\n\u001b[1;32m   2183\u001b[0m         show_status\u001b[38;5;241m=\u001b[39mshow_status,\n\u001b[1;32m   2184\u001b[0m         viz_callback\u001b[38;5;241m=\u001b[39mviz_callback,\n\u001b[1;32m   2185\u001b[0m         insertion_test_window\u001b[38;5;241m=\u001b[39minsertion_test_window,\n\u001b[1;32m   2186\u001b[0m         insertion_test_zscore_threshold\u001b[38;5;241m=\u001b[39minsertion_test_zscore_threshold,\n\u001b[1;32m   2187\u001b[0m         region_class\u001b[38;5;241m=\u001b[39mregion_class,\n\u001b[1;32m   2188\u001b[0m     ):\n\u001b[1;32m   2189\u001b[0m         \u001b[38;5;28;01mif\u001b[39;00m \u001b[38;5;28mself\u001b[39m\u001b[38;5;241m.\u001b[39mlog:\n\u001b[1;32m   2190\u001b[0m             \u001b[38;5;28mself\u001b[39m\u001b[38;5;241m.\u001b[39mlogger\u001b[38;5;241m.\u001b[39mdebug(\u001b[38;5;124m\"\u001b[39m\u001b[38;5;124mdid a run_iter pass!\u001b[39m\u001b[38;5;124m\"\u001b[39m)\n",
      "File \u001b[0;32m/work/submit/lisablom/miniforge3/envs/special/lib/python3.9/site-packages/ultranest/integrator.py:2264\u001b[0m, in \u001b[0;36mReactiveNestedSampler.run_iter\u001b[0;34m(self, update_interval_volume_fraction, update_interval_ncall, log_interval, dlogz, dKL, frac_remain, Lepsilon, min_ess, max_iters, max_ncalls, max_num_improvement_loops, min_num_live_points, cluster_num_live_points, show_status, viz_callback, insertion_test_window, insertion_test_zscore_threshold, region_class)\u001b[0m\n\u001b[1;32m   2261\u001b[0m \u001b[38;5;28;01mif\u001b[39;00m viz_callback \u001b[38;5;241m==\u001b[39m \u001b[38;5;124m'\u001b[39m\u001b[38;5;124mauto\u001b[39m\u001b[38;5;124m'\u001b[39m:\n\u001b[1;32m   2262\u001b[0m     viz_callback \u001b[38;5;241m=\u001b[39m get_default_viz_callback()\n\u001b[0;32m-> 2264\u001b[0m \u001b[38;5;28;43mself\u001b[39;49m\u001b[38;5;241;43m.\u001b[39;49m\u001b[43m_widen_roots\u001b[49m\u001b[43m(\u001b[49m\u001b[43mmin_num_live_points\u001b[49m\u001b[43m)\u001b[49m\n\u001b[1;32m   2266\u001b[0m Llo, Lhi \u001b[38;5;241m=\u001b[39m \u001b[38;5;241m-\u001b[39mnp\u001b[38;5;241m.\u001b[39minf, np\u001b[38;5;241m.\u001b[39minf\n\u001b[1;32m   2267\u001b[0m Lmax \u001b[38;5;241m=\u001b[39m \u001b[38;5;241m-\u001b[39mnp\u001b[38;5;241m.\u001b[39minf\n",
      "File \u001b[0;32m/work/submit/lisablom/miniforge3/envs/special/lib/python3.9/site-packages/ultranest/integrator.py:1347\u001b[0m, in \u001b[0;36mReactiveNestedSampler._widen_roots\u001b[0;34m(self, nroots)\u001b[0m\n\u001b[1;32m   1345\u001b[0m     active_u \u001b[38;5;241m=\u001b[39m np\u001b[38;5;241m.\u001b[39mrandom\u001b[38;5;241m.\u001b[39muniform(size\u001b[38;5;241m=\u001b[39m(num_live_points_todo, \u001b[38;5;28mself\u001b[39m\u001b[38;5;241m.\u001b[39mx_dim))\n\u001b[1;32m   1346\u001b[0m     active_v \u001b[38;5;241m=\u001b[39m \u001b[38;5;28mself\u001b[39m\u001b[38;5;241m.\u001b[39mtransform(active_u)\n\u001b[0;32m-> 1347\u001b[0m     active_logl \u001b[38;5;241m=\u001b[39m \u001b[38;5;28;43mself\u001b[39;49m\u001b[38;5;241;43m.\u001b[39;49m\u001b[43mloglike\u001b[49m\u001b[43m(\u001b[49m\u001b[43mactive_v\u001b[49m\u001b[43m)\u001b[49m\n\u001b[1;32m   1348\u001b[0m \u001b[38;5;28;01melse\u001b[39;00m:\n\u001b[1;32m   1349\u001b[0m     active_u \u001b[38;5;241m=\u001b[39m np\u001b[38;5;241m.\u001b[39mempty((\u001b[38;5;241m0\u001b[39m, \u001b[38;5;28mself\u001b[39m\u001b[38;5;241m.\u001b[39mx_dim))\n",
      "File \u001b[0;32m/work/submit/lisablom/miniforge3/envs/special/lib/python3.9/site-packages/ultranest/utils.py:131\u001b[0m, in \u001b[0;36mvectorize.<locals>.vectorized\u001b[0;34m(args)\u001b[0m\n\u001b[1;32m    129\u001b[0m \u001b[38;5;28;01mdef\u001b[39;00m \u001b[38;5;21mvectorized\u001b[39m(args):\n\u001b[1;32m    130\u001b[0m     \u001b[38;5;124;03m\"\"\"Vectorized version of function.\"\"\"\u001b[39;00m\n\u001b[0;32m--> 131\u001b[0m     \u001b[38;5;28;01mreturn\u001b[39;00m np\u001b[38;5;241m.\u001b[39masarray([function(arg) \u001b[38;5;28;01mfor\u001b[39;00m arg \u001b[38;5;129;01min\u001b[39;00m args])\n",
      "File \u001b[0;32m/work/submit/lisablom/miniforge3/envs/special/lib/python3.9/site-packages/ultranest/utils.py:131\u001b[0m, in \u001b[0;36m<listcomp>\u001b[0;34m(.0)\u001b[0m\n\u001b[1;32m    129\u001b[0m \u001b[38;5;28;01mdef\u001b[39;00m \u001b[38;5;21mvectorized\u001b[39m(args):\n\u001b[1;32m    130\u001b[0m     \u001b[38;5;124;03m\"\"\"Vectorized version of function.\"\"\"\u001b[39;00m\n\u001b[0;32m--> 131\u001b[0m     \u001b[38;5;28;01mreturn\u001b[39;00m np\u001b[38;5;241m.\u001b[39masarray([\u001b[43mfunction\u001b[49m\u001b[43m(\u001b[49m\u001b[43marg\u001b[49m\u001b[43m)\u001b[49m \u001b[38;5;28;01mfor\u001b[39;00m arg \u001b[38;5;129;01min\u001b[39;00m args])\n",
      "Input \u001b[0;32mIn [5]\u001b[0m, in \u001b[0;36mmy_likelihood\u001b[0;34m(cube)\u001b[0m\n\u001b[1;32m     16\u001b[0m \u001b[38;5;124;03m'''\u001b[39;00m\n\u001b[1;32m     17\u001b[0m \u001b[38;5;124;03mhere we use ellc (introduced in module 4) as our model\u001b[39;00m\n\u001b[1;32m     18\u001b[0m \u001b[38;5;124;03mand we use the chi_squared value to define the likelihood function\u001b[39;00m\n\u001b[1;32m     19\u001b[0m \u001b[38;5;124;03m'''\u001b[39;00m\n\u001b[1;32m     20\u001b[0m \u001b[38;5;28;01mif\u001b[39;00m r1\u001b[38;5;241m<\u001b[39m\u001b[38;5;241m0.49\u001b[39m\u001b[38;5;241m*\u001b[39m(\u001b[38;5;241m1\u001b[39m\u001b[38;5;241m/\u001b[39mq)\u001b[38;5;241m*\u001b[39m\u001b[38;5;241m*\u001b[39m(\u001b[38;5;241m2\u001b[39m\u001b[38;5;241m/\u001b[39m\u001b[38;5;241m3\u001b[39m)\u001b[38;5;241m/\u001b[39m(\u001b[38;5;241m0.6\u001b[39m\u001b[38;5;241m*\u001b[39m(\u001b[38;5;241m1\u001b[39m\u001b[38;5;241m/\u001b[39mq)\u001b[38;5;241m*\u001b[39m\u001b[38;5;241m*\u001b[39m(\u001b[38;5;241m2\u001b[39m\u001b[38;5;241m/\u001b[39m\u001b[38;5;241m3\u001b[39m)\u001b[38;5;241m+\u001b[39mnp\u001b[38;5;241m.\u001b[39mlog(\u001b[38;5;241m1\u001b[39m\u001b[38;5;241m+\u001b[39m(\u001b[38;5;241m1\u001b[39m\u001b[38;5;241m/\u001b[39mq)\u001b[38;5;241m*\u001b[39m\u001b[38;5;241m*\u001b[39m(\u001b[38;5;241m1\u001b[39m\u001b[38;5;241m/\u001b[39m\u001b[38;5;241m3\u001b[39m))) \u001b[38;5;129;01mand\u001b[39;00m r2\u001b[38;5;241m<\u001b[39m\u001b[38;5;241m0.49\u001b[39m\u001b[38;5;241m*\u001b[39m(q)\u001b[38;5;241m*\u001b[39m\u001b[38;5;241m*\u001b[39m(\u001b[38;5;241m2\u001b[39m\u001b[38;5;241m/\u001b[39m\u001b[38;5;241m3\u001b[39m)\u001b[38;5;241m/\u001b[39m(\u001b[38;5;241m0.6\u001b[39m\u001b[38;5;241m*\u001b[39m(q)\u001b[38;5;241m*\u001b[39m\u001b[38;5;241m*\u001b[39m(\u001b[38;5;241m2\u001b[39m\u001b[38;5;241m/\u001b[39m\u001b[38;5;241m3\u001b[39m)\u001b[38;5;241m+\u001b[39mnp\u001b[38;5;241m.\u001b[39mlog(\u001b[38;5;241m1\u001b[39m\u001b[38;5;241m+\u001b[39m(q)\u001b[38;5;241m*\u001b[39m\u001b[38;5;241m*\u001b[39m(\u001b[38;5;241m1\u001b[39m\u001b[38;5;241m/\u001b[39m\u001b[38;5;241m3\u001b[39m))):\n\u001b[0;32m---> 21\u001b[0m     model\u001b[38;5;241m=\u001b[39mA\u001b[38;5;241m*\u001b[39m\u001b[43mellc\u001b[49m\u001b[38;5;241;43m.\u001b[39;49m\u001b[43mlc\u001b[49m\u001b[43m(\u001b[49m\u001b[43mt_obs\u001b[49m\u001b[38;5;241;43m=\u001b[39;49m\u001b[43mt\u001b[49m\u001b[43m,\u001b[49m\u001b[43mradius_1\u001b[49m\u001b[38;5;241;43m=\u001b[39;49m\u001b[43mr1\u001b[49m\u001b[43m,\u001b[49m\u001b[43mradius_2\u001b[49m\u001b[38;5;241;43m=\u001b[39;49m\u001b[43mr2\u001b[49m\u001b[43m,\u001b[49m\u001b[43msbratio\u001b[49m\u001b[38;5;241;43m=\u001b[39;49m\u001b[43msbratio\u001b[49m\u001b[43m,\u001b[49m\u001b[43mincl\u001b[49m\u001b[38;5;241;43m=\u001b[39;49m\u001b[43mi\u001b[49m\u001b[43m,\u001b[49m\u001b[43mt_zero\u001b[49m\u001b[38;5;241;43m=\u001b[39;49m\u001b[43mt_zero\u001b[49m\u001b[43m,\u001b[49m\u001b[43mperiod\u001b[49m\u001b[38;5;241;43m=\u001b[39;49m\u001b[43mperiod\u001b[49m\u001b[43m,\u001b[49m\u001b[43mq\u001b[49m\u001b[38;5;241;43m=\u001b[39;49m\u001b[43mq\u001b[49m\u001b[43m,\u001b[49m\u001b[43mshape_1\u001b[49m\u001b[38;5;241;43m=\u001b[39;49m\u001b[38;5;124;43m'\u001b[39;49m\u001b[38;5;124;43mroche\u001b[39;49m\u001b[38;5;124;43m'\u001b[39;49m\u001b[43m,\u001b[49m\u001b[43mshape_2\u001b[49m\u001b[38;5;241;43m=\u001b[39;49m\u001b[38;5;124;43m'\u001b[39;49m\u001b[38;5;124;43mroche\u001b[39;49m\u001b[38;5;124;43m'\u001b[39;49m\u001b[43m)\u001b[49m\n\u001b[1;32m     22\u001b[0m     chisq\u001b[38;5;241m=\u001b[39m((model\u001b[38;5;241m-\u001b[39my)\u001b[38;5;241m/\u001b[39mdy)\u001b[38;5;241m*\u001b[39m\u001b[38;5;241m*\u001b[39m\u001b[38;5;241m2\u001b[39m\n\u001b[1;32m     23\u001b[0m     log_prob\u001b[38;5;241m=\u001b[39m\u001b[38;5;241m-\u001b[39m\u001b[38;5;241m0.5\u001b[39m\u001b[38;5;241m*\u001b[39mchisq\u001b[38;5;241m.\u001b[39msum()\n",
      "File \u001b[0;32m/work/submit/lisablom/miniforge3/envs/special/lib/python3.9/site-packages/ellc/lc.py:605\u001b[0m, in \u001b[0;36mlc\u001b[0;34m(t_obs, radius_1, radius_2, sbratio, incl, light_3, t_zero, period, a, q, f_c, f_s, ldc_1, ldc_2, gdc_1, gdc_2, didt, domdt, rotfac_1, rotfac_2, hf_1, hf_2, bfac_1, bfac_2, heat_1, heat_2, lambda_1, lambda_2, vsini_1, vsini_2, t_exp, n_int, grid_1, grid_2, ld_1, ld_2, shape_1, shape_2, spots_1, spots_2, exact_grav, verbose)\u001b[0m\n\u001b[1;32m    602\u001b[0m     \u001b[38;5;28;01melse\u001b[39;00m:\n\u001b[1;32m    603\u001b[0m       w_calc \u001b[38;5;241m=\u001b[39m np\u001b[38;5;241m.\u001b[39mappend(w_calc, np\u001b[38;5;241m.\u001b[39mones_like(t_obs_i)\u001b[38;5;241m/\u001b[39m(i_int\u001b[38;5;241m-\u001b[39m\u001b[38;5;241m1.\u001b[39m))\n\u001b[0;32m--> 605\u001b[0m lc_rv_flags \u001b[38;5;241m=\u001b[39m \u001b[43mellc_f\u001b[49m\u001b[38;5;241;43m.\u001b[39;49m\u001b[43mellc\u001b[49m\u001b[38;5;241;43m.\u001b[39;49m\u001b[43mlc\u001b[49m\u001b[43m(\u001b[49m\u001b[43mt_calc\u001b[49m\u001b[43m,\u001b[49m\u001b[43mpar\u001b[49m\u001b[43m,\u001b[49m\u001b[43mipar\u001b[49m\u001b[43m,\u001b[49m\u001b[43mspar_1\u001b[49m\u001b[43m,\u001b[49m\u001b[43mspar_2\u001b[49m\u001b[43m,\u001b[49m\n\u001b[1;32m    606\u001b[0m \u001b[43m              \u001b[49m\u001b[43mn_mugrid_1\u001b[49m\u001b[43m,\u001b[49m\u001b[43m \u001b[49m\u001b[43mmugrid_1\u001b[49m\u001b[43m,\u001b[49m\u001b[43mn_mugrid_2\u001b[49m\u001b[43m,\u001b[49m\u001b[43m \u001b[49m\u001b[43mmugrid_2\u001b[49m\u001b[43m,\u001b[49m\u001b[43m \u001b[49m\u001b[43mverbose\u001b[49m\u001b[43m)\u001b[49m\n\u001b[1;32m    607\u001b[0m \u001b[38;5;28;01mif\u001b[39;00m ((np\u001b[38;5;241m.\u001b[39msum(np\u001b[38;5;241m.\u001b[39misnan(lc_rv_flags)) \u001b[38;5;241m>\u001b[39m \u001b[38;5;241m0\u001b[39m )) \u001b[38;5;241m&\u001b[39m (verbose \u001b[38;5;241m>\u001b[39m \u001b[38;5;241m0\u001b[39m):\n\u001b[1;32m    608\u001b[0m   lc_dummy \u001b[38;5;241m=\u001b[39m ellc_f\u001b[38;5;241m.\u001b[39mellc\u001b[38;5;241m.\u001b[39mlc(t_calc,par,ipar,spar_1,spar_2,\n\u001b[1;32m    609\u001b[0m              n_mugrid_1, mugrid_1,n_mugrid_2, mugrid_2,\u001b[38;5;241m9\u001b[39m)\n",
      "\u001b[0;31mKeyboardInterrupt\u001b[0m: "
     ]
    }
   ],
   "source": [
    "### with all of the required functions defined, we are finally ready to run ultranest\n",
    "\n",
    "sampler = ultranest.ReactiveNestedSampler(param_names, my_likelihood, my_prior_transform,log_dir='results') #,resume=True)\n",
    "result = sampler.run(min_num_live_points=200, dKL=np.inf, min_ess=50)\n",
    "sampler.print_results()\n",
    "\n",
    "### we can display the results as a corner plot\n",
    "from ultranest.plot import cornerplot\n",
    "cornerplot(result)\n",
    "plt.savefig('UltranestMCMC.jpg')"
   ]
  },
  {
   "cell_type": "code",
   "execution_count": null,
   "id": "dd63fce0-f0b2-48b5-8257-bb2448e902a2",
   "metadata": {},
   "outputs": [],
   "source": []
  },
  {
   "cell_type": "code",
   "execution_count": null,
   "id": "14b0b5e1-5a96-4c00-8bb0-14c77529693e",
   "metadata": {},
   "outputs": [],
   "source": []
  },
  {
   "cell_type": "code",
   "execution_count": null,
   "id": "5a6d4bf5-8ede-4021-be5b-b4d84a0bc137",
   "metadata": {},
   "outputs": [],
   "source": []
  }
 ],
 "metadata": {
  "kernelspec": {
   "display_name": "special",
   "language": "python",
   "name": "special"
  },
  "language_info": {
   "codemirror_mode": {
    "name": "ipython",
    "version": 3
   },
   "file_extension": ".py",
   "mimetype": "text/x-python",
   "name": "python",
   "nbconvert_exporter": "python",
   "pygments_lexer": "ipython3",
   "version": "3.9.13"
  }
 },
 "nbformat": 4,
 "nbformat_minor": 5
}
