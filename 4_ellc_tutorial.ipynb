{
 "cells": [
  {
   "cell_type": "code",
   "execution_count": 18,
   "id": "8611fc4c-8718-4378-a92a-fc178568035f",
   "metadata": {},
   "outputs": [],
   "source": [
    "# We demonstrate how to use ellc to generate light curves from inputting binary star system parameters \n",
    "# relating to the radii, semi-major axis, inclination angle, surface brightness ratio, etc \n",
    "# below is a basic turotial to get you started with using ellc\n",
    "# For a more detailed explanation you can refer to: https://github.com/pmaxted/ellc/blob/master/lc.py"
   ]
  },
  {
   "cell_type": "code",
   "execution_count": 17,
   "id": "8eaad8e6-87bf-474c-b430-6fd2d41f9c93",
   "metadata": {},
   "outputs": [],
   "source": [
    "# import the nexessary packages:\n",
    "import numpy as np\n",
    "import matplotlib.pyplot as plt\n",
    "import ellc"
   ]
  },
  {
   "cell_type": "markdown",
   "id": "b4c797e5-8deb-49d8-8ec9-38e8711b60ea",
   "metadata": {},
   "source": [
    "## Generating a light curve with basic parameters"
   ]
  },
  {
   "cell_type": "code",
   "execution_count": 10,
   "id": "e47a66bd-0e3d-49d2-918b-177c2afffde3",
   "metadata": {},
   "outputs": [],
   "source": [
    "# generate timestamps\n",
    "t = np.arange(0, 50, 0.05)"
   ]
  },
  {
   "cell_type": "code",
   "execution_count": 11,
   "id": "b59419af-2fa7-453f-b045-08fd2274e00f",
   "metadata": {},
   "outputs": [],
   "source": [
    "# We start off by setting the most basic parameters for ELLC's lightcurve model\n",
    "\n",
    "scaling_factor = 2\n",
    "radius_1 = 0.3 # this is the ratio between star 1's radius and the semi-major axis for the system, meaning that 0.0 < radius_1 < 1.0\n",
    "radius_2 = 0.3 # radius of the other star in the binary system\n",
    "incl = 85 # viewing angle between the observer's line-of-sight and the normal to the plane of orbit. (90 degrees means that the two stars are exactly aligned in your line of sight)\n",
    "t_zero = 3 # timestamp for a primary eclipse to happen. Adjust this parameter to time-shift the light curve.\n",
    "sbratio = 0.1 # surface brightness ratio between star 2 and star 1.\n",
    "period = 20\n",
    "\n",
    "# note that there is no specified units for the period and t_zero, they can be treated in units of time or as a phase (unitless)\n",
    "\n",
    "model = scaling_factor * ellc.lc(\n",
    "    t_obs=t,\n",
    "    radius_1=radius_1,\n",
    "    radius_2=radius_2,\n",
    "    incl=incl,\n",
    "    t_zero=t_zero,\n",
    "    sbratio=sbratio,\n",
    "    period=period,\n",
    ")"
   ]
  },
  {
   "cell_type": "code",
   "execution_count": 12,
   "id": "94b7e44c-a2d3-4a61-aa44-dff66db70460",
   "metadata": {},
   "outputs": [
    {
     "data": {
      "text/plain": [
       "<matplotlib.collections.PathCollection at 0x7f2ea2279a00>"
      ]
     },
     "execution_count": 12,
     "metadata": {},
     "output_type": "execute_result"
    },
    {
     "data": {
      "image/png": "[encoded data removed]",
      "text/plain": [
       "<Figure size 432x288 with 1 Axes>"
      ]
     },
     "metadata": {
      "needs_background": "light"
     },
     "output_type": "display_data"
    }
   ],
   "source": [
    "# Plot the synthetically generated light curve.\n",
    "# The plot shows the primary eclipses happening at t_zero and subsequent times offset by multiples of the period\n",
    "# The graph is overall flat outside the eclipses-- this will change once we add in more parameters such as in the next section!\n",
    "plt.scatter(t, model)"
   ]
  },
  {
   "cell_type": "markdown",
   "id": "3000b8de-f67c-49a8-a193-971f72210ded",
   "metadata": {},
   "source": [
    "## Adding more parameters into the mix"
   ]
  },
  {
   "cell_type": "code",
   "execution_count": 13,
   "id": "c8d925b3-3780-43ba-8d52-686e2850d3c0",
   "metadata": {},
   "outputs": [],
   "source": [
    "# For example, we can specify the shape parameters of the star (shape_1 and shape_2). \n",
    "# The default settings model the stars as rigid, non-deformable objects, but setting the shape parameters\n",
    "# to 'roche' allows ELLC to model star deformations from the gravitational forces that exist between the stars.\n",
    "scaling_factor = 2\n",
    "radius_1 = 0.3\n",
    "radius_2 = 0.3\n",
    "incl = 85\n",
    "t_zero = 0.5\n",
    "sbratio = 10\n",
    "period = 20\n",
    "\n",
    "\n",
    "model = scaling_factor * ellc.lc(\n",
    "    t_obs=t,\n",
    "    radius_1=radius_1,\n",
    "    radius_2=radius_2,\n",
    "    incl=incl,\n",
    "    t_zero=t_zero,\n",
    "    sbratio=sbratio,\n",
    "    shape_1=\"roche\",\n",
    "    shape_2=\"roche\",\n",
    "    period=period,\n",
    ")"
   ]
  },
  {
   "cell_type": "code",
   "execution_count": 14,
   "id": "ba4a38c1-a9cb-48ed-abfc-1dcb437d70c0",
   "metadata": {},
   "outputs": [
    {
     "data": {
      "text/plain": [
       "<matplotlib.collections.PathCollection at 0x7f2ea2266850>"
      ]
     },
     "execution_count": 14,
     "metadata": {},
     "output_type": "execute_result"
    },
    {
     "data": {
      "image/png": "[encoded data removed]",
      "text/plain": [
       "<Figure size 432x288 with 1 Axes>"
      ]
     },
     "metadata": {
      "needs_background": "light"
     },
     "output_type": "display_data"
    }
   ],
   "source": [
    "# As a result, the light curves have rounded sections outside the eclipses due to the contributions of flux from the stars' deformations.\n",
    "plt.scatter(t, model)"
   ]
  },
  {
   "cell_type": "code",
   "execution_count": 15,
   "id": "79f2471e-d417-492d-aeb8-309410d81ee0",
   "metadata": {},
   "outputs": [],
   "source": [
    "# There are many, many more parameters you can add in to the model (relating to heat, reflection, gravity-darkening, eccentricity, etc.)\n",
    "# You may explore how these additional parameters affect the light curve if you decide to spend additional time exploring ELLC, but\n",
    "# they will not be necessary for this lab.\n",
    "# To see the complete list of these parameters as well as an explanation for them refer to the documenation linked at the top of this module.\n",
    "\n",
    "# We saw how the shape parameter affects the model above; let's explore one more parameters below.\n",
    "# We will leave the rest of exploration up to you!\n",
    "\n",
    "# Let's see how adding new parameters, heat_1 and heat_2, affect the light curve from the previous section.\n",
    "scaling_factor = 2\n",
    "radius_1 = 0.3\n",
    "radius_2 = 0.3\n",
    "incl = 85\n",
    "t_zero = 0.5\n",
    "sbratio = 10\n",
    "period = 20\n",
    "heat_1 = 10\n",
    "heat_2 = 6\n",
    "\n",
    "model = scaling_factor * ellc.lc(\n",
    "    t_obs=t,\n",
    "    radius_1=radius_1,\n",
    "    radius_2=radius_2,\n",
    "    incl=incl,\n",
    "    t_zero=t_zero,\n",
    "    sbratio=sbratio,\n",
    "    heat_1=heat_1,\n",
    "    heat_2=heat_2,\n",
    "    period=period,\n",
    "    shape_1 = 'roche', \n",
    "    shape_2 = 'roche',\n",
    ")"
   ]
  },
  {
   "cell_type": "code",
   "execution_count": 16,
   "id": "0f981da1-e420-4ac7-8f59-bc81dabb0c5d",
   "metadata": {},
   "outputs": [
    {
     "data": {
      "text/plain": [
       "<matplotlib.collections.PathCollection at 0x7f2ea21d5310>"
      ]
     },
     "execution_count": 16,
     "metadata": {},
     "output_type": "execute_result"
    },
    {
     "data": {
      "image/png": "[encoded data removed]",
      "text/plain": [
       "<Figure size 432x288 with 1 Axes>"
      ]
     },
     "metadata": {
      "needs_background": "light"
     },
     "output_type": "display_data"
    }
   ],
   "source": [
    "# Notice how the new heat parameters affect the curvature of the light curve.\n",
    "# The sections outside the eclipses are no longer flat. This is due to the added effects of light from one star reflecting off its companion star, which\n",
    "# are related to the heat coefficients.\n",
    "plt.scatter(t, model)"
   ]
  },
  {
   "cell_type": "code",
   "execution_count": null,
   "id": "52a54218-ca50-48bc-b78b-69d6fb146f75",
   "metadata": {},
   "outputs": [],
   "source": []
  },
  {
   "cell_type": "code",
   "execution_count": null,
   "id": "1e241f7d-0079-43c8-b940-e5cac40d477c",
   "metadata": {},
   "outputs": [],
   "source": []
  }
 ],
 "metadata": {
  "kernelspec": {
   "display_name": "special",
   "language": "python",
   "name": "special"
  },
  "language_info": {
   "codemirror_mode": {
    "name": "ipython",
    "version": 3
   },
   "file_extension": ".py",
   "mimetype": "text/x-python",
   "name": "python",
   "nbconvert_exporter": "python",
   "pygments_lexer": "ipython3",
   "version": "3.9.13"
  }
 },
 "nbformat": 4,
 "nbformat_minor": 5
}
